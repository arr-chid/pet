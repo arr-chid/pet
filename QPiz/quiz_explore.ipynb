{
 "cells": [
  {
   "cell_type": "markdown",
   "id": "72d053aa",
   "metadata": {},
   "source": [
    "# Исследование результатов игр от команды \"Квиз, плиз!\" "
   ]
  },
  {
   "cell_type": "markdown",
   "id": "cba38280",
   "metadata": {},
   "source": [
    "**Актуальность работы:** Для играющих в различные игры иногда интересно посмотреть статистику, топы по различным категориям. На сайте игры представлена некоторая статистика, но она в основном касается количества сыгранных командой игр и набранных очков. Данная работа несколько больше показывает различные стороны игры и заостряет внимание на отдельных её элементах. И вероятно, для какого-то количества людей эта информация будет интересна.\n",
    "\n",
    "**Данные:** Информация была получена с сайта [\"Квиз, плиз!\"](https://spb.quizplease.ru/) и касается игр в городе Санкт-Петербург, начиная с пакета №174 и по пакет №777 для классических игр `[новички] SPB` и `Квиз, плиз! SPB` без стримов и затрагивает период с 2019 по 2024 год. Для более ранних пакетов информация о результатах на сайте отсутствовала. Данные собраны в хронологическом порядке (первые строки самые ранние, последние самые поздние), для каждой игры присутствует сортировка по занятому командой месту. Код для сбора датасета и его очистки также предоставлен в файлах.\n",
    "\n",
    "В данных 43120 строк и 19 столбцов.\n",
    "\n",
    "Столбцы:\n",
    "- place: место команды в конкретной игре;\n",
    "- team_name: название команды;\n",
    "- round_1 - round_7: результаты с 1 по 7 раунды;\n",
    "- total: общее количество баллов за игру;\n",
    "- game_name: название игры;\n",
    "- game_number: номер пакета;\n",
    "- cafe_name: название места проведения;\n",
    "- cafe_adress: адрес места проведения;\n",
    "- date: дата проведения;\n",
    "- url: страница игры на сайте;\n",
    "- day: день проведения;\n",
    "- month: месяц проведения;\n",
    "- year: год проведения;\n",
    "\n",
    "[Ссылка на очищенный датасет](https://disk.yandex.ru/d/84oKFzcDGQyRig)\n",
    "\n",
    "[Ссылка на сырой датасет](https://disk.yandex.ru/d/j8v4NnuUYYhV0Q)\n",
    "\n",
    "**Ход работы:** сначала мы \"познакомимся\" с данными, опишем некоторые меры центральной тенденции, построим несколько графиков, а в конце проверим гипотезу.\n",
    "\n",
    "\n",
    "\n",
    "<a id='Оглавление'> </a>\n",
    "Оглавление:\n",
    "- <a href='#Знакомство'>1. Знакомство с данными</a>\n",
    "- <a href='#Исследование'>2. Исследование данных</a>\n",
    "- <a href='#60'>2.1 Исследование для 60 команд и более</a>\n",
    "- <a href='#Все'>2.2 Исследование для всех игр</a>\n",
    "- <a href='#Графики'>3. Графики</a>\n",
    "- <a href='#Гипотезы'>4. Гипотезы</a>\n",
    "- <a href='#Вывод'>5. Вывод</a>"
   ]
  },
  {
   "cell_type": "code",
   "execution_count": 1,
   "id": "37ea9ca9",
   "metadata": {},
   "outputs": [],
   "source": [
    "# импортируем необходимые библиотеки\n",
    "import pandas as pd\n",
    "import matplotlib.pyplot as plt\n",
    "import seaborn as sns\n",
    "from scipy import stats as st"
   ]
  },
  {
   "cell_type": "markdown",
   "id": "b3d75901",
   "metadata": {},
   "source": [
    "<a id='Знакомство'> </a>\n",
    "\n",
    "## 1. Знакомство с данными"
   ]
  },
  {
   "cell_type": "code",
   "execution_count": 2,
   "id": "9e73d852",
   "metadata": {},
   "outputs": [
    {
     "name": "stdout",
     "output_type": "stream",
     "text": [
      "Данные загружены\n"
     ]
    }
   ],
   "source": [
    "# путь к файлу\n",
    "path = 'quiz_clear_data.csv'\n",
    "\n",
    "try:\n",
    "    df = pd.read_csv(path)\n",
    "    print('Данные загружены')\n",
    "except:\n",
    "    print('Неверный путь до файла!')"
   ]
  },
  {
   "cell_type": "code",
   "execution_count": 3,
   "id": "bbb55159",
   "metadata": {
    "scrolled": true
   },
   "outputs": [
    {
     "data": {
      "text/html": [
       "<div>\n",
       "<style scoped>\n",
       "    .dataframe tbody tr th:only-of-type {\n",
       "        vertical-align: middle;\n",
       "    }\n",
       "\n",
       "    .dataframe tbody tr th {\n",
       "        vertical-align: top;\n",
       "    }\n",
       "\n",
       "    .dataframe thead th {\n",
       "        text-align: right;\n",
       "    }\n",
       "</style>\n",
       "<table border=\"1\" class=\"dataframe\">\n",
       "  <thead>\n",
       "    <tr style=\"text-align: right;\">\n",
       "      <th></th>\n",
       "      <th>place</th>\n",
       "      <th>team_name</th>\n",
       "      <th>round_1</th>\n",
       "      <th>round_2</th>\n",
       "      <th>round_3</th>\n",
       "      <th>round_4</th>\n",
       "      <th>round_5</th>\n",
       "      <th>round_6</th>\n",
       "      <th>round_7</th>\n",
       "      <th>total</th>\n",
       "      <th>game_name</th>\n",
       "      <th>game_number</th>\n",
       "      <th>cafe_name</th>\n",
       "      <th>cafe_adress</th>\n",
       "      <th>date</th>\n",
       "      <th>url</th>\n",
       "      <th>day</th>\n",
       "      <th>month</th>\n",
       "      <th>year</th>\n",
       "    </tr>\n",
       "  </thead>\n",
       "  <tbody>\n",
       "    <tr>\n",
       "      <th>0</th>\n",
       "      <td>1</td>\n",
       "      <td>Дюмасброды</td>\n",
       "      <td>6</td>\n",
       "      <td>4</td>\n",
       "      <td>6</td>\n",
       "      <td>2</td>\n",
       "      <td>6</td>\n",
       "      <td>4</td>\n",
       "      <td>18</td>\n",
       "      <td>46</td>\n",
       "      <td>Квиз, плиз! SPB</td>\n",
       "      <td>777</td>\n",
       "      <td>Хали-Гали</td>\n",
       "      <td>Набережная канала Грибоедова, д. 36</td>\n",
       "      <td>2024-02-12</td>\n",
       "      <td>https://quizplease.ru/game-page?id=72419</td>\n",
       "      <td>12</td>\n",
       "      <td>2</td>\n",
       "      <td>2024</td>\n",
       "    </tr>\n",
       "    <tr>\n",
       "      <th>1</th>\n",
       "      <td>2</td>\n",
       "      <td>Крем Брюллофф</td>\n",
       "      <td>5</td>\n",
       "      <td>5</td>\n",
       "      <td>5</td>\n",
       "      <td>9</td>\n",
       "      <td>4</td>\n",
       "      <td>4</td>\n",
       "      <td>13</td>\n",
       "      <td>45</td>\n",
       "      <td>Квиз, плиз! SPB</td>\n",
       "      <td>777</td>\n",
       "      <td>Хали-Гали</td>\n",
       "      <td>Набережная канала Грибоедова, д. 36</td>\n",
       "      <td>2024-02-12</td>\n",
       "      <td>https://quizplease.ru/game-page?id=72419</td>\n",
       "      <td>12</td>\n",
       "      <td>2</td>\n",
       "      <td>2024</td>\n",
       "    </tr>\n",
       "    <tr>\n",
       "      <th>2</th>\n",
       "      <td>3</td>\n",
       "      <td>Немирович-Данченко</td>\n",
       "      <td>5</td>\n",
       "      <td>5</td>\n",
       "      <td>5</td>\n",
       "      <td>8</td>\n",
       "      <td>4</td>\n",
       "      <td>2</td>\n",
       "      <td>13</td>\n",
       "      <td>42</td>\n",
       "      <td>Квиз, плиз! SPB</td>\n",
       "      <td>777</td>\n",
       "      <td>Хали-Гали</td>\n",
       "      <td>Набережная канала Грибоедова, д. 36</td>\n",
       "      <td>2024-02-12</td>\n",
       "      <td>https://quizplease.ru/game-page?id=72419</td>\n",
       "      <td>12</td>\n",
       "      <td>2</td>\n",
       "      <td>2024</td>\n",
       "    </tr>\n",
       "    <tr>\n",
       "      <th>3</th>\n",
       "      <td>4</td>\n",
       "      <td>Неформальное Объединение Молодёжи</td>\n",
       "      <td>5</td>\n",
       "      <td>5</td>\n",
       "      <td>6</td>\n",
       "      <td>6</td>\n",
       "      <td>5</td>\n",
       "      <td>2</td>\n",
       "      <td>12</td>\n",
       "      <td>41</td>\n",
       "      <td>Квиз, плиз! SPB</td>\n",
       "      <td>777</td>\n",
       "      <td>Хали-Гали</td>\n",
       "      <td>Набережная канала Грибоедова, д. 36</td>\n",
       "      <td>2024-02-12</td>\n",
       "      <td>https://quizplease.ru/game-page?id=72419</td>\n",
       "      <td>12</td>\n",
       "      <td>2</td>\n",
       "      <td>2024</td>\n",
       "    </tr>\n",
       "    <tr>\n",
       "      <th>4</th>\n",
       "      <td>5</td>\n",
       "      <td>Ума по Лайту</td>\n",
       "      <td>5</td>\n",
       "      <td>3</td>\n",
       "      <td>6</td>\n",
       "      <td>6</td>\n",
       "      <td>3</td>\n",
       "      <td>4</td>\n",
       "      <td>12</td>\n",
       "      <td>39</td>\n",
       "      <td>Квиз, плиз! SPB</td>\n",
       "      <td>777</td>\n",
       "      <td>Хали-Гали</td>\n",
       "      <td>Набережная канала Грибоедова, д. 36</td>\n",
       "      <td>2024-02-12</td>\n",
       "      <td>https://quizplease.ru/game-page?id=72419</td>\n",
       "      <td>12</td>\n",
       "      <td>2</td>\n",
       "      <td>2024</td>\n",
       "    </tr>\n",
       "  </tbody>\n",
       "</table>\n",
       "</div>"
      ],
      "text/plain": [
       "   place                          team_name  round_1  round_2  round_3  \\\n",
       "0      1                         Дюмасброды        6        4        6   \n",
       "1      2                      Крем Брюллофф        5        5        5   \n",
       "2      3                 Немирович-Данченко        5        5        5   \n",
       "3      4  Неформальное Объединение Молодёжи        5        5        6   \n",
       "4      5                       Ума по Лайту        5        3        6   \n",
       "\n",
       "   round_4  round_5  round_6  round_7  total        game_name  game_number  \\\n",
       "0        2        6        4       18     46  Квиз, плиз! SPB          777   \n",
       "1        9        4        4       13     45  Квиз, плиз! SPB          777   \n",
       "2        8        4        2       13     42  Квиз, плиз! SPB          777   \n",
       "3        6        5        2       12     41  Квиз, плиз! SPB          777   \n",
       "4        6        3        4       12     39  Квиз, плиз! SPB          777   \n",
       "\n",
       "   cafe_name                          cafe_adress        date  \\\n",
       "0  Хали-Гали  Набережная канала Грибоедова, д. 36  2024-02-12   \n",
       "1  Хали-Гали  Набережная канала Грибоедова, д. 36  2024-02-12   \n",
       "2  Хали-Гали  Набережная канала Грибоедова, д. 36  2024-02-12   \n",
       "3  Хали-Гали  Набережная канала Грибоедова, д. 36  2024-02-12   \n",
       "4  Хали-Гали  Набережная канала Грибоедова, д. 36  2024-02-12   \n",
       "\n",
       "                                        url  day  month  year  \n",
       "0  https://quizplease.ru/game-page?id=72419   12      2  2024  \n",
       "1  https://quizplease.ru/game-page?id=72419   12      2  2024  \n",
       "2  https://quizplease.ru/game-page?id=72419   12      2  2024  \n",
       "3  https://quizplease.ru/game-page?id=72419   12      2  2024  \n",
       "4  https://quizplease.ru/game-page?id=72419   12      2  2024  "
      ]
     },
     "execution_count": 3,
     "metadata": {},
     "output_type": "execute_result"
    }
   ],
   "source": [
    "df.head()"
   ]
  },
  {
   "cell_type": "code",
   "execution_count": 4,
   "id": "38cb22d6",
   "metadata": {},
   "outputs": [
    {
     "data": {
      "text/plain": [
       "(43120, 19)"
      ]
     },
     "execution_count": 4,
     "metadata": {},
     "output_type": "execute_result"
    }
   ],
   "source": [
    "df.shape"
   ]
  },
  {
   "cell_type": "code",
   "execution_count": 5,
   "id": "5deab929",
   "metadata": {
    "scrolled": false
   },
   "outputs": [
    {
     "data": {
      "text/html": [
       "<div>\n",
       "<style scoped>\n",
       "    .dataframe tbody tr th:only-of-type {\n",
       "        vertical-align: middle;\n",
       "    }\n",
       "\n",
       "    .dataframe tbody tr th {\n",
       "        vertical-align: top;\n",
       "    }\n",
       "\n",
       "    .dataframe thead th {\n",
       "        text-align: right;\n",
       "    }\n",
       "</style>\n",
       "<table border=\"1\" class=\"dataframe\">\n",
       "  <thead>\n",
       "    <tr style=\"text-align: right;\">\n",
       "      <th></th>\n",
       "      <th>place</th>\n",
       "      <th>round_1</th>\n",
       "      <th>round_2</th>\n",
       "      <th>round_3</th>\n",
       "      <th>round_4</th>\n",
       "      <th>round_5</th>\n",
       "      <th>round_6</th>\n",
       "      <th>round_7</th>\n",
       "      <th>total</th>\n",
       "      <th>game_number</th>\n",
       "      <th>day</th>\n",
       "      <th>month</th>\n",
       "      <th>year</th>\n",
       "    </tr>\n",
       "  </thead>\n",
       "  <tbody>\n",
       "    <tr>\n",
       "      <th>count</th>\n",
       "      <td>43120.000000</td>\n",
       "      <td>43120.000000</td>\n",
       "      <td>43120.000000</td>\n",
       "      <td>43120.000000</td>\n",
       "      <td>43120.000000</td>\n",
       "      <td>43120.000000</td>\n",
       "      <td>43120.000000</td>\n",
       "      <td>43120.000000</td>\n",
       "      <td>43120.000000</td>\n",
       "      <td>43120.000000</td>\n",
       "      <td>43120.000000</td>\n",
       "      <td>43120.000000</td>\n",
       "      <td>43120.000000</td>\n",
       "    </tr>\n",
       "    <tr>\n",
       "      <th>mean</th>\n",
       "      <td>16.932004</td>\n",
       "      <td>4.387662</td>\n",
       "      <td>3.824629</td>\n",
       "      <td>3.709160</td>\n",
       "      <td>5.811851</td>\n",
       "      <td>3.842857</td>\n",
       "      <td>1.837083</td>\n",
       "      <td>7.679615</td>\n",
       "      <td>31.091860</td>\n",
       "      <td>524.447635</td>\n",
       "      <td>15.416953</td>\n",
       "      <td>6.708047</td>\n",
       "      <td>2021.878641</td>\n",
       "    </tr>\n",
       "    <tr>\n",
       "      <th>std</th>\n",
       "      <td>11.224919</td>\n",
       "      <td>1.161727</td>\n",
       "      <td>1.569733</td>\n",
       "      <td>1.401791</td>\n",
       "      <td>2.994233</td>\n",
       "      <td>1.701332</td>\n",
       "      <td>1.843871</td>\n",
       "      <td>5.026982</td>\n",
       "      <td>10.744089</td>\n",
       "      <td>178.078300</td>\n",
       "      <td>8.692991</td>\n",
       "      <td>3.558367</td>\n",
       "      <td>1.342882</td>\n",
       "    </tr>\n",
       "    <tr>\n",
       "      <th>min</th>\n",
       "      <td>1.000000</td>\n",
       "      <td>0.000000</td>\n",
       "      <td>0.000000</td>\n",
       "      <td>0.000000</td>\n",
       "      <td>-5.000000</td>\n",
       "      <td>0.000000</td>\n",
       "      <td>0.000000</td>\n",
       "      <td>-12.000000</td>\n",
       "      <td>-10.000000</td>\n",
       "      <td>174.000000</td>\n",
       "      <td>1.000000</td>\n",
       "      <td>1.000000</td>\n",
       "      <td>2019.000000</td>\n",
       "    </tr>\n",
       "    <tr>\n",
       "      <th>25%</th>\n",
       "      <td>8.000000</td>\n",
       "      <td>4.000000</td>\n",
       "      <td>3.000000</td>\n",
       "      <td>3.000000</td>\n",
       "      <td>4.000000</td>\n",
       "      <td>3.000000</td>\n",
       "      <td>0.000000</td>\n",
       "      <td>4.000000</td>\n",
       "      <td>23.000000</td>\n",
       "      <td>384.000000</td>\n",
       "      <td>8.000000</td>\n",
       "      <td>3.000000</td>\n",
       "      <td>2021.000000</td>\n",
       "    </tr>\n",
       "    <tr>\n",
       "      <th>50%</th>\n",
       "      <td>16.000000</td>\n",
       "      <td>4.000000</td>\n",
       "      <td>4.000000</td>\n",
       "      <td>4.000000</td>\n",
       "      <td>6.000000</td>\n",
       "      <td>4.000000</td>\n",
       "      <td>2.000000</td>\n",
       "      <td>7.000000</td>\n",
       "      <td>31.000000</td>\n",
       "      <td>560.000000</td>\n",
       "      <td>15.000000</td>\n",
       "      <td>7.000000</td>\n",
       "      <td>2022.000000</td>\n",
       "    </tr>\n",
       "    <tr>\n",
       "      <th>75%</th>\n",
       "      <td>24.000000</td>\n",
       "      <td>5.000000</td>\n",
       "      <td>5.000000</td>\n",
       "      <td>5.000000</td>\n",
       "      <td>8.000000</td>\n",
       "      <td>5.000000</td>\n",
       "      <td>4.000000</td>\n",
       "      <td>12.000000</td>\n",
       "      <td>39.000000</td>\n",
       "      <td>675.000000</td>\n",
       "      <td>23.000000</td>\n",
       "      <td>10.000000</td>\n",
       "      <td>2023.000000</td>\n",
       "    </tr>\n",
       "    <tr>\n",
       "      <th>max</th>\n",
       "      <td>71.000000</td>\n",
       "      <td>6.000000</td>\n",
       "      <td>6.000000</td>\n",
       "      <td>6.000000</td>\n",
       "      <td>12.000000</td>\n",
       "      <td>6.000000</td>\n",
       "      <td>6.000000</td>\n",
       "      <td>18.000000</td>\n",
       "      <td>60.000000</td>\n",
       "      <td>777.000000</td>\n",
       "      <td>31.000000</td>\n",
       "      <td>12.000000</td>\n",
       "      <td>2024.000000</td>\n",
       "    </tr>\n",
       "  </tbody>\n",
       "</table>\n",
       "</div>"
      ],
      "text/plain": [
       "              place       round_1       round_2       round_3       round_4  \\\n",
       "count  43120.000000  43120.000000  43120.000000  43120.000000  43120.000000   \n",
       "mean      16.932004      4.387662      3.824629      3.709160      5.811851   \n",
       "std       11.224919      1.161727      1.569733      1.401791      2.994233   \n",
       "min        1.000000      0.000000      0.000000      0.000000     -5.000000   \n",
       "25%        8.000000      4.000000      3.000000      3.000000      4.000000   \n",
       "50%       16.000000      4.000000      4.000000      4.000000      6.000000   \n",
       "75%       24.000000      5.000000      5.000000      5.000000      8.000000   \n",
       "max       71.000000      6.000000      6.000000      6.000000     12.000000   \n",
       "\n",
       "            round_5       round_6       round_7         total   game_number  \\\n",
       "count  43120.000000  43120.000000  43120.000000  43120.000000  43120.000000   \n",
       "mean       3.842857      1.837083      7.679615     31.091860    524.447635   \n",
       "std        1.701332      1.843871      5.026982     10.744089    178.078300   \n",
       "min        0.000000      0.000000    -12.000000    -10.000000    174.000000   \n",
       "25%        3.000000      0.000000      4.000000     23.000000    384.000000   \n",
       "50%        4.000000      2.000000      7.000000     31.000000    560.000000   \n",
       "75%        5.000000      4.000000     12.000000     39.000000    675.000000   \n",
       "max        6.000000      6.000000     18.000000     60.000000    777.000000   \n",
       "\n",
       "                day         month          year  \n",
       "count  43120.000000  43120.000000  43120.000000  \n",
       "mean      15.416953      6.708047   2021.878641  \n",
       "std        8.692991      3.558367      1.342882  \n",
       "min        1.000000      1.000000   2019.000000  \n",
       "25%        8.000000      3.000000   2021.000000  \n",
       "50%       15.000000      7.000000   2022.000000  \n",
       "75%       23.000000     10.000000   2023.000000  \n",
       "max       31.000000     12.000000   2024.000000  "
      ]
     },
     "execution_count": 5,
     "metadata": {},
     "output_type": "execute_result"
    }
   ],
   "source": [
    "df.describe()"
   ]
  },
  {
   "cell_type": "markdown",
   "id": "02528de3",
   "metadata": {},
   "source": [
    "Ничего необычного нет, данные подготовлены, очки в раундах соответствуют возможным."
   ]
  },
  {
   "cell_type": "code",
   "execution_count": 6,
   "id": "b1bc2a63",
   "metadata": {},
   "outputs": [
    {
     "data": {
      "text/plain": [
       "array(['Квиз, плиз! SPB', '[новички] SPB'], dtype=object)"
      ]
     },
     "execution_count": 6,
     "metadata": {},
     "output_type": "execute_result"
    }
   ],
   "source": [
    "df['game_name'].unique()"
   ]
  },
  {
   "cell_type": "markdown",
   "id": "03be3e51",
   "metadata": {},
   "source": [
    "В данных информация о двух типах игр."
   ]
  },
  {
   "cell_type": "code",
   "execution_count": 7,
   "id": "de3043c2",
   "metadata": {},
   "outputs": [],
   "source": [
    "df_new = df[df['game_name'] == '[новички] SPB']\n",
    "df_old = df[df['game_name'] != '[новички] SPB']"
   ]
  },
  {
   "cell_type": "code",
   "execution_count": 8,
   "id": "07725d77",
   "metadata": {
    "scrolled": false
   },
   "outputs": [
    {
     "name": "stdout",
     "output_type": "stream",
     "text": [
      "Количество игр: 1426\n",
      "Количество игр для новичков: 97\n",
      "Количество обычных игр: 1329\n",
      "Количество уникальных пакетов: 601\n",
      "Количество уникальных пакетов для новичков: 97\n",
      "Количество уникальных пакетов обычных игр: 600\n"
     ]
    }
   ],
   "source": [
    "print('Количество игр: {}'.format(len(set(\n",
    "    [i for i in zip(df['game_number'], df['game_name'], df['date'])])))\n",
    ")\n",
    "print('Количество игр для новичков: {}'.format(len(set(\n",
    "    [i for i in zip(df_new['game_number'], df_new['game_name'], df_new['date'])])))\n",
    ")\n",
    "print('Количество обычных игр: {}'.format(len(set(\n",
    "    [i for i in zip(df_old['game_number'], df_old['game_name'], df_old['date'])])))\n",
    ")\n",
    "print('Количество уникальных пакетов: {}'.format(df['game_number'].nunique()))\n",
    "print('Количество уникальных пакетов для новичков: {}'.format(df_new['game_number'].nunique()))\n",
    "print('Количество уникальных пакетов обычных игр: {}'.format(df_old['game_number'].nunique()))"
   ]
  },
  {
   "cell_type": "markdown",
   "id": "c7c759c3",
   "metadata": {},
   "source": [
    "Игры новичков проходят на тех же пакетах, что и обычные"
   ]
  },
  {
   "cell_type": "code",
   "execution_count": 9,
   "id": "16fdf3dc",
   "metadata": {
    "scrolled": true
   },
   "outputs": [
    {
     "data": {
      "text/plain": [
       "round_1     4.387662\n",
       "round_2     3.824629\n",
       "round_3     3.709160\n",
       "round_4     5.811851\n",
       "round_5     3.842857\n",
       "round_6     1.837083\n",
       "round_7     7.679615\n",
       "total      31.091860\n",
       "dtype: float64"
      ]
     },
     "execution_count": 9,
     "metadata": {},
     "output_type": "execute_result"
    }
   ],
   "source": [
    "df.loc[:, 'round_1':'total'].mean()"
   ]
  },
  {
   "cell_type": "markdown",
   "id": "de665a9d",
   "metadata": {},
   "source": [
    "Средние значения по отдельной игре (не пакету)."
   ]
  },
  {
   "cell_type": "markdown",
   "id": "74296fdd",
   "metadata": {},
   "source": [
    "___"
   ]
  },
  {
   "cell_type": "markdown",
   "id": "598bcb5b",
   "metadata": {},
   "source": [
    "**Данные чистые, выбивающихся значений нет**\n",
    "\n",
    "<a href='#Оглавление'>Возврат к оглавлению</a>"
   ]
  },
  {
   "cell_type": "markdown",
   "id": "02cd5a0c",
   "metadata": {},
   "source": [
    "<a id='Исследование'> </a>\n",
    "\n",
    "## 2. Исследование данных"
   ]
  },
  {
   "cell_type": "markdown",
   "id": "bdb51cd8",
   "metadata": {},
   "source": [
    "Сформируем таблицу, с которой будем работать в данном разделе"
   ]
  },
  {
   "cell_type": "code",
   "execution_count": 10,
   "id": "00f067f4",
   "metadata": {},
   "outputs": [
    {
     "data": {
      "text/html": [
       "<div>\n",
       "<style scoped>\n",
       "    .dataframe tbody tr th:only-of-type {\n",
       "        vertical-align: middle;\n",
       "    }\n",
       "\n",
       "    .dataframe tbody tr th {\n",
       "        vertical-align: top;\n",
       "    }\n",
       "\n",
       "    .dataframe thead th {\n",
       "        text-align: right;\n",
       "    }\n",
       "</style>\n",
       "<table border=\"1\" class=\"dataframe\">\n",
       "  <thead>\n",
       "    <tr style=\"text-align: right;\">\n",
       "      <th></th>\n",
       "      <th>team_count</th>\n",
       "      <th>round_1</th>\n",
       "      <th>round_2</th>\n",
       "      <th>round_3</th>\n",
       "      <th>round_4</th>\n",
       "      <th>round_5</th>\n",
       "      <th>round_6</th>\n",
       "      <th>round_7</th>\n",
       "      <th>total</th>\n",
       "    </tr>\n",
       "    <tr>\n",
       "      <th>game_number</th>\n",
       "      <th></th>\n",
       "      <th></th>\n",
       "      <th></th>\n",
       "      <th></th>\n",
       "      <th></th>\n",
       "      <th></th>\n",
       "      <th></th>\n",
       "      <th></th>\n",
       "      <th></th>\n",
       "    </tr>\n",
       "  </thead>\n",
       "  <tbody>\n",
       "    <tr>\n",
       "      <th>174</th>\n",
       "      <td>66</td>\n",
       "      <td>3.73</td>\n",
       "      <td>3.55</td>\n",
       "      <td>1.86</td>\n",
       "      <td>6.67</td>\n",
       "      <td>5.11</td>\n",
       "      <td>2.64</td>\n",
       "      <td>9.35</td>\n",
       "      <td>32.89</td>\n",
       "    </tr>\n",
       "    <tr>\n",
       "      <th>175</th>\n",
       "      <td>63</td>\n",
       "      <td>5.02</td>\n",
       "      <td>2.49</td>\n",
       "      <td>4.37</td>\n",
       "      <td>6.27</td>\n",
       "      <td>3.75</td>\n",
       "      <td>1.08</td>\n",
       "      <td>6.97</td>\n",
       "      <td>29.94</td>\n",
       "    </tr>\n",
       "    <tr>\n",
       "      <th>176</th>\n",
       "      <td>72</td>\n",
       "      <td>4.38</td>\n",
       "      <td>3.18</td>\n",
       "      <td>3.53</td>\n",
       "      <td>2.86</td>\n",
       "      <td>4.15</td>\n",
       "      <td>3.50</td>\n",
       "      <td>7.62</td>\n",
       "      <td>29.22</td>\n",
       "    </tr>\n",
       "    <tr>\n",
       "      <th>177</th>\n",
       "      <td>73</td>\n",
       "      <td>4.99</td>\n",
       "      <td>4.90</td>\n",
       "      <td>3.67</td>\n",
       "      <td>7.64</td>\n",
       "      <td>5.56</td>\n",
       "      <td>2.99</td>\n",
       "      <td>11.84</td>\n",
       "      <td>41.59</td>\n",
       "    </tr>\n",
       "    <tr>\n",
       "      <th>178</th>\n",
       "      <td>78</td>\n",
       "      <td>4.68</td>\n",
       "      <td>5.09</td>\n",
       "      <td>3.21</td>\n",
       "      <td>6.86</td>\n",
       "      <td>2.72</td>\n",
       "      <td>2.04</td>\n",
       "      <td>12.40</td>\n",
       "      <td>36.99</td>\n",
       "    </tr>\n",
       "  </tbody>\n",
       "</table>\n",
       "</div>"
      ],
      "text/plain": [
       "             team_count  round_1  round_2  round_3  round_4  round_5  round_6  \\\n",
       "game_number                                                                     \n",
       "174                  66     3.73     3.55     1.86     6.67     5.11     2.64   \n",
       "175                  63     5.02     2.49     4.37     6.27     3.75     1.08   \n",
       "176                  72     4.38     3.18     3.53     2.86     4.15     3.50   \n",
       "177                  73     4.99     4.90     3.67     7.64     5.56     2.99   \n",
       "178                  78     4.68     5.09     3.21     6.86     2.72     2.04   \n",
       "\n",
       "             round_7  total  \n",
       "game_number                  \n",
       "174             9.35  32.89  \n",
       "175             6.97  29.94  \n",
       "176             7.62  29.22  \n",
       "177            11.84  41.59  \n",
       "178            12.40  36.99  "
      ]
     },
     "execution_count": 10,
     "metadata": {},
     "output_type": "execute_result"
    }
   ],
   "source": [
    "# сгруппируем таблицу по пакетам игр, посчитаем количество команд и средние для каждого раунда и суммы баллов\n",
    "df_grouped = (\n",
    "    df.\n",
    "    groupby('game_number').\n",
    "    agg({\n",
    "        'team_name': 'count',\n",
    "        'round_1': 'mean',\n",
    "        'round_2': 'mean',\n",
    "        'round_3': 'mean',\n",
    "        'round_4': 'mean',\n",
    "        'round_5': 'mean',\n",
    "        'round_6': 'mean',\n",
    "        'round_7': 'mean',\n",
    "        'total': 'mean'\n",
    "    }\n",
    "    )\n",
    "    .rename(columns={'team_name': 'team_count'})\n",
    "    .round(2)\n",
    ")\n",
    "\n",
    "df_grouped.head()"
   ]
  },
  {
   "cell_type": "markdown",
   "id": "3768706f",
   "metadata": {},
   "source": [
    "*Сколько команд в среднем играет каждый пакет?*"
   ]
  },
  {
   "cell_type": "code",
   "execution_count": 11,
   "id": "2040c062",
   "metadata": {
    "scrolled": true
   },
   "outputs": [
    {
     "data": {
      "text/plain": [
       "71.75"
      ]
     },
     "execution_count": 11,
     "metadata": {},
     "output_type": "execute_result"
    }
   ],
   "source": [
    "round(df_grouped['team_count'].mean(), 2)"
   ]
  },
  {
   "cell_type": "markdown",
   "id": "c1f6a6df",
   "metadata": {},
   "source": [
    "В среднем каждый пакет играет 72 команды."
   ]
  },
  {
   "cell_type": "markdown",
   "id": "d0755931",
   "metadata": {},
   "source": [
    "Ранее мы увидели, что в датасете информация о 1426 играх. Найдём среднее количество команд на игре."
   ]
  },
  {
   "cell_type": "code",
   "execution_count": 12,
   "id": "a3c87aff",
   "metadata": {},
   "outputs": [
    {
     "data": {
      "text/plain": [
       "30.24"
      ]
     },
     "execution_count": 12,
     "metadata": {},
     "output_type": "execute_result"
    }
   ],
   "source": [
    "round(len(df)/1426, 2)"
   ]
  },
  {
   "cell_type": "markdown",
   "id": "ab5bfac6",
   "metadata": {},
   "source": [
    "В среднем на одной игре присутсвует 30 команд"
   ]
  },
  {
   "cell_type": "markdown",
   "id": "67b522cb",
   "metadata": {},
   "source": [
    "**Для дальнейшего исследования в этой части мы посмотрим пакеты, где сыграло 60 и более команд. Так как нам кажется, что 2 игры это хорошая выборка, а для некоторой части старых игр может не быть достаточно данных, что может повлиять на результат. Но мы всё равно отдельно представим результаты по всем пакетами для сравнения и сделаем сводную таблицу.**"
   ]
  },
  {
   "cell_type": "markdown",
   "id": "2a223787",
   "metadata": {},
   "source": [
    "___"
   ]
  },
  {
   "cell_type": "markdown",
   "id": "8200764a",
   "metadata": {},
   "source": [
    "<a id='60'> </a>\n",
    "\n",
    "### 2.1 Исследование для 60 команд и более"
   ]
  },
  {
   "cell_type": "markdown",
   "id": "c97c6912",
   "metadata": {},
   "source": [
    "Посмотрим общее количество пакетов и сколько пакетов сыграло 60 и более команд."
   ]
  },
  {
   "cell_type": "code",
   "execution_count": 13,
   "id": "977053f2",
   "metadata": {},
   "outputs": [
    {
     "name": "stdout",
     "output_type": "stream",
     "text": [
      "Общее количество пакетов: 601\n",
      "Пакеты на которых сыграло 60 и более команд: 357\n"
     ]
    }
   ],
   "source": [
    "print('Общее количество пакетов: {}'.format(df_grouped['total'].count()))\n",
    "print('Пакеты на которых сыграло 60 и более команд: {}'.format(df_grouped[df_grouped['team_count'] >= 60]['total'].count()))"
   ]
  },
  {
   "cell_type": "code",
   "execution_count": 14,
   "id": "52db5ed6",
   "metadata": {},
   "outputs": [],
   "source": [
    "# создадим списки, которые будем добавлять информацию для сводной таблицы, которую представим в конце раздела\n",
    "point_60 = []\n",
    "game_60 = []\n",
    "\n",
    "point_all = []\n",
    "game_all = []\n",
    "\n",
    "feature = []"
   ]
  },
  {
   "cell_type": "markdown",
   "id": "7159650c",
   "metadata": {},
   "source": [
    "*Какие пакеты были самыми сложными? Найдём топ-5 по суммарному количеству баллов.*"
   ]
  },
  {
   "cell_type": "code",
   "execution_count": 15,
   "id": "2f238a42",
   "metadata": {},
   "outputs": [
    {
     "data": {
      "text/html": [
       "<div>\n",
       "<style scoped>\n",
       "    .dataframe tbody tr th:only-of-type {\n",
       "        vertical-align: middle;\n",
       "    }\n",
       "\n",
       "    .dataframe tbody tr th {\n",
       "        vertical-align: top;\n",
       "    }\n",
       "\n",
       "    .dataframe thead th {\n",
       "        text-align: right;\n",
       "    }\n",
       "</style>\n",
       "<table border=\"1\" class=\"dataframe\">\n",
       "  <thead>\n",
       "    <tr style=\"text-align: right;\">\n",
       "      <th></th>\n",
       "      <th>team_count</th>\n",
       "      <th>round_1</th>\n",
       "      <th>round_2</th>\n",
       "      <th>round_3</th>\n",
       "      <th>round_4</th>\n",
       "      <th>round_5</th>\n",
       "      <th>round_6</th>\n",
       "      <th>round_7</th>\n",
       "      <th>total</th>\n",
       "    </tr>\n",
       "    <tr>\n",
       "      <th>game_number</th>\n",
       "      <th></th>\n",
       "      <th></th>\n",
       "      <th></th>\n",
       "      <th></th>\n",
       "      <th></th>\n",
       "      <th></th>\n",
       "      <th></th>\n",
       "      <th></th>\n",
       "      <th></th>\n",
       "    </tr>\n",
       "  </thead>\n",
       "  <tbody>\n",
       "    <tr>\n",
       "      <th>657</th>\n",
       "      <td>132</td>\n",
       "      <td>3.25</td>\n",
       "      <td>2.43</td>\n",
       "      <td>1.80</td>\n",
       "      <td>3.15</td>\n",
       "      <td>2.98</td>\n",
       "      <td>2.21</td>\n",
       "      <td>5.45</td>\n",
       "      <td>21.29</td>\n",
       "    </tr>\n",
       "    <tr>\n",
       "      <th>640</th>\n",
       "      <td>136</td>\n",
       "      <td>3.88</td>\n",
       "      <td>4.04</td>\n",
       "      <td>2.54</td>\n",
       "      <td>3.30</td>\n",
       "      <td>1.99</td>\n",
       "      <td>0.91</td>\n",
       "      <td>4.70</td>\n",
       "      <td>21.35</td>\n",
       "    </tr>\n",
       "    <tr>\n",
       "      <th>648</th>\n",
       "      <td>112</td>\n",
       "      <td>3.62</td>\n",
       "      <td>3.54</td>\n",
       "      <td>3.35</td>\n",
       "      <td>3.35</td>\n",
       "      <td>3.68</td>\n",
       "      <td>0.41</td>\n",
       "      <td>3.96</td>\n",
       "      <td>21.91</td>\n",
       "    </tr>\n",
       "    <tr>\n",
       "      <th>631</th>\n",
       "      <td>113</td>\n",
       "      <td>3.93</td>\n",
       "      <td>2.43</td>\n",
       "      <td>3.54</td>\n",
       "      <td>3.01</td>\n",
       "      <td>2.84</td>\n",
       "      <td>1.03</td>\n",
       "      <td>5.20</td>\n",
       "      <td>21.98</td>\n",
       "    </tr>\n",
       "    <tr>\n",
       "      <th>684</th>\n",
       "      <td>131</td>\n",
       "      <td>3.82</td>\n",
       "      <td>3.66</td>\n",
       "      <td>3.11</td>\n",
       "      <td>4.23</td>\n",
       "      <td>2.36</td>\n",
       "      <td>1.39</td>\n",
       "      <td>3.92</td>\n",
       "      <td>22.48</td>\n",
       "    </tr>\n",
       "  </tbody>\n",
       "</table>\n",
       "</div>"
      ],
      "text/plain": [
       "             team_count  round_1  round_2  round_3  round_4  round_5  round_6  \\\n",
       "game_number                                                                     \n",
       "657                 132     3.25     2.43     1.80     3.15     2.98     2.21   \n",
       "640                 136     3.88     4.04     2.54     3.30     1.99     0.91   \n",
       "648                 112     3.62     3.54     3.35     3.35     3.68     0.41   \n",
       "631                 113     3.93     2.43     3.54     3.01     2.84     1.03   \n",
       "684                 131     3.82     3.66     3.11     4.23     2.36     1.39   \n",
       "\n",
       "             round_7  total  \n",
       "game_number                  \n",
       "657             5.45  21.29  \n",
       "640             4.70  21.35  \n",
       "648             3.96  21.91  \n",
       "631             5.20  21.98  \n",
       "684             3.92  22.48  "
      ]
     },
     "execution_count": 15,
     "metadata": {},
     "output_type": "execute_result"
    }
   ],
   "source": [
    "games = df_grouped[df_grouped['team_count'] >= 60].sort_values(by='total').head()\n",
    "\n",
    "feature.append('hard_game')\n",
    "point_60.append(games['total'].values[0])\n",
    "game_60.append(games.index[0])\n",
    "\n",
    "games"
   ]
  },
  {
   "cell_type": "markdown",
   "id": "39ac8b7f",
   "metadata": {},
   "source": [
    "Самым сложным оказался пакет №657, его сыграли 132 команды, среднее количество набранных баллов 21.29. Интересно, что среднее в 6 и 7 туре у этого пакета выше, чем у других сложных пакетов, а вот во в 2 и 3 раунде меньше остальных."
   ]
  },
  {
   "cell_type": "markdown",
   "id": "cc3ae245",
   "metadata": {},
   "source": [
    "*Какие пакеты были самыми лёгкими? Найдём топ-5.*"
   ]
  },
  {
   "cell_type": "code",
   "execution_count": 16,
   "id": "7dba070e",
   "metadata": {},
   "outputs": [
    {
     "data": {
      "text/html": [
       "<div>\n",
       "<style scoped>\n",
       "    .dataframe tbody tr th:only-of-type {\n",
       "        vertical-align: middle;\n",
       "    }\n",
       "\n",
       "    .dataframe tbody tr th {\n",
       "        vertical-align: top;\n",
       "    }\n",
       "\n",
       "    .dataframe thead th {\n",
       "        text-align: right;\n",
       "    }\n",
       "</style>\n",
       "<table border=\"1\" class=\"dataframe\">\n",
       "  <thead>\n",
       "    <tr style=\"text-align: right;\">\n",
       "      <th></th>\n",
       "      <th>team_count</th>\n",
       "      <th>round_1</th>\n",
       "      <th>round_2</th>\n",
       "      <th>round_3</th>\n",
       "      <th>round_4</th>\n",
       "      <th>round_5</th>\n",
       "      <th>round_6</th>\n",
       "      <th>round_7</th>\n",
       "      <th>total</th>\n",
       "    </tr>\n",
       "    <tr>\n",
       "      <th>game_number</th>\n",
       "      <th></th>\n",
       "      <th></th>\n",
       "      <th></th>\n",
       "      <th></th>\n",
       "      <th></th>\n",
       "      <th></th>\n",
       "      <th></th>\n",
       "      <th></th>\n",
       "      <th></th>\n",
       "    </tr>\n",
       "  </thead>\n",
       "  <tbody>\n",
       "    <tr>\n",
       "      <th>177</th>\n",
       "      <td>73</td>\n",
       "      <td>4.99</td>\n",
       "      <td>4.90</td>\n",
       "      <td>3.67</td>\n",
       "      <td>7.64</td>\n",
       "      <td>5.56</td>\n",
       "      <td>2.99</td>\n",
       "      <td>11.84</td>\n",
       "      <td>41.59</td>\n",
       "    </tr>\n",
       "    <tr>\n",
       "      <th>737</th>\n",
       "      <td>100</td>\n",
       "      <td>5.38</td>\n",
       "      <td>4.27</td>\n",
       "      <td>4.43</td>\n",
       "      <td>6.53</td>\n",
       "      <td>4.71</td>\n",
       "      <td>1.38</td>\n",
       "      <td>14.01</td>\n",
       "      <td>40.71</td>\n",
       "    </tr>\n",
       "    <tr>\n",
       "      <th>185</th>\n",
       "      <td>68</td>\n",
       "      <td>5.00</td>\n",
       "      <td>4.63</td>\n",
       "      <td>3.75</td>\n",
       "      <td>8.68</td>\n",
       "      <td>5.09</td>\n",
       "      <td>1.09</td>\n",
       "      <td>11.34</td>\n",
       "      <td>39.57</td>\n",
       "    </tr>\n",
       "    <tr>\n",
       "      <th>595</th>\n",
       "      <td>77</td>\n",
       "      <td>4.40</td>\n",
       "      <td>5.14</td>\n",
       "      <td>4.49</td>\n",
       "      <td>6.35</td>\n",
       "      <td>3.49</td>\n",
       "      <td>3.38</td>\n",
       "      <td>12.30</td>\n",
       "      <td>39.56</td>\n",
       "    </tr>\n",
       "    <tr>\n",
       "      <th>214</th>\n",
       "      <td>80</td>\n",
       "      <td>3.55</td>\n",
       "      <td>4.80</td>\n",
       "      <td>4.44</td>\n",
       "      <td>6.92</td>\n",
       "      <td>4.36</td>\n",
       "      <td>4.00</td>\n",
       "      <td>11.00</td>\n",
       "      <td>39.08</td>\n",
       "    </tr>\n",
       "  </tbody>\n",
       "</table>\n",
       "</div>"
      ],
      "text/plain": [
       "             team_count  round_1  round_2  round_3  round_4  round_5  round_6  \\\n",
       "game_number                                                                     \n",
       "177                  73     4.99     4.90     3.67     7.64     5.56     2.99   \n",
       "737                 100     5.38     4.27     4.43     6.53     4.71     1.38   \n",
       "185                  68     5.00     4.63     3.75     8.68     5.09     1.09   \n",
       "595                  77     4.40     5.14     4.49     6.35     3.49     3.38   \n",
       "214                  80     3.55     4.80     4.44     6.92     4.36     4.00   \n",
       "\n",
       "             round_7  total  \n",
       "game_number                  \n",
       "177            11.84  41.59  \n",
       "737            14.01  40.71  \n",
       "185            11.34  39.57  \n",
       "595            12.30  39.56  \n",
       "214            11.00  39.08  "
      ]
     },
     "execution_count": 16,
     "metadata": {},
     "output_type": "execute_result"
    }
   ],
   "source": [
    "games = df_grouped[df_grouped['team_count'] >= 60].sort_values(by='total', ascending=False).head()\n",
    "\n",
    "feature.append('easy_game')\n",
    "point_60.append(games['total'].values[0])\n",
    "game_60.append(games.index[0])\n",
    "\n",
    "games"
   ]
  },
  {
   "cell_type": "markdown",
   "id": "d5ab4620",
   "metadata": {},
   "source": [
    "Самым лёгким оказался пакет №177, его сыграло 73 команды, со средним результатом 41.59"
   ]
  },
  {
   "cell_type": "markdown",
   "id": "ac3475ab",
   "metadata": {},
   "source": [
    "___"
   ]
  },
  {
   "cell_type": "markdown",
   "id": "0aa4fc35",
   "metadata": {},
   "source": [
    "Посмотрим на раунды со ставками.\n",
    "\n",
    "*В каких пакетах были самые сложные 4-е раунды?*"
   ]
  },
  {
   "cell_type": "code",
   "execution_count": 17,
   "id": "479eba02",
   "metadata": {},
   "outputs": [
    {
     "data": {
      "text/html": [
       "<div>\n",
       "<style scoped>\n",
       "    .dataframe tbody tr th:only-of-type {\n",
       "        vertical-align: middle;\n",
       "    }\n",
       "\n",
       "    .dataframe tbody tr th {\n",
       "        vertical-align: top;\n",
       "    }\n",
       "\n",
       "    .dataframe thead th {\n",
       "        text-align: right;\n",
       "    }\n",
       "</style>\n",
       "<table border=\"1\" class=\"dataframe\">\n",
       "  <thead>\n",
       "    <tr style=\"text-align: right;\">\n",
       "      <th></th>\n",
       "      <th>team_count</th>\n",
       "      <th>round_4</th>\n",
       "      <th>total</th>\n",
       "    </tr>\n",
       "    <tr>\n",
       "      <th>game_number</th>\n",
       "      <th></th>\n",
       "      <th></th>\n",
       "      <th></th>\n",
       "    </tr>\n",
       "  </thead>\n",
       "  <tbody>\n",
       "    <tr>\n",
       "      <th>649</th>\n",
       "      <td>120</td>\n",
       "      <td>2.29</td>\n",
       "      <td>26.02</td>\n",
       "    </tr>\n",
       "    <tr>\n",
       "      <th>628</th>\n",
       "      <td>83</td>\n",
       "      <td>2.30</td>\n",
       "      <td>24.99</td>\n",
       "    </tr>\n",
       "    <tr>\n",
       "      <th>636</th>\n",
       "      <td>154</td>\n",
       "      <td>2.40</td>\n",
       "      <td>24.33</td>\n",
       "    </tr>\n",
       "    <tr>\n",
       "      <th>699</th>\n",
       "      <td>151</td>\n",
       "      <td>2.44</td>\n",
       "      <td>27.54</td>\n",
       "    </tr>\n",
       "    <tr>\n",
       "      <th>629</th>\n",
       "      <td>75</td>\n",
       "      <td>2.61</td>\n",
       "      <td>24.04</td>\n",
       "    </tr>\n",
       "  </tbody>\n",
       "</table>\n",
       "</div>"
      ],
      "text/plain": [
       "             team_count  round_4  total\n",
       "game_number                            \n",
       "649                 120     2.29  26.02\n",
       "628                  83     2.30  24.99\n",
       "636                 154     2.40  24.33\n",
       "699                 151     2.44  27.54\n",
       "629                  75     2.61  24.04"
      ]
     },
     "execution_count": 17,
     "metadata": {},
     "output_type": "execute_result"
    }
   ],
   "source": [
    "games = (\n",
    "            df_grouped[df_grouped['team_count'] >= 60]\n",
    "            .sort_values(by='round_4')\n",
    "            [['team_count', 'round_4', 'total']]\n",
    "            .head()\n",
    ")\n",
    "\n",
    "feature.append('hard_round_4')\n",
    "point_60.append(games['round_4'].values[0])\n",
    "game_60.append(games.index[0])\n",
    "\n",
    "games"
   ]
  },
  {
   "cell_type": "markdown",
   "id": "c7afa16d",
   "metadata": {},
   "source": [
    "В пакете 649, который сыграло 120 команд 4-й раунд оказался самым сложным, среднее количество баллов составило 2.29"
   ]
  },
  {
   "cell_type": "markdown",
   "id": "a272a9c3",
   "metadata": {},
   "source": [
    "*А самые простые?*"
   ]
  },
  {
   "cell_type": "code",
   "execution_count": 18,
   "id": "20b1d016",
   "metadata": {},
   "outputs": [
    {
     "data": {
      "text/html": [
       "<div>\n",
       "<style scoped>\n",
       "    .dataframe tbody tr th:only-of-type {\n",
       "        vertical-align: middle;\n",
       "    }\n",
       "\n",
       "    .dataframe tbody tr th {\n",
       "        vertical-align: top;\n",
       "    }\n",
       "\n",
       "    .dataframe thead th {\n",
       "        text-align: right;\n",
       "    }\n",
       "</style>\n",
       "<table border=\"1\" class=\"dataframe\">\n",
       "  <thead>\n",
       "    <tr style=\"text-align: right;\">\n",
       "      <th></th>\n",
       "      <th>team_count</th>\n",
       "      <th>round_4</th>\n",
       "      <th>total</th>\n",
       "    </tr>\n",
       "    <tr>\n",
       "      <th>game_number</th>\n",
       "      <th></th>\n",
       "      <th></th>\n",
       "      <th></th>\n",
       "    </tr>\n",
       "  </thead>\n",
       "  <tbody>\n",
       "    <tr>\n",
       "      <th>582</th>\n",
       "      <td>123</td>\n",
       "      <td>8.77</td>\n",
       "      <td>31.50</td>\n",
       "    </tr>\n",
       "    <tr>\n",
       "      <th>373</th>\n",
       "      <td>73</td>\n",
       "      <td>8.68</td>\n",
       "      <td>29.00</td>\n",
       "    </tr>\n",
       "    <tr>\n",
       "      <th>185</th>\n",
       "      <td>68</td>\n",
       "      <td>8.68</td>\n",
       "      <td>39.57</td>\n",
       "    </tr>\n",
       "    <tr>\n",
       "      <th>729</th>\n",
       "      <td>88</td>\n",
       "      <td>8.55</td>\n",
       "      <td>38.35</td>\n",
       "    </tr>\n",
       "    <tr>\n",
       "      <th>186</th>\n",
       "      <td>63</td>\n",
       "      <td>8.40</td>\n",
       "      <td>36.40</td>\n",
       "    </tr>\n",
       "  </tbody>\n",
       "</table>\n",
       "</div>"
      ],
      "text/plain": [
       "             team_count  round_4  total\n",
       "game_number                            \n",
       "582                 123     8.77  31.50\n",
       "373                  73     8.68  29.00\n",
       "185                  68     8.68  39.57\n",
       "729                  88     8.55  38.35\n",
       "186                  63     8.40  36.40"
      ]
     },
     "execution_count": 18,
     "metadata": {},
     "output_type": "execute_result"
    }
   ],
   "source": [
    "games = (\n",
    "            df_grouped[df_grouped['team_count'] >= 60]\n",
    "            .sort_values(by='round_4', ascending=False)\n",
    "            [['team_count', 'round_4', 'total']]\n",
    "            .head()\n",
    ")\n",
    "\n",
    "\n",
    "feature.append('easy_round_4')\n",
    "point_60.append(games['round_4'].values[0])\n",
    "game_60.append(games.index[0])\n",
    "\n",
    "games"
   ]
  },
  {
   "cell_type": "markdown",
   "id": "4d74c37c",
   "metadata": {},
   "source": [
    "В пакете №582, который сыграло 123 команды, среднее количество баллов в 4-м раунде 8.77. Видимо, битва в основном была только за баллы в последнем вопросе."
   ]
  },
  {
   "cell_type": "markdown",
   "id": "591594fd",
   "metadata": {},
   "source": [
    "*В каких пакетах были самые сложные 7-е раунды?*"
   ]
  },
  {
   "cell_type": "code",
   "execution_count": 19,
   "id": "2ee9e7e1",
   "metadata": {},
   "outputs": [
    {
     "data": {
      "text/html": [
       "<div>\n",
       "<style scoped>\n",
       "    .dataframe tbody tr th:only-of-type {\n",
       "        vertical-align: middle;\n",
       "    }\n",
       "\n",
       "    .dataframe tbody tr th {\n",
       "        vertical-align: top;\n",
       "    }\n",
       "\n",
       "    .dataframe thead th {\n",
       "        text-align: right;\n",
       "    }\n",
       "</style>\n",
       "<table border=\"1\" class=\"dataframe\">\n",
       "  <thead>\n",
       "    <tr style=\"text-align: right;\">\n",
       "      <th></th>\n",
       "      <th>team_count</th>\n",
       "      <th>round_7</th>\n",
       "      <th>total</th>\n",
       "    </tr>\n",
       "    <tr>\n",
       "      <th>game_number</th>\n",
       "      <th></th>\n",
       "      <th></th>\n",
       "      <th></th>\n",
       "    </tr>\n",
       "  </thead>\n",
       "  <tbody>\n",
       "    <tr>\n",
       "      <th>775</th>\n",
       "      <td>146</td>\n",
       "      <td>2.10</td>\n",
       "      <td>25.38</td>\n",
       "    </tr>\n",
       "    <tr>\n",
       "      <th>509</th>\n",
       "      <td>81</td>\n",
       "      <td>2.78</td>\n",
       "      <td>25.95</td>\n",
       "    </tr>\n",
       "    <tr>\n",
       "      <th>247</th>\n",
       "      <td>107</td>\n",
       "      <td>2.80</td>\n",
       "      <td>23.74</td>\n",
       "    </tr>\n",
       "    <tr>\n",
       "      <th>718</th>\n",
       "      <td>96</td>\n",
       "      <td>3.03</td>\n",
       "      <td>24.98</td>\n",
       "    </tr>\n",
       "    <tr>\n",
       "      <th>442</th>\n",
       "      <td>60</td>\n",
       "      <td>3.30</td>\n",
       "      <td>27.87</td>\n",
       "    </tr>\n",
       "  </tbody>\n",
       "</table>\n",
       "</div>"
      ],
      "text/plain": [
       "             team_count  round_7  total\n",
       "game_number                            \n",
       "775                 146     2.10  25.38\n",
       "509                  81     2.78  25.95\n",
       "247                 107     2.80  23.74\n",
       "718                  96     3.03  24.98\n",
       "442                  60     3.30  27.87"
      ]
     },
     "execution_count": 19,
     "metadata": {},
     "output_type": "execute_result"
    }
   ],
   "source": [
    "games = (\n",
    "            df_grouped[df_grouped['team_count'] >= 60]\n",
    "            .sort_values(by='round_7')\n",
    "            [['team_count', 'round_7', 'total']]\n",
    "            .head()\n",
    ")\n",
    "\n",
    "feature.append('hard_round_7')\n",
    "point_60.append(games['round_7'].values[0])\n",
    "game_60.append(games.index[0])\n",
    "\n",
    "games"
   ]
  },
  {
   "cell_type": "markdown",
   "id": "0b95cf1b",
   "metadata": {},
   "source": [
    "Самым сложным 7-м раундом оказался раунд в недавнем 775 пакете. Среднее количество баллов 2.10 среди 146 команд. Ближайший преследователь пакет №509, у которого на 0.68 больше."
   ]
  },
  {
   "cell_type": "markdown",
   "id": "9d564eb1",
   "metadata": {},
   "source": [
    "*А самые простые?*"
   ]
  },
  {
   "cell_type": "code",
   "execution_count": 20,
   "id": "67be2e06",
   "metadata": {},
   "outputs": [
    {
     "data": {
      "text/html": [
       "<div>\n",
       "<style scoped>\n",
       "    .dataframe tbody tr th:only-of-type {\n",
       "        vertical-align: middle;\n",
       "    }\n",
       "\n",
       "    .dataframe tbody tr th {\n",
       "        vertical-align: top;\n",
       "    }\n",
       "\n",
       "    .dataframe thead th {\n",
       "        text-align: right;\n",
       "    }\n",
       "</style>\n",
       "<table border=\"1\" class=\"dataframe\">\n",
       "  <thead>\n",
       "    <tr style=\"text-align: right;\">\n",
       "      <th></th>\n",
       "      <th>team_count</th>\n",
       "      <th>round_7</th>\n",
       "      <th>total</th>\n",
       "    </tr>\n",
       "    <tr>\n",
       "      <th>game_number</th>\n",
       "      <th></th>\n",
       "      <th></th>\n",
       "      <th></th>\n",
       "    </tr>\n",
       "  </thead>\n",
       "  <tbody>\n",
       "    <tr>\n",
       "      <th>737</th>\n",
       "      <td>100</td>\n",
       "      <td>14.01</td>\n",
       "      <td>40.71</td>\n",
       "    </tr>\n",
       "    <tr>\n",
       "      <th>540</th>\n",
       "      <td>88</td>\n",
       "      <td>13.00</td>\n",
       "      <td>37.51</td>\n",
       "    </tr>\n",
       "    <tr>\n",
       "      <th>740</th>\n",
       "      <td>111</td>\n",
       "      <td>12.70</td>\n",
       "      <td>36.61</td>\n",
       "    </tr>\n",
       "    <tr>\n",
       "      <th>635</th>\n",
       "      <td>83</td>\n",
       "      <td>12.57</td>\n",
       "      <td>38.48</td>\n",
       "    </tr>\n",
       "    <tr>\n",
       "      <th>744</th>\n",
       "      <td>132</td>\n",
       "      <td>12.55</td>\n",
       "      <td>36.30</td>\n",
       "    </tr>\n",
       "  </tbody>\n",
       "</table>\n",
       "</div>"
      ],
      "text/plain": [
       "             team_count  round_7  total\n",
       "game_number                            \n",
       "737                 100    14.01  40.71\n",
       "540                  88    13.00  37.51\n",
       "740                 111    12.70  36.61\n",
       "635                  83    12.57  38.48\n",
       "744                 132    12.55  36.30"
      ]
     },
     "execution_count": 20,
     "metadata": {},
     "output_type": "execute_result"
    }
   ],
   "source": [
    "games = (\n",
    "            df_grouped[df_grouped['team_count'] >= 60]\n",
    "            .sort_values(by='round_7', ascending=False)\n",
    "            [['team_count', 'round_7', 'total']]\n",
    "            .head()\n",
    ")\n",
    "\n",
    "feature.append('easy_round_7')\n",
    "point_60.append(games['round_7'].values[0])\n",
    "game_60.append(games.index[0])\n",
    "\n",
    "games"
   ]
  },
  {
   "cell_type": "markdown",
   "id": "2858efd9",
   "metadata": {},
   "source": [
    "Самым простым оказался также сыгранный относительно недавно 737 пакет. Среди 100 команд средний балл около 14."
   ]
  },
  {
   "cell_type": "markdown",
   "id": "39aeb14c",
   "metadata": {},
   "source": [
    "___"
   ]
  },
  {
   "cell_type": "markdown",
   "id": "60547ced",
   "metadata": {},
   "source": [
    "*В каком пакете был самый хардкорный 6 раунд?*"
   ]
  },
  {
   "cell_type": "code",
   "execution_count": 21,
   "id": "c4cb12e7",
   "metadata": {},
   "outputs": [
    {
     "data": {
      "text/html": [
       "<div>\n",
       "<style scoped>\n",
       "    .dataframe tbody tr th:only-of-type {\n",
       "        vertical-align: middle;\n",
       "    }\n",
       "\n",
       "    .dataframe tbody tr th {\n",
       "        vertical-align: top;\n",
       "    }\n",
       "\n",
       "    .dataframe thead th {\n",
       "        text-align: right;\n",
       "    }\n",
       "</style>\n",
       "<table border=\"1\" class=\"dataframe\">\n",
       "  <thead>\n",
       "    <tr style=\"text-align: right;\">\n",
       "      <th></th>\n",
       "      <th>team_count</th>\n",
       "      <th>round_6</th>\n",
       "      <th>total</th>\n",
       "    </tr>\n",
       "    <tr>\n",
       "      <th>game_number</th>\n",
       "      <th></th>\n",
       "      <th></th>\n",
       "      <th></th>\n",
       "    </tr>\n",
       "  </thead>\n",
       "  <tbody>\n",
       "    <tr>\n",
       "      <th>708</th>\n",
       "      <td>131</td>\n",
       "      <td>0.34</td>\n",
       "      <td>28.20</td>\n",
       "    </tr>\n",
       "    <tr>\n",
       "      <th>648</th>\n",
       "      <td>112</td>\n",
       "      <td>0.41</td>\n",
       "      <td>21.91</td>\n",
       "    </tr>\n",
       "    <tr>\n",
       "      <th>605</th>\n",
       "      <td>95</td>\n",
       "      <td>0.44</td>\n",
       "      <td>25.05</td>\n",
       "    </tr>\n",
       "    <tr>\n",
       "      <th>626</th>\n",
       "      <td>93</td>\n",
       "      <td>0.47</td>\n",
       "      <td>28.76</td>\n",
       "    </tr>\n",
       "    <tr>\n",
       "      <th>676</th>\n",
       "      <td>132</td>\n",
       "      <td>0.48</td>\n",
       "      <td>28.20</td>\n",
       "    </tr>\n",
       "  </tbody>\n",
       "</table>\n",
       "</div>"
      ],
      "text/plain": [
       "             team_count  round_6  total\n",
       "game_number                            \n",
       "708                 131     0.34  28.20\n",
       "648                 112     0.41  21.91\n",
       "605                  95     0.44  25.05\n",
       "626                  93     0.47  28.76\n",
       "676                 132     0.48  28.20"
      ]
     },
     "execution_count": 21,
     "metadata": {},
     "output_type": "execute_result"
    }
   ],
   "source": [
    "games = (\n",
    "            df_grouped[df_grouped['team_count'] >= 60]\n",
    "            .sort_values(by='round_6')\n",
    "            [['team_count', 'round_6', 'total']]\n",
    "            .head()\n",
    ")\n",
    "\n",
    "feature.append('hard_round_6')\n",
    "point_60.append(games['round_6'].values[0])\n",
    "game_60.append(games.index[0])\n",
    "\n",
    "games"
   ]
  },
  {
   "cell_type": "markdown",
   "id": "2f74373a",
   "metadata": {},
   "source": [
    "Самый хардкорный 6 раунд был в пакете №708. На 131 команду средний балл 0.34."
   ]
  },
  {
   "cell_type": "markdown",
   "id": "4beb0707",
   "metadata": {},
   "source": [
    "*А самый лайтовый раунд хардкор?*"
   ]
  },
  {
   "cell_type": "code",
   "execution_count": 22,
   "id": "2946aa67",
   "metadata": {},
   "outputs": [
    {
     "data": {
      "text/html": [
       "<div>\n",
       "<style scoped>\n",
       "    .dataframe tbody tr th:only-of-type {\n",
       "        vertical-align: middle;\n",
       "    }\n",
       "\n",
       "    .dataframe tbody tr th {\n",
       "        vertical-align: top;\n",
       "    }\n",
       "\n",
       "    .dataframe thead th {\n",
       "        text-align: right;\n",
       "    }\n",
       "</style>\n",
       "<table border=\"1\" class=\"dataframe\">\n",
       "  <thead>\n",
       "    <tr style=\"text-align: right;\">\n",
       "      <th></th>\n",
       "      <th>team_count</th>\n",
       "      <th>round_6</th>\n",
       "      <th>total</th>\n",
       "    </tr>\n",
       "    <tr>\n",
       "      <th>game_number</th>\n",
       "      <th></th>\n",
       "      <th></th>\n",
       "      <th></th>\n",
       "    </tr>\n",
       "  </thead>\n",
       "  <tbody>\n",
       "    <tr>\n",
       "      <th>287</th>\n",
       "      <td>60</td>\n",
       "      <td>4.67</td>\n",
       "      <td>35.68</td>\n",
       "    </tr>\n",
       "    <tr>\n",
       "      <th>203</th>\n",
       "      <td>82</td>\n",
       "      <td>4.61</td>\n",
       "      <td>34.93</td>\n",
       "    </tr>\n",
       "    <tr>\n",
       "      <th>202</th>\n",
       "      <td>81</td>\n",
       "      <td>4.54</td>\n",
       "      <td>32.79</td>\n",
       "    </tr>\n",
       "    <tr>\n",
       "      <th>197</th>\n",
       "      <td>77</td>\n",
       "      <td>4.29</td>\n",
       "      <td>37.47</td>\n",
       "    </tr>\n",
       "    <tr>\n",
       "      <th>225</th>\n",
       "      <td>68</td>\n",
       "      <td>4.29</td>\n",
       "      <td>38.82</td>\n",
       "    </tr>\n",
       "  </tbody>\n",
       "</table>\n",
       "</div>"
      ],
      "text/plain": [
       "             team_count  round_6  total\n",
       "game_number                            \n",
       "287                  60     4.67  35.68\n",
       "203                  82     4.61  34.93\n",
       "202                  81     4.54  32.79\n",
       "197                  77     4.29  37.47\n",
       "225                  68     4.29  38.82"
      ]
     },
     "execution_count": 22,
     "metadata": {},
     "output_type": "execute_result"
    }
   ],
   "source": [
    "games = (\n",
    "            df_grouped[df_grouped['team_count'] >= 60]\n",
    "            .sort_values(by='round_6', ascending=False)\n",
    "            [['team_count', 'round_6', 'total']]\n",
    "            .head()\n",
    ")\n",
    "\n",
    "feature.append('easy_round_6')\n",
    "point_60.append(games['round_6'].values[0])\n",
    "game_60.append(games.index[0])\n",
    "\n",
    "games"
   ]
  },
  {
   "cell_type": "markdown",
   "id": "418467d3",
   "metadata": {},
   "source": [
    "Самый простой из 6-х раундов был в пакете 287, среди 60 команд средний балл составил 4.67."
   ]
  },
  {
   "cell_type": "markdown",
   "id": "b409e1a7",
   "metadata": {},
   "source": [
    "___"
   ]
  },
  {
   "cell_type": "code",
   "execution_count": 23,
   "id": "2da69e80",
   "metadata": {},
   "outputs": [
    {
     "data": {
      "text/html": [
       "<div>\n",
       "<style scoped>\n",
       "    .dataframe tbody tr th:only-of-type {\n",
       "        vertical-align: middle;\n",
       "    }\n",
       "\n",
       "    .dataframe tbody tr th {\n",
       "        vertical-align: top;\n",
       "    }\n",
       "\n",
       "    .dataframe thead th {\n",
       "        text-align: right;\n",
       "    }\n",
       "</style>\n",
       "<table border=\"1\" class=\"dataframe\">\n",
       "  <thead>\n",
       "    <tr style=\"text-align: right;\">\n",
       "      <th></th>\n",
       "      <th>game_number_60</th>\n",
       "      <th>points_60</th>\n",
       "    </tr>\n",
       "  </thead>\n",
       "  <tbody>\n",
       "    <tr>\n",
       "      <th>hard_game</th>\n",
       "      <td>657</td>\n",
       "      <td>21.29</td>\n",
       "    </tr>\n",
       "    <tr>\n",
       "      <th>easy_game</th>\n",
       "      <td>177</td>\n",
       "      <td>41.59</td>\n",
       "    </tr>\n",
       "    <tr>\n",
       "      <th>hard_round_4</th>\n",
       "      <td>649</td>\n",
       "      <td>2.29</td>\n",
       "    </tr>\n",
       "    <tr>\n",
       "      <th>easy_round_4</th>\n",
       "      <td>582</td>\n",
       "      <td>8.77</td>\n",
       "    </tr>\n",
       "    <tr>\n",
       "      <th>hard_round_7</th>\n",
       "      <td>775</td>\n",
       "      <td>2.10</td>\n",
       "    </tr>\n",
       "    <tr>\n",
       "      <th>easy_round_7</th>\n",
       "      <td>737</td>\n",
       "      <td>14.01</td>\n",
       "    </tr>\n",
       "    <tr>\n",
       "      <th>hard_round_6</th>\n",
       "      <td>708</td>\n",
       "      <td>0.34</td>\n",
       "    </tr>\n",
       "    <tr>\n",
       "      <th>easy_round_6</th>\n",
       "      <td>287</td>\n",
       "      <td>4.67</td>\n",
       "    </tr>\n",
       "  </tbody>\n",
       "</table>\n",
       "</div>"
      ],
      "text/plain": [
       "              game_number_60  points_60\n",
       "hard_game                657      21.29\n",
       "easy_game                177      41.59\n",
       "hard_round_4             649       2.29\n",
       "easy_round_4             582       8.77\n",
       "hard_round_7             775       2.10\n",
       "easy_round_7             737      14.01\n",
       "hard_round_6             708       0.34\n",
       "easy_round_6             287       4.67"
      ]
     },
     "execution_count": 23,
     "metadata": {},
     "output_type": "execute_result"
    }
   ],
   "source": [
    "dict_60 = {'game_number_60': game_60, 'points_60': point_60}\n",
    "frame_60 = pd.DataFrame(dict_60, index=feature)\n",
    "\n",
    "frame_60"
   ]
  },
  {
   "cell_type": "markdown",
   "id": "1766c36e",
   "metadata": {},
   "source": [
    "**Самым сложным для игроков оказался пакет №657, его сыграли 132 команды, а среднее количество набранных баллов 21.29. Самым же простым был пакет №177, его сыграло 73 команды, со средним результатом 41.59.**\n",
    "\n",
    "**В 4 раунде пакета №649 командам было тяжело, для 120 команд среднее количество баллов составило 2.29. В пакете №582, наоборот 123 сыгравшие команды справились с большинством вопросов, среднее количество баллов составило 8.77.**\n",
    "\n",
    "**Самым хардкорным из хардкоров оказался 6 раунд в пакете №708. Для 131 команды средний балл составил 0.34.\n",
    "Легче было игрокам пакета №287, справлялись с двумя вопросами почти навярняка. 60 отыгравших команд и средний балл 4.67**\n",
    "\n",
    "**Финальный 7-й раунд неподдался в недавнем №775 пакете. Среднее количество баллов 2.10 среди 146 команд. А вот в пакете №737 среди 100 команд средний балл около 14.**"
   ]
  },
  {
   "cell_type": "markdown",
   "id": "843ddde3",
   "metadata": {},
   "source": [
    "<a id='Все'> </a>\n",
    "\n",
    "### 2.2 Статистика по всем играм"
   ]
  },
  {
   "cell_type": "markdown",
   "id": "b300d358",
   "metadata": {},
   "source": [
    "*Самый сложный пакет*"
   ]
  },
  {
   "cell_type": "code",
   "execution_count": 24,
   "id": "79c94eaf",
   "metadata": {
    "scrolled": true
   },
   "outputs": [
    {
     "data": {
      "text/html": [
       "<div>\n",
       "<style scoped>\n",
       "    .dataframe tbody tr th:only-of-type {\n",
       "        vertical-align: middle;\n",
       "    }\n",
       "\n",
       "    .dataframe tbody tr th {\n",
       "        vertical-align: top;\n",
       "    }\n",
       "\n",
       "    .dataframe thead th {\n",
       "        text-align: right;\n",
       "    }\n",
       "</style>\n",
       "<table border=\"1\" class=\"dataframe\">\n",
       "  <thead>\n",
       "    <tr style=\"text-align: right;\">\n",
       "      <th></th>\n",
       "      <th>team_count</th>\n",
       "      <th>round_1</th>\n",
       "      <th>round_2</th>\n",
       "      <th>round_3</th>\n",
       "      <th>round_4</th>\n",
       "      <th>round_5</th>\n",
       "      <th>round_6</th>\n",
       "      <th>round_7</th>\n",
       "      <th>total</th>\n",
       "    </tr>\n",
       "    <tr>\n",
       "      <th>game_number</th>\n",
       "      <th></th>\n",
       "      <th></th>\n",
       "      <th></th>\n",
       "      <th></th>\n",
       "      <th></th>\n",
       "      <th></th>\n",
       "      <th></th>\n",
       "      <th></th>\n",
       "      <th></th>\n",
       "    </tr>\n",
       "  </thead>\n",
       "  <tbody>\n",
       "    <tr>\n",
       "      <th>657</th>\n",
       "      <td>132</td>\n",
       "      <td>3.25</td>\n",
       "      <td>2.43</td>\n",
       "      <td>1.80</td>\n",
       "      <td>3.15</td>\n",
       "      <td>2.98</td>\n",
       "      <td>2.21</td>\n",
       "      <td>5.45</td>\n",
       "      <td>21.29</td>\n",
       "    </tr>\n",
       "    <tr>\n",
       "      <th>640</th>\n",
       "      <td>136</td>\n",
       "      <td>3.88</td>\n",
       "      <td>4.04</td>\n",
       "      <td>2.54</td>\n",
       "      <td>3.30</td>\n",
       "      <td>1.99</td>\n",
       "      <td>0.91</td>\n",
       "      <td>4.70</td>\n",
       "      <td>21.35</td>\n",
       "    </tr>\n",
       "    <tr>\n",
       "      <th>648</th>\n",
       "      <td>112</td>\n",
       "      <td>3.62</td>\n",
       "      <td>3.54</td>\n",
       "      <td>3.35</td>\n",
       "      <td>3.35</td>\n",
       "      <td>3.68</td>\n",
       "      <td>0.41</td>\n",
       "      <td>3.96</td>\n",
       "      <td>21.91</td>\n",
       "    </tr>\n",
       "    <tr>\n",
       "      <th>631</th>\n",
       "      <td>113</td>\n",
       "      <td>3.93</td>\n",
       "      <td>2.43</td>\n",
       "      <td>3.54</td>\n",
       "      <td>3.01</td>\n",
       "      <td>2.84</td>\n",
       "      <td>1.03</td>\n",
       "      <td>5.20</td>\n",
       "      <td>21.98</td>\n",
       "    </tr>\n",
       "    <tr>\n",
       "      <th>684</th>\n",
       "      <td>131</td>\n",
       "      <td>3.82</td>\n",
       "      <td>3.66</td>\n",
       "      <td>3.11</td>\n",
       "      <td>4.23</td>\n",
       "      <td>2.36</td>\n",
       "      <td>1.39</td>\n",
       "      <td>3.92</td>\n",
       "      <td>22.48</td>\n",
       "    </tr>\n",
       "  </tbody>\n",
       "</table>\n",
       "</div>"
      ],
      "text/plain": [
       "             team_count  round_1  round_2  round_3  round_4  round_5  round_6  \\\n",
       "game_number                                                                     \n",
       "657                 132     3.25     2.43     1.80     3.15     2.98     2.21   \n",
       "640                 136     3.88     4.04     2.54     3.30     1.99     0.91   \n",
       "648                 112     3.62     3.54     3.35     3.35     3.68     0.41   \n",
       "631                 113     3.93     2.43     3.54     3.01     2.84     1.03   \n",
       "684                 131     3.82     3.66     3.11     4.23     2.36     1.39   \n",
       "\n",
       "             round_7  total  \n",
       "game_number                  \n",
       "657             5.45  21.29  \n",
       "640             4.70  21.35  \n",
       "648             3.96  21.91  \n",
       "631             5.20  21.98  \n",
       "684             3.92  22.48  "
      ]
     },
     "execution_count": 24,
     "metadata": {},
     "output_type": "execute_result"
    }
   ],
   "source": [
    "games = df_grouped.sort_values(by='total').head()\n",
    "\n",
    "point_all.append(games['total'].values[0])\n",
    "game_all.append(games.index[0])\n",
    "\n",
    "games"
   ]
  },
  {
   "cell_type": "markdown",
   "id": "1e6e3a31",
   "metadata": {},
   "source": [
    "Ничего не изменилось, 657 по прежнему в лидерах."
   ]
  },
  {
   "cell_type": "markdown",
   "id": "8f103d30",
   "metadata": {},
   "source": [
    "*Самый простой пакет*"
   ]
  },
  {
   "cell_type": "code",
   "execution_count": 25,
   "id": "1208a43f",
   "metadata": {
    "scrolled": true
   },
   "outputs": [
    {
     "data": {
      "text/html": [
       "<div>\n",
       "<style scoped>\n",
       "    .dataframe tbody tr th:only-of-type {\n",
       "        vertical-align: middle;\n",
       "    }\n",
       "\n",
       "    .dataframe tbody tr th {\n",
       "        vertical-align: top;\n",
       "    }\n",
       "\n",
       "    .dataframe thead th {\n",
       "        text-align: right;\n",
       "    }\n",
       "</style>\n",
       "<table border=\"1\" class=\"dataframe\">\n",
       "  <thead>\n",
       "    <tr style=\"text-align: right;\">\n",
       "      <th></th>\n",
       "      <th>team_count</th>\n",
       "      <th>round_1</th>\n",
       "      <th>round_2</th>\n",
       "      <th>round_3</th>\n",
       "      <th>round_4</th>\n",
       "      <th>round_5</th>\n",
       "      <th>round_6</th>\n",
       "      <th>round_7</th>\n",
       "      <th>total</th>\n",
       "    </tr>\n",
       "    <tr>\n",
       "      <th>game_number</th>\n",
       "      <th></th>\n",
       "      <th></th>\n",
       "      <th></th>\n",
       "      <th></th>\n",
       "      <th></th>\n",
       "      <th></th>\n",
       "      <th></th>\n",
       "      <th></th>\n",
       "      <th></th>\n",
       "    </tr>\n",
       "  </thead>\n",
       "  <tbody>\n",
       "    <tr>\n",
       "      <th>296</th>\n",
       "      <td>14</td>\n",
       "      <td>4.79</td>\n",
       "      <td>4.57</td>\n",
       "      <td>5.07</td>\n",
       "      <td>8.36</td>\n",
       "      <td>5.07</td>\n",
       "      <td>2.43</td>\n",
       "      <td>11.43</td>\n",
       "      <td>41.71</td>\n",
       "    </tr>\n",
       "    <tr>\n",
       "      <th>177</th>\n",
       "      <td>73</td>\n",
       "      <td>4.99</td>\n",
       "      <td>4.90</td>\n",
       "      <td>3.67</td>\n",
       "      <td>7.64</td>\n",
       "      <td>5.56</td>\n",
       "      <td>2.99</td>\n",
       "      <td>11.84</td>\n",
       "      <td>41.59</td>\n",
       "    </tr>\n",
       "    <tr>\n",
       "      <th>259</th>\n",
       "      <td>27</td>\n",
       "      <td>4.26</td>\n",
       "      <td>5.30</td>\n",
       "      <td>3.96</td>\n",
       "      <td>8.33</td>\n",
       "      <td>2.67</td>\n",
       "      <td>3.93</td>\n",
       "      <td>12.96</td>\n",
       "      <td>41.41</td>\n",
       "    </tr>\n",
       "    <tr>\n",
       "      <th>261</th>\n",
       "      <td>20</td>\n",
       "      <td>5.40</td>\n",
       "      <td>4.45</td>\n",
       "      <td>3.20</td>\n",
       "      <td>9.05</td>\n",
       "      <td>3.65</td>\n",
       "      <td>3.90</td>\n",
       "      <td>11.70</td>\n",
       "      <td>41.35</td>\n",
       "    </tr>\n",
       "    <tr>\n",
       "      <th>601</th>\n",
       "      <td>39</td>\n",
       "      <td>4.62</td>\n",
       "      <td>4.67</td>\n",
       "      <td>4.95</td>\n",
       "      <td>6.21</td>\n",
       "      <td>4.82</td>\n",
       "      <td>3.79</td>\n",
       "      <td>12.21</td>\n",
       "      <td>41.26</td>\n",
       "    </tr>\n",
       "  </tbody>\n",
       "</table>\n",
       "</div>"
      ],
      "text/plain": [
       "             team_count  round_1  round_2  round_3  round_4  round_5  round_6  \\\n",
       "game_number                                                                     \n",
       "296                  14     4.79     4.57     5.07     8.36     5.07     2.43   \n",
       "177                  73     4.99     4.90     3.67     7.64     5.56     2.99   \n",
       "259                  27     4.26     5.30     3.96     8.33     2.67     3.93   \n",
       "261                  20     5.40     4.45     3.20     9.05     3.65     3.90   \n",
       "601                  39     4.62     4.67     4.95     6.21     4.82     3.79   \n",
       "\n",
       "             round_7  total  \n",
       "game_number                  \n",
       "296            11.43  41.71  \n",
       "177            11.84  41.59  \n",
       "259            12.96  41.41  \n",
       "261            11.70  41.35  \n",
       "601            12.21  41.26  "
      ]
     },
     "execution_count": 25,
     "metadata": {},
     "output_type": "execute_result"
    }
   ],
   "source": [
    "games = df_grouped.sort_values(by='total', ascending=False).head()\n",
    "\n",
    "point_all.append(games['total'].values[0])\n",
    "game_all.append(games.index[0])\n",
    "\n",
    "games"
   ]
  },
  {
   "cell_type": "markdown",
   "id": "2c3fd9e5",
   "metadata": {},
   "source": [
    "Здесь ситуация изменилась в лидерах пакет №296, но данные только для 14 команд, не особо верим."
   ]
  },
  {
   "cell_type": "markdown",
   "id": "3e025cdb",
   "metadata": {},
   "source": [
    "___"
   ]
  },
  {
   "cell_type": "markdown",
   "id": "6956f35d",
   "metadata": {},
   "source": [
    "*Сложный 4-й раунд*"
   ]
  },
  {
   "cell_type": "code",
   "execution_count": 26,
   "id": "4788c460",
   "metadata": {
    "scrolled": true
   },
   "outputs": [
    {
     "data": {
      "text/html": [
       "<div>\n",
       "<style scoped>\n",
       "    .dataframe tbody tr th:only-of-type {\n",
       "        vertical-align: middle;\n",
       "    }\n",
       "\n",
       "    .dataframe tbody tr th {\n",
       "        vertical-align: top;\n",
       "    }\n",
       "\n",
       "    .dataframe thead th {\n",
       "        text-align: right;\n",
       "    }\n",
       "</style>\n",
       "<table border=\"1\" class=\"dataframe\">\n",
       "  <thead>\n",
       "    <tr style=\"text-align: right;\">\n",
       "      <th></th>\n",
       "      <th>team_count</th>\n",
       "      <th>round_4</th>\n",
       "      <th>total</th>\n",
       "    </tr>\n",
       "    <tr>\n",
       "      <th>game_number</th>\n",
       "      <th></th>\n",
       "      <th></th>\n",
       "      <th></th>\n",
       "    </tr>\n",
       "  </thead>\n",
       "  <tbody>\n",
       "    <tr>\n",
       "      <th>649</th>\n",
       "      <td>120</td>\n",
       "      <td>2.29</td>\n",
       "      <td>26.02</td>\n",
       "    </tr>\n",
       "    <tr>\n",
       "      <th>628</th>\n",
       "      <td>83</td>\n",
       "      <td>2.30</td>\n",
       "      <td>24.99</td>\n",
       "    </tr>\n",
       "    <tr>\n",
       "      <th>636</th>\n",
       "      <td>154</td>\n",
       "      <td>2.40</td>\n",
       "      <td>24.33</td>\n",
       "    </tr>\n",
       "    <tr>\n",
       "      <th>699</th>\n",
       "      <td>151</td>\n",
       "      <td>2.44</td>\n",
       "      <td>27.54</td>\n",
       "    </tr>\n",
       "    <tr>\n",
       "      <th>480</th>\n",
       "      <td>59</td>\n",
       "      <td>2.56</td>\n",
       "      <td>23.92</td>\n",
       "    </tr>\n",
       "  </tbody>\n",
       "</table>\n",
       "</div>"
      ],
      "text/plain": [
       "             team_count  round_4  total\n",
       "game_number                            \n",
       "649                 120     2.29  26.02\n",
       "628                  83     2.30  24.99\n",
       "636                 154     2.40  24.33\n",
       "699                 151     2.44  27.54\n",
       "480                  59     2.56  23.92"
      ]
     },
     "execution_count": 26,
     "metadata": {},
     "output_type": "execute_result"
    }
   ],
   "source": [
    "games = (\n",
    "            df_grouped\n",
    "            .sort_values(by='round_4')\n",
    "            [['team_count', 'round_4', 'total']]\n",
    "            .head()\n",
    ")\n",
    "\n",
    "point_all.append(games['round_4'].values[0])\n",
    "game_all.append(games.index[0])\n",
    "\n",
    "games"
   ]
  },
  {
   "cell_type": "markdown",
   "id": "565252fd",
   "metadata": {},
   "source": [
    "Как и было."
   ]
  },
  {
   "cell_type": "markdown",
   "id": "c8fce9a5",
   "metadata": {},
   "source": [
    "*Простой 4-й раунд*"
   ]
  },
  {
   "cell_type": "code",
   "execution_count": 27,
   "id": "bb43174f",
   "metadata": {},
   "outputs": [
    {
     "data": {
      "text/html": [
       "<div>\n",
       "<style scoped>\n",
       "    .dataframe tbody tr th:only-of-type {\n",
       "        vertical-align: middle;\n",
       "    }\n",
       "\n",
       "    .dataframe tbody tr th {\n",
       "        vertical-align: top;\n",
       "    }\n",
       "\n",
       "    .dataframe thead th {\n",
       "        text-align: right;\n",
       "    }\n",
       "</style>\n",
       "<table border=\"1\" class=\"dataframe\">\n",
       "  <thead>\n",
       "    <tr style=\"text-align: right;\">\n",
       "      <th></th>\n",
       "      <th>team_count</th>\n",
       "      <th>round_4</th>\n",
       "      <th>total</th>\n",
       "    </tr>\n",
       "    <tr>\n",
       "      <th>game_number</th>\n",
       "      <th></th>\n",
       "      <th></th>\n",
       "      <th></th>\n",
       "    </tr>\n",
       "  </thead>\n",
       "  <tbody>\n",
       "    <tr>\n",
       "      <th>260</th>\n",
       "      <td>28</td>\n",
       "      <td>10.14</td>\n",
       "      <td>41.04</td>\n",
       "    </tr>\n",
       "    <tr>\n",
       "      <th>267</th>\n",
       "      <td>30</td>\n",
       "      <td>9.73</td>\n",
       "      <td>38.93</td>\n",
       "    </tr>\n",
       "    <tr>\n",
       "      <th>366</th>\n",
       "      <td>32</td>\n",
       "      <td>9.47</td>\n",
       "      <td>34.03</td>\n",
       "    </tr>\n",
       "    <tr>\n",
       "      <th>403</th>\n",
       "      <td>53</td>\n",
       "      <td>9.21</td>\n",
       "      <td>35.30</td>\n",
       "    </tr>\n",
       "    <tr>\n",
       "      <th>261</th>\n",
       "      <td>20</td>\n",
       "      <td>9.05</td>\n",
       "      <td>41.35</td>\n",
       "    </tr>\n",
       "  </tbody>\n",
       "</table>\n",
       "</div>"
      ],
      "text/plain": [
       "             team_count  round_4  total\n",
       "game_number                            \n",
       "260                  28    10.14  41.04\n",
       "267                  30     9.73  38.93\n",
       "366                  32     9.47  34.03\n",
       "403                  53     9.21  35.30\n",
       "261                  20     9.05  41.35"
      ]
     },
     "execution_count": 27,
     "metadata": {},
     "output_type": "execute_result"
    }
   ],
   "source": [
    "games = (\n",
    "            df_grouped\n",
    "            .sort_values(by='round_4', ascending=False)\n",
    "            [['team_count', 'round_4', 'total']]\n",
    "            .head()\n",
    ")\n",
    "\n",
    "point_all.append(games['round_4'].values[0])\n",
    "game_all.append(games.index[0])\n",
    "\n",
    "games"
   ]
  },
  {
   "cell_type": "markdown",
   "id": "0455b7c8",
   "metadata": {},
   "source": [
    "Ситуация изменилась пакет 260 впереди, но команд всего 28."
   ]
  },
  {
   "cell_type": "markdown",
   "id": "0b885671",
   "metadata": {},
   "source": [
    "*Сложный 7-й раунд*"
   ]
  },
  {
   "cell_type": "code",
   "execution_count": 28,
   "id": "59f7b691",
   "metadata": {},
   "outputs": [
    {
     "data": {
      "text/html": [
       "<div>\n",
       "<style scoped>\n",
       "    .dataframe tbody tr th:only-of-type {\n",
       "        vertical-align: middle;\n",
       "    }\n",
       "\n",
       "    .dataframe tbody tr th {\n",
       "        vertical-align: top;\n",
       "    }\n",
       "\n",
       "    .dataframe thead th {\n",
       "        text-align: right;\n",
       "    }\n",
       "</style>\n",
       "<table border=\"1\" class=\"dataframe\">\n",
       "  <thead>\n",
       "    <tr style=\"text-align: right;\">\n",
       "      <th></th>\n",
       "      <th>team_count</th>\n",
       "      <th>round_7</th>\n",
       "      <th>total</th>\n",
       "    </tr>\n",
       "    <tr>\n",
       "      <th>game_number</th>\n",
       "      <th></th>\n",
       "      <th></th>\n",
       "      <th></th>\n",
       "    </tr>\n",
       "  </thead>\n",
       "  <tbody>\n",
       "    <tr>\n",
       "      <th>190</th>\n",
       "      <td>31</td>\n",
       "      <td>2.03</td>\n",
       "      <td>26.77</td>\n",
       "    </tr>\n",
       "    <tr>\n",
       "      <th>775</th>\n",
       "      <td>146</td>\n",
       "      <td>2.10</td>\n",
       "      <td>25.38</td>\n",
       "    </tr>\n",
       "    <tr>\n",
       "      <th>379</th>\n",
       "      <td>50</td>\n",
       "      <td>2.52</td>\n",
       "      <td>23.20</td>\n",
       "    </tr>\n",
       "    <tr>\n",
       "      <th>509</th>\n",
       "      <td>81</td>\n",
       "      <td>2.78</td>\n",
       "      <td>25.95</td>\n",
       "    </tr>\n",
       "    <tr>\n",
       "      <th>247</th>\n",
       "      <td>107</td>\n",
       "      <td>2.80</td>\n",
       "      <td>23.74</td>\n",
       "    </tr>\n",
       "  </tbody>\n",
       "</table>\n",
       "</div>"
      ],
      "text/plain": [
       "             team_count  round_7  total\n",
       "game_number                            \n",
       "190                  31     2.03  26.77\n",
       "775                 146     2.10  25.38\n",
       "379                  50     2.52  23.20\n",
       "509                  81     2.78  25.95\n",
       "247                 107     2.80  23.74"
      ]
     },
     "execution_count": 28,
     "metadata": {},
     "output_type": "execute_result"
    }
   ],
   "source": [
    "games = (\n",
    "            df_grouped\n",
    "            .sort_values(by='round_7')\n",
    "            [['team_count', 'round_7', 'total']]\n",
    "            .head()\n",
    ")\n",
    "\n",
    "point_all.append(games['round_7'].values[0])\n",
    "game_all.append(games.index[0])\n",
    "\n",
    "games"
   ]
  },
  {
   "cell_type": "markdown",
   "id": "7c240010",
   "metadata": {},
   "source": [
    "775 пакет сместил старый 190, но разница в количестве команд более чем в 4 раза"
   ]
  },
  {
   "cell_type": "markdown",
   "id": "95939ae3",
   "metadata": {},
   "source": [
    "*Простой 7-раунд*"
   ]
  },
  {
   "cell_type": "code",
   "execution_count": 29,
   "id": "c5999ecb",
   "metadata": {},
   "outputs": [
    {
     "data": {
      "text/html": [
       "<div>\n",
       "<style scoped>\n",
       "    .dataframe tbody tr th:only-of-type {\n",
       "        vertical-align: middle;\n",
       "    }\n",
       "\n",
       "    .dataframe tbody tr th {\n",
       "        vertical-align: top;\n",
       "    }\n",
       "\n",
       "    .dataframe thead th {\n",
       "        text-align: right;\n",
       "    }\n",
       "</style>\n",
       "<table border=\"1\" class=\"dataframe\">\n",
       "  <thead>\n",
       "    <tr style=\"text-align: right;\">\n",
       "      <th></th>\n",
       "      <th>team_count</th>\n",
       "      <th>round_7</th>\n",
       "      <th>total</th>\n",
       "    </tr>\n",
       "    <tr>\n",
       "      <th>game_number</th>\n",
       "      <th></th>\n",
       "      <th></th>\n",
       "      <th></th>\n",
       "    </tr>\n",
       "  </thead>\n",
       "  <tbody>\n",
       "    <tr>\n",
       "      <th>737</th>\n",
       "      <td>100</td>\n",
       "      <td>14.01</td>\n",
       "      <td>40.71</td>\n",
       "    </tr>\n",
       "    <tr>\n",
       "      <th>381</th>\n",
       "      <td>30</td>\n",
       "      <td>13.53</td>\n",
       "      <td>39.53</td>\n",
       "    </tr>\n",
       "    <tr>\n",
       "      <th>264</th>\n",
       "      <td>32</td>\n",
       "      <td>13.34</td>\n",
       "      <td>39.59</td>\n",
       "    </tr>\n",
       "    <tr>\n",
       "      <th>540</th>\n",
       "      <td>88</td>\n",
       "      <td>13.00</td>\n",
       "      <td>37.51</td>\n",
       "    </tr>\n",
       "    <tr>\n",
       "      <th>259</th>\n",
       "      <td>27</td>\n",
       "      <td>12.96</td>\n",
       "      <td>41.41</td>\n",
       "    </tr>\n",
       "  </tbody>\n",
       "</table>\n",
       "</div>"
      ],
      "text/plain": [
       "             team_count  round_7  total\n",
       "game_number                            \n",
       "737                 100    14.01  40.71\n",
       "381                  30    13.53  39.53\n",
       "264                  32    13.34  39.59\n",
       "540                  88    13.00  37.51\n",
       "259                  27    12.96  41.41"
      ]
     },
     "execution_count": 29,
     "metadata": {},
     "output_type": "execute_result"
    }
   ],
   "source": [
    "games = (\n",
    "            df_grouped\n",
    "            .sort_values(by='round_7', ascending=False)\n",
    "            [['team_count', 'round_7', 'total']]\n",
    "            .head()\n",
    ")\n",
    "\n",
    "point_all.append(games['round_7'].values[0])\n",
    "game_all.append(games.index[0])\n",
    "\n",
    "games"
   ]
  },
  {
   "cell_type": "markdown",
   "id": "e78707e7",
   "metadata": {},
   "source": [
    "Как и был."
   ]
  },
  {
   "cell_type": "markdown",
   "id": "daa5e9bc",
   "metadata": {},
   "source": [
    "*Сложный 6-й*"
   ]
  },
  {
   "cell_type": "code",
   "execution_count": 30,
   "id": "4f1b606e",
   "metadata": {},
   "outputs": [
    {
     "data": {
      "text/html": [
       "<div>\n",
       "<style scoped>\n",
       "    .dataframe tbody tr th:only-of-type {\n",
       "        vertical-align: middle;\n",
       "    }\n",
       "\n",
       "    .dataframe tbody tr th {\n",
       "        vertical-align: top;\n",
       "    }\n",
       "\n",
       "    .dataframe thead th {\n",
       "        text-align: right;\n",
       "    }\n",
       "</style>\n",
       "<table border=\"1\" class=\"dataframe\">\n",
       "  <thead>\n",
       "    <tr style=\"text-align: right;\">\n",
       "      <th></th>\n",
       "      <th>team_count</th>\n",
       "      <th>round_6</th>\n",
       "      <th>total</th>\n",
       "    </tr>\n",
       "    <tr>\n",
       "      <th>game_number</th>\n",
       "      <th></th>\n",
       "      <th></th>\n",
       "      <th></th>\n",
       "    </tr>\n",
       "  </thead>\n",
       "  <tbody>\n",
       "    <tr>\n",
       "      <th>428</th>\n",
       "      <td>54</td>\n",
       "      <td>0.33</td>\n",
       "      <td>27.78</td>\n",
       "    </tr>\n",
       "    <tr>\n",
       "      <th>708</th>\n",
       "      <td>131</td>\n",
       "      <td>0.34</td>\n",
       "      <td>28.20</td>\n",
       "    </tr>\n",
       "    <tr>\n",
       "      <th>404</th>\n",
       "      <td>51</td>\n",
       "      <td>0.35</td>\n",
       "      <td>27.25</td>\n",
       "    </tr>\n",
       "    <tr>\n",
       "      <th>313</th>\n",
       "      <td>37</td>\n",
       "      <td>0.38</td>\n",
       "      <td>36.78</td>\n",
       "    </tr>\n",
       "    <tr>\n",
       "      <th>648</th>\n",
       "      <td>112</td>\n",
       "      <td>0.41</td>\n",
       "      <td>21.91</td>\n",
       "    </tr>\n",
       "  </tbody>\n",
       "</table>\n",
       "</div>"
      ],
      "text/plain": [
       "             team_count  round_6  total\n",
       "game_number                            \n",
       "428                  54     0.33  27.78\n",
       "708                 131     0.34  28.20\n",
       "404                  51     0.35  27.25\n",
       "313                  37     0.38  36.78\n",
       "648                 112     0.41  21.91"
      ]
     },
     "execution_count": 30,
     "metadata": {},
     "output_type": "execute_result"
    }
   ],
   "source": [
    "games = (\n",
    "            df_grouped\n",
    "            .sort_values(by='round_6')\n",
    "            [['team_count', 'round_6', 'total']]\n",
    "            .head()\n",
    ")\n",
    "\n",
    "point_all.append(games['round_6'].values[0])\n",
    "game_all.append(games.index[0])\n",
    "\n",
    "games"
   ]
  },
  {
   "cell_type": "markdown",
   "id": "09fe4b39",
   "metadata": {},
   "source": [
    "428 на одну сотую опережает предыдущего лидера."
   ]
  },
  {
   "cell_type": "markdown",
   "id": "ec851de7",
   "metadata": {},
   "source": [
    "*Лёгкий 6-й*"
   ]
  },
  {
   "cell_type": "code",
   "execution_count": 31,
   "id": "d6f54e72",
   "metadata": {},
   "outputs": [
    {
     "data": {
      "text/html": [
       "<div>\n",
       "<style scoped>\n",
       "    .dataframe tbody tr th:only-of-type {\n",
       "        vertical-align: middle;\n",
       "    }\n",
       "\n",
       "    .dataframe tbody tr th {\n",
       "        vertical-align: top;\n",
       "    }\n",
       "\n",
       "    .dataframe thead th {\n",
       "        text-align: right;\n",
       "    }\n",
       "</style>\n",
       "<table border=\"1\" class=\"dataframe\">\n",
       "  <thead>\n",
       "    <tr style=\"text-align: right;\">\n",
       "      <th></th>\n",
       "      <th>team_count</th>\n",
       "      <th>round_6</th>\n",
       "      <th>total</th>\n",
       "    </tr>\n",
       "    <tr>\n",
       "      <th>game_number</th>\n",
       "      <th></th>\n",
       "      <th></th>\n",
       "      <th></th>\n",
       "    </tr>\n",
       "  </thead>\n",
       "  <tbody>\n",
       "    <tr>\n",
       "      <th>267</th>\n",
       "      <td>30</td>\n",
       "      <td>4.80</td>\n",
       "      <td>38.93</td>\n",
       "    </tr>\n",
       "    <tr>\n",
       "      <th>287</th>\n",
       "      <td>60</td>\n",
       "      <td>4.67</td>\n",
       "      <td>35.68</td>\n",
       "    </tr>\n",
       "    <tr>\n",
       "      <th>203</th>\n",
       "      <td>82</td>\n",
       "      <td>4.61</td>\n",
       "      <td>34.93</td>\n",
       "    </tr>\n",
       "    <tr>\n",
       "      <th>202</th>\n",
       "      <td>81</td>\n",
       "      <td>4.54</td>\n",
       "      <td>32.79</td>\n",
       "    </tr>\n",
       "    <tr>\n",
       "      <th>197</th>\n",
       "      <td>77</td>\n",
       "      <td>4.29</td>\n",
       "      <td>37.47</td>\n",
       "    </tr>\n",
       "  </tbody>\n",
       "</table>\n",
       "</div>"
      ],
      "text/plain": [
       "             team_count  round_6  total\n",
       "game_number                            \n",
       "267                  30     4.80  38.93\n",
       "287                  60     4.67  35.68\n",
       "203                  82     4.61  34.93\n",
       "202                  81     4.54  32.79\n",
       "197                  77     4.29  37.47"
      ]
     },
     "execution_count": 31,
     "metadata": {},
     "output_type": "execute_result"
    }
   ],
   "source": [
    "games = (\n",
    "            df_grouped\n",
    "            .sort_values(by='round_6', ascending=False)\n",
    "            [['team_count', 'round_6', 'total']]\n",
    "            .head()\n",
    ")\n",
    "\n",
    "point_all.append(games['round_6'].values[0])\n",
    "game_all.append(games.index[0])\n",
    "\n",
    "games"
   ]
  },
  {
   "cell_type": "markdown",
   "id": "988f2dce",
   "metadata": {},
   "source": [
    "267 несколько опередил 287, но всего на 0.13"
   ]
  },
  {
   "cell_type": "code",
   "execution_count": 32,
   "id": "3ec058a3",
   "metadata": {},
   "outputs": [
    {
     "data": {
      "text/html": [
       "<div>\n",
       "<style scoped>\n",
       "    .dataframe tbody tr th:only-of-type {\n",
       "        vertical-align: middle;\n",
       "    }\n",
       "\n",
       "    .dataframe tbody tr th {\n",
       "        vertical-align: top;\n",
       "    }\n",
       "\n",
       "    .dataframe thead th {\n",
       "        text-align: right;\n",
       "    }\n",
       "</style>\n",
       "<table border=\"1\" class=\"dataframe\">\n",
       "  <thead>\n",
       "    <tr style=\"text-align: right;\">\n",
       "      <th></th>\n",
       "      <th>game_number_60</th>\n",
       "      <th>points_60</th>\n",
       "      <th>game_number_all</th>\n",
       "      <th>points_all</th>\n",
       "      <th>rel_dif_%</th>\n",
       "    </tr>\n",
       "  </thead>\n",
       "  <tbody>\n",
       "    <tr>\n",
       "      <th>hard_game</th>\n",
       "      <td>657</td>\n",
       "      <td>21.29</td>\n",
       "      <td>657</td>\n",
       "      <td>21.29</td>\n",
       "      <td>0.00</td>\n",
       "    </tr>\n",
       "    <tr>\n",
       "      <th>easy_game</th>\n",
       "      <td>177</td>\n",
       "      <td>41.59</td>\n",
       "      <td>296</td>\n",
       "      <td>41.71</td>\n",
       "      <td>0.29</td>\n",
       "    </tr>\n",
       "    <tr>\n",
       "      <th>hard_round_4</th>\n",
       "      <td>649</td>\n",
       "      <td>2.29</td>\n",
       "      <td>649</td>\n",
       "      <td>2.29</td>\n",
       "      <td>0.00</td>\n",
       "    </tr>\n",
       "    <tr>\n",
       "      <th>easy_round_4</th>\n",
       "      <td>582</td>\n",
       "      <td>8.77</td>\n",
       "      <td>260</td>\n",
       "      <td>10.14</td>\n",
       "      <td>15.62</td>\n",
       "    </tr>\n",
       "    <tr>\n",
       "      <th>hard_round_7</th>\n",
       "      <td>775</td>\n",
       "      <td>2.10</td>\n",
       "      <td>190</td>\n",
       "      <td>2.03</td>\n",
       "      <td>-3.33</td>\n",
       "    </tr>\n",
       "    <tr>\n",
       "      <th>easy_round_7</th>\n",
       "      <td>737</td>\n",
       "      <td>14.01</td>\n",
       "      <td>737</td>\n",
       "      <td>14.01</td>\n",
       "      <td>0.00</td>\n",
       "    </tr>\n",
       "    <tr>\n",
       "      <th>hard_round_6</th>\n",
       "      <td>708</td>\n",
       "      <td>0.34</td>\n",
       "      <td>428</td>\n",
       "      <td>0.33</td>\n",
       "      <td>-2.94</td>\n",
       "    </tr>\n",
       "    <tr>\n",
       "      <th>easy_round_6</th>\n",
       "      <td>287</td>\n",
       "      <td>4.67</td>\n",
       "      <td>267</td>\n",
       "      <td>4.80</td>\n",
       "      <td>2.78</td>\n",
       "    </tr>\n",
       "  </tbody>\n",
       "</table>\n",
       "</div>"
      ],
      "text/plain": [
       "              game_number_60  points_60  game_number_all  points_all  \\\n",
       "hard_game                657      21.29              657       21.29   \n",
       "easy_game                177      41.59              296       41.71   \n",
       "hard_round_4             649       2.29              649        2.29   \n",
       "easy_round_4             582       8.77              260       10.14   \n",
       "hard_round_7             775       2.10              190        2.03   \n",
       "easy_round_7             737      14.01              737       14.01   \n",
       "hard_round_6             708       0.34              428        0.33   \n",
       "easy_round_6             287       4.67              267        4.80   \n",
       "\n",
       "              rel_dif_%  \n",
       "hard_game          0.00  \n",
       "easy_game          0.29  \n",
       "hard_round_4       0.00  \n",
       "easy_round_4      15.62  \n",
       "hard_round_7      -3.33  \n",
       "easy_round_7       0.00  \n",
       "hard_round_6      -2.94  \n",
       "easy_round_6       2.78  "
      ]
     },
     "execution_count": 32,
     "metadata": {},
     "output_type": "execute_result"
    }
   ],
   "source": [
    "#строим сводную таблицу\n",
    "\n",
    "dict_all = {'game_number_all': game_all, 'points_all': point_all}\n",
    "frame_all = pd.DataFrame(dict_all, index=feature)\n",
    "\n",
    "df_pivot_top = pd.concat([frame_60, frame_all], axis=1, ignore_index=False)\n",
    "df_pivot_top['rel_dif_%'] =((df_pivot_top['points_all'] / df_pivot_top['points_60'] - 1) * 100).round(2)\n",
    "\n",
    "df_pivot_top"
   ]
  },
  {
   "cell_type": "markdown",
   "id": "f167a063",
   "metadata": {},
   "source": [
    "**Видим, что часть топа осталась на своих местах независимо от того, как рассматривать игры. Единственная большая разница для лёгкого 4 раунда, но с уменьшением количества команд среднее обычно увеличится, потому что 15 дополнительных очков разыгрываются в любом случае независимо от ответов команд.**\n",
    "\n",
    "<a href='#Оглавление'>Возврат к оглавлению</a>"
   ]
  },
  {
   "cell_type": "markdown",
   "id": "49d283cc",
   "metadata": {},
   "source": [
    "<a id='Графики'> </a>\n",
    "\n",
    "## 3. Графики"
   ]
  },
  {
   "cell_type": "markdown",
   "id": "1266c9f9",
   "metadata": {},
   "source": [
    "Как распределены баллы по плотности?"
   ]
  },
  {
   "cell_type": "code",
   "execution_count": 33,
   "id": "b6dafa07",
   "metadata": {
    "scrolled": false
   },
   "outputs": [
    {
     "data": {
      "image/png": "[encoded data removed]",
      "text/plain": [
       "<Figure size 720x432 with 1 Axes>"
      ]
     },
     "metadata": {
      "needs_background": "light"
     },
     "output_type": "display_data"
    }
   ],
   "source": [
    "fig, ax = plt.subplots(figsize=(10, 6))\n",
    "\n",
    "sns.histplot(data=df, x='total', bins=69, stat='density', kde=True, ax=ax)\n",
    "\n",
    "ax.set_title('Плотность распределения суммарных баллов', fontsize=20, pad=15)\n",
    "ax.set_xlabel('Количество баллов', fontsize=15)\n",
    "ax.set_ylabel('Плотность', fontsize=15)\n",
    "ax.axvline(x=df['total'].mean(), linestyle='--', color='red');"
   ]
  },
  {
   "cell_type": "markdown",
   "id": "f1dc1e9f",
   "metadata": {},
   "source": [
    "Ничего удивительного не обнаружили. Очень похоже на нормальное распределение. Красная линия по вертикали обозначает среднее количество очков."
   ]
  },
  {
   "cell_type": "markdown",
   "id": "757d206e",
   "metadata": {},
   "source": [
    "___"
   ]
  },
  {
   "cell_type": "markdown",
   "id": "0b4313d9",
   "metadata": {},
   "source": [
    "Ответим на вопрос есть стали ли со временем люди набирать в игре больше очков или меньше, а может и нет никакой зависимости.\n",
    "\n",
    "Построим матрицу корреляции, чтобы понять, есть ли какая-либо линейная зависимость между пакетом и раундами. Раунды идут в порядке возрастания, самые новые с самым большим номером. Сооствественно, если корреляция положительная, то со временем люди набирают в раунде больше, если отрицательная, то меньше.\n",
    "\n",
    "Оценку проведём по шкале Чеддока для качественной оценки показателей тесноты связи:\n",
    "    \n",
    "    Количественная мера тесноты связи   Качественная характеристика силы связи\n",
    "    \n",
    "               0.1 - 0.3                          слабая\n",
    "               0.3 - 0.5                          умеренная\n",
    "               0.5 - 0.7                          заметная\n",
    "               0.7 - 0.9                          высокая\n",
    "               0.9 - 0.99                         весьма высокая"
   ]
  },
  {
   "cell_type": "code",
   "execution_count": 34,
   "id": "87aa8f7c",
   "metadata": {},
   "outputs": [
    {
     "data": {
      "image/png": "[encoded data removed]",
      "text/plain": [
       "<Figure size 864x576 with 2 Axes>"
      ]
     },
     "metadata": {
      "needs_background": "light"
     },
     "output_type": "display_data"
    }
   ],
   "source": [
    "fig, ax = plt.subplots(figsize=(12, 8))\n",
    "\n",
    "sns.heatmap(df_grouped.reset_index().corr(),\n",
    "            cmap='coolwarm',\n",
    "            annot=True,\n",
    "            center=0,\n",
    "            square=True\n",
    ")\n",
    "ax.set_title('Тепловая карта матрицы корреляции', fontsize=15, pad=10);"
   ]
  },
  {
   "cell_type": "markdown",
   "id": "7c35f3e0",
   "metadata": {},
   "source": [
    "Видим заметную положительную связь между номером игры и количеством команд, это означает, что в квиз со временем стало играть больше команд.\n",
    "\n",
    "По 2, 4, 5, 6 раундам и по суммарному количеству баллов видим умеренную отрицательную линейную зависимость с номером пакета. Это означает, что со временем люди в среднем стали набирать в данных раундах меньше очков, чем раньше. Слабая отрицательная связь также с раундом 7.\n",
    "\n",
    "Между пакетом и раундами 1 и 3 тесной зависимости не наблюдается."
   ]
  },
  {
   "cell_type": "markdown",
   "id": "6a496a9b",
   "metadata": {},
   "source": [
    "___"
   ]
  },
  {
   "cell_type": "markdown",
   "id": "703a86c8",
   "metadata": {},
   "source": [
    "Построим диаграммы рассеяния, чтобы наглядно посмотреть зависимость."
   ]
  },
  {
   "cell_type": "code",
   "execution_count": 35,
   "id": "6ee5c84f",
   "metadata": {},
   "outputs": [
    {
     "data": {
      "image/png": "[encoded data removed]",
      "text/plain": [
       "<Figure size 720x720 with 6 Axes>"
      ]
     },
     "metadata": {
      "needs_background": "light"
     },
     "output_type": "display_data"
    }
   ],
   "source": [
    "columns = ['round_2', 'round_4', 'round_5', 'round_6', 'round_7', 'total']\n",
    "\n",
    "fig, ax = plt.subplots(nrows=3, ncols=2, figsize=(10, 10))\n",
    "\n",
    "for i, column in enumerate(columns):\n",
    "    row_index = i // 2\n",
    "    col_index = i % 2\n",
    "\n",
    "    df_grouped.reset_index().plot(x='game_number', y=column, ax=ax[row_index, col_index], kind='scatter')\n",
    "\n",
    "    ax[row_index, col_index].set_title('Количество баллов в зависимости от игры [{}]'.format(column), fontsize=10, pad=15)\n",
    "    ax[row_index, col_index].set_xlabel('Номер пакета', fontsize=10)\n",
    "    ax[row_index, col_index].set_ylabel('Среднее количество баллов', fontsize=10)\n",
    "\n",
    "plt.tight_layout()\n",
    "plt.show()"
   ]
  },
  {
   "cell_type": "markdown",
   "id": "ff1ec78d",
   "metadata": {},
   "source": [
    "Смотря на большинство графиков, визуально просится линия слева направо. То есть от большего количества баллов к меньшему с увеличением номера пакета. Таким образом проиллюстрирована линейная зависимость, которую мы обнаружили в матрице корреляций."
   ]
  },
  {
   "cell_type": "markdown",
   "id": "09b60c1c",
   "metadata": {},
   "source": [
    "**Со временем команды начали набирать меньшее количество баллов. Связано ли это с увеличивающейся сложность, или с бОльшим количеством новых команд или по каким-то другим причинам сказать сложно, но результаты такие.**\n",
    "\n",
    "<a href='#Оглавление'>Возврат к оглавлению</a>"
   ]
  },
  {
   "cell_type": "markdown",
   "id": "0d15ec01",
   "metadata": {},
   "source": [
    "<a id='Гипотезы'> </a>\n",
    "\n",
    "## 4. Гипотезы"
   ]
  },
  {
   "cell_type": "markdown",
   "id": "26c7e760",
   "metadata": {},
   "source": [
    "Ранее мы рассматривали все игры вместе в разрезе одного пакета. Сейчас же посмотрим, есть разница между играющими в рамках одних пакетов. Игры для новичков проходят на тех же вопросах, но для менее опытных команд. Есть ли разница в результатах?\n",
    "\n",
    "Сформулируем гипотезы для сравнения игр `[новички] SPB` и `Квиз, плиз! SPB`, они одинаковые для всех раундов и суммарного количества баллов:\n",
    "\n",
    "- H0: нет различий между средними количества баллов\n",
    "- H1: есть различия между средними количества баллов"
   ]
  },
  {
   "cell_type": "code",
   "execution_count": 36,
   "id": "677d25fe",
   "metadata": {},
   "outputs": [],
   "source": [
    "# напишем функцию, так как расчётов много\n",
    "\n",
    "def GetStats(features):\n",
    "    \n",
    "    # признаки - раунды и сумма по всем раундам\n",
    "    for feature in features:\n",
    "        new = df[df['game_name'] == '[новички] SPB'][feature]\n",
    "        old = df[df['game_name'] == 'Квиз, плиз! SPB'][feature]\n",
    "        \n",
    "        print('Средний балл в игре \"[новички] SPB\" по {}: {}'.format(feature, round(new.mean(), 2)))\n",
    "        print('Средний балл в игре \"Квиз, плиз! SPB\" по {}: {}'.format(feature, round(old.mean(), 2)))\n",
    "        \n",
    "        # уровень статистической значимости\n",
    "        # если p-value окажется меньше него, отвергнем нулевую гипотезу\n",
    "        alpha = 0.05 \n",
    "\n",
    "        results = st.ttest_ind(old, new)\n",
    "\n",
    "        print('p-значение:', results.pvalue)\n",
    "\n",
    "        if results.pvalue < alpha:\n",
    "            print('Отвергаем нулевую гипотезу')\n",
    "        else:\n",
    "            print('Не получилось отвергнуть нулевую гипотезу')\n",
    "            \n",
    "        print('')"
   ]
  },
  {
   "cell_type": "code",
   "execution_count": 37,
   "id": "13f55240",
   "metadata": {},
   "outputs": [
    {
     "name": "stdout",
     "output_type": "stream",
     "text": [
      "Средний балл в игре \"[новички] SPB\" по round_1: 4.18\n",
      "Средний балл в игре \"Квиз, плиз! SPB\" по round_1: 4.41\n",
      "p-значение: 5.691821392696917e-31\n",
      "Отвергаем нулевую гипотезу\n",
      "\n",
      "Средний балл в игре \"[новички] SPB\" по round_2: 3.2\n",
      "Средний балл в игре \"Квиз, плиз! SPB\" по round_2: 3.89\n",
      "p-значение: 1.3766672173301137e-147\n",
      "Отвергаем нулевую гипотезу\n",
      "\n",
      "Средний балл в игре \"[новички] SPB\" по round_3: 3.27\n",
      "Средний балл в игре \"Квиз, плиз! SPB\" по round_3: 3.75\n",
      "p-значение: 1.9844205856915678e-94\n",
      "Отвергаем нулевую гипотезу\n",
      "\n",
      "Средний балл в игре \"[новички] SPB\" по round_4: 4.42\n",
      "Средний балл в игре \"Квиз, плиз! SPB\" по round_4: 5.95\n",
      "p-значение: 1.1104733155223583e-204\n",
      "Отвергаем нулевую гипотезу\n",
      "\n",
      "Средний балл в игре \"[новички] SPB\" по round_5: 3.04\n",
      "Средний балл в игре \"Квиз, плиз! SPB\" по round_5: 3.92\n",
      "p-значение: 3.012609877420359e-212\n",
      "Отвергаем нулевую гипотезу\n",
      "\n",
      "Средний балл в игре \"[новички] SPB\" по round_6: 1.19\n",
      "Средний балл в игре \"Квиз, плиз! SPB\" по round_6: 1.9\n",
      "p-значение: 2.5076662862328227e-117\n",
      "Отвергаем нулевую гипотезу\n",
      "\n",
      "Средний балл в игре \"[новички] SPB\" по round_7: 5.83\n",
      "Средний балл в игре \"Квиз, плиз! SPB\" по round_7: 7.86\n",
      "p-значение: 1.0392410102433137e-127\n",
      "Отвергаем нулевую гипотезу\n",
      "\n",
      "Средний балл в игре \"[новички] SPB\" по total: 25.13\n",
      "Средний балл в игре \"Квиз, плиз! SPB\" по total: 31.68\n",
      "p-значение: 2.2268403789332472e-291\n",
      "Отвергаем нулевую гипотезу\n",
      "\n"
     ]
    }
   ],
   "source": [
    "features = ['round_1', 'round_2', 'round_3', 'round_4', 'round_5', 'round_6', 'round_7', 'total']\n",
    "\n",
    "GetStats(features)"
   ]
  },
  {
   "cell_type": "markdown",
   "id": "ed17b9e2",
   "metadata": {},
   "source": [
    "**Значение по всем раундам ниже p-value, есть основания отвергнуть нулевые гипотезы в пользу альтернативных и считать, что есть статистически значимые разницы в среднем количестве баллов, что означает, что на играх новичков набирается в среднем меньшее количество баллов.**"
   ]
  },
  {
   "cell_type": "markdown",
   "id": "4b9d4fa2",
   "metadata": {},
   "source": [
    "___"
   ]
  },
  {
   "cell_type": "markdown",
   "id": "5caab7d8",
   "metadata": {},
   "source": [
    "В конце приведём сводную таблицу с относительной разницей баллов."
   ]
  },
  {
   "cell_type": "code",
   "execution_count": 38,
   "id": "7ef425b6",
   "metadata": {},
   "outputs": [
    {
     "data": {
      "text/html": [
       "<div>\n",
       "<style scoped>\n",
       "    .dataframe tbody tr th:only-of-type {\n",
       "        vertical-align: middle;\n",
       "    }\n",
       "\n",
       "    .dataframe tbody tr th {\n",
       "        vertical-align: top;\n",
       "    }\n",
       "\n",
       "    .dataframe thead th {\n",
       "        text-align: right;\n",
       "    }\n",
       "</style>\n",
       "<table border=\"1\" class=\"dataframe\">\n",
       "  <thead>\n",
       "    <tr style=\"text-align: right;\">\n",
       "      <th>game_name</th>\n",
       "      <th>[новички] SPB</th>\n",
       "      <th>Квиз, плиз! SPB</th>\n",
       "      <th>rel_dif_%</th>\n",
       "    </tr>\n",
       "  </thead>\n",
       "  <tbody>\n",
       "    <tr>\n",
       "      <th>round_1</th>\n",
       "      <td>4.18</td>\n",
       "      <td>4.41</td>\n",
       "      <td>5.41</td>\n",
       "    </tr>\n",
       "    <tr>\n",
       "      <th>round_2</th>\n",
       "      <td>3.20</td>\n",
       "      <td>3.89</td>\n",
       "      <td>21.25</td>\n",
       "    </tr>\n",
       "    <tr>\n",
       "      <th>round_3</th>\n",
       "      <td>3.27</td>\n",
       "      <td>3.75</td>\n",
       "      <td>14.85</td>\n",
       "    </tr>\n",
       "    <tr>\n",
       "      <th>round_4</th>\n",
       "      <td>4.42</td>\n",
       "      <td>5.95</td>\n",
       "      <td>34.64</td>\n",
       "    </tr>\n",
       "    <tr>\n",
       "      <th>round_5</th>\n",
       "      <td>3.04</td>\n",
       "      <td>3.92</td>\n",
       "      <td>29.16</td>\n",
       "    </tr>\n",
       "    <tr>\n",
       "      <th>round_6</th>\n",
       "      <td>1.19</td>\n",
       "      <td>1.90</td>\n",
       "      <td>59.96</td>\n",
       "    </tr>\n",
       "    <tr>\n",
       "      <th>round_7</th>\n",
       "      <td>5.83</td>\n",
       "      <td>7.86</td>\n",
       "      <td>34.76</td>\n",
       "    </tr>\n",
       "    <tr>\n",
       "      <th>total</th>\n",
       "      <td>25.13</td>\n",
       "      <td>31.68</td>\n",
       "      <td>26.05</td>\n",
       "    </tr>\n",
       "  </tbody>\n",
       "</table>\n",
       "</div>"
      ],
      "text/plain": [
       "game_name  [новички] SPB  Квиз, плиз! SPB  rel_dif_%\n",
       "round_1             4.18             4.41       5.41\n",
       "round_2             3.20             3.89      21.25\n",
       "round_3             3.27             3.75      14.85\n",
       "round_4             4.42             5.95      34.64\n",
       "round_5             3.04             3.92      29.16\n",
       "round_6             1.19             1.90      59.96\n",
       "round_7             5.83             7.86      34.76\n",
       "total              25.13            31.68      26.05"
      ]
     },
     "execution_count": 38,
     "metadata": {},
     "output_type": "execute_result"
    }
   ],
   "source": [
    "round_pivot = (\n",
    "    df.pivot_table(\n",
    "        columns='game_name',\n",
    "        aggfunc={\n",
    "            'round_1': 'mean',\n",
    "            'round_2': 'mean',\n",
    "            'round_3': 'mean',\n",
    "            'round_4': 'mean',\n",
    "            'round_5': 'mean',\n",
    "            'round_6': 'mean',\n",
    "            'round_7': 'mean',\n",
    "            'total': 'mean'\n",
    "        }\n",
    "    )\n",
    ")\n",
    "\n",
    "\n",
    "round_pivot['rel_dif_%'] = (round_pivot['Квиз, плиз! SPB'] / round_pivot['[новички] SPB'] - 1) * 100\n",
    "round_pivot = round_pivot.round(2)\n",
    "\n",
    "round_pivot"
   ]
  },
  {
   "cell_type": "markdown",
   "id": "9a638a53",
   "metadata": {},
   "source": [
    "**По всем показателям более опытные команды опережают менее опытных.**\n",
    "\n",
    "<a href='#Оглавление'>Возврат к оглавлению</a>"
   ]
  },
  {
   "cell_type": "markdown",
   "id": "19c1453c",
   "metadata": {},
   "source": [
    "<a id='Вывод'> </a>\n",
    "\n",
    "## 5. Вывод"
   ]
  },
  {
   "cell_type": "markdown",
   "id": "4b8f166a",
   "metadata": {},
   "source": [
    "Мы рассмотрели некоторые детали игры \"Квиз, плиз!\". Выяснили, что некоторые пакеты бывают действительно сильно сложнее остальных, а некоторые наоборот. Сложность отдельного раунда в пакетах также сильно варьируется. Заметили интересную закономерность, что со временем команды стали в набирать в сумме меньше баллов. А также убедились, что опыт в игре тоже важен, новички (пока) набирают в среднем меньше баллов во всех раундах.\n",
    "\n",
    "<a href='#Оглавление'>Возврат к оглавлению</a>"
   ]
  }
 ],
 "metadata": {
  "kernelspec": {
   "display_name": "Python 3 (ipykernel)",
   "language": "python",
   "name": "python3"
  },
  "language_info": {
   "codemirror_mode": {
    "name": "ipython",
    "version": 3
   },
   "file_extension": ".py",
   "mimetype": "text/x-python",
   "name": "python",
   "nbconvert_exporter": "python",
   "pygments_lexer": "ipython3",
   "version": "3.9.13"
  }
 },
 "nbformat": 4,
 "nbformat_minor": 5
}
