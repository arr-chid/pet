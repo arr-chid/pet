{
 "cells": [
  {
   "cell_type": "code",
   "execution_count": 1,
   "id": "787bdb98",
   "metadata": {},
   "outputs": [],
   "source": [
    "import pandas as pd\n",
    "from requests import get\n",
    "from bs4 import BeautifulSoup\n",
    "\n",
    "import time\n",
    "from tqdm.notebook import trange, tqdm"
   ]
  },
  {
   "cell_type": "code",
   "execution_count": 2,
   "id": "cf08f083",
   "metadata": {},
   "outputs": [],
   "source": [
    "def GetPageLinks(page_number):\n",
    "    '''\n",
    "    \n",
    "    Запрашивает данные по странице с прощедшими играми.\n",
    "   \n",
    "    Возвращает quiz_link: объект list, состоящий из 12 линков формата \"/game-page?id=*\"\n",
    "    \n",
    "    '''\n",
    "    \n",
    "    \n",
    "    # страница прошедших игр\n",
    "    page_link = 'https://quizplease.ru/schedule-past?QpGameSearch%5BcityId%5D=17&QpGameSearch%5Bmonth%5D=0&QpGameSearch%5Btype%5D=1&QpGameSearch%5Bbars%5D=all&page={}&per-page=12'.format(page_number)\n",
    "    \n",
    "    # запрашиваем данные со страницы\n",
    "    response = get(page_link)\n",
    "    \n",
    "    # проверяем есть ли ответ\n",
    "    if not response.ok:\n",
    "        return []\n",
    "    \n",
    "    # получаем содержимое страницы\n",
    "    html = response.content\n",
    "    soup = BeautifulSoup(html, 'html.parser')\n",
    "    \n",
    "    # получаем по href список с линками 12 игр\n",
    "    quiz_links = soup.findAll('a', {'class': 'button button-transwhite button-left button-small-line w-button'})\n",
    "    quiz_links = [item.get('href') for item in quiz_links]\n",
    "    \n",
    "    \n",
    "    return quiz_links"
   ]
  },
  {
   "cell_type": "code",
   "execution_count": 3,
   "id": "05c24cd8",
   "metadata": {},
   "outputs": [],
   "source": [
    "def GetSoup(link):\n",
    "    \n",
    "    '''\n",
    "    Запрашивает информацию по линку.\n",
    "    \n",
    "    Возвращает soup: объект bs4.BeautifulSoup, представление текущей страницы\n",
    "    \n",
    "    Возвращает exam: объект bool, является игра стримом или нет\n",
    "    \n",
    "    '''\n",
    "    \n",
    "    # запрашиваем данные со страницы\n",
    "    response = get('https://quizplease.ru{}'.format(link))\n",
    "#     if not response.ok:\n",
    "#         return []\n",
    "    # получаем содержимое страницы\n",
    "    soup = BeautifulSoup(response.content, 'html.parser')\n",
    "    \n",
    "    # находим название игры\n",
    "    game_title_number = soup.findAll('h1', {'class': 'h1 h1-left'})\n",
    "    \n",
    "    title = '' if not game_title_number else game_title_number[0].text\n",
    "    \n",
    "    # проверяем стрим это, или нет\n",
    "    if 'стрим' in title:\n",
    "        exam = True\n",
    "    else:\n",
    "        exam = False\n",
    "    \n",
    "    return soup, exam"
   ]
  },
  {
   "cell_type": "code",
   "execution_count": 4,
   "id": "e7162acc",
   "metadata": {},
   "outputs": [],
   "source": [
    "def GetGameInformation(soup):\n",
    "    \n",
    "    '''\n",
    "    Получает основную информацию об игре\n",
    "    \n",
    "    Возвращает основные характеристики объекты list\n",
    "    '''\n",
    "    \n",
    "    # получаем название и номер игры\n",
    "    game_title_number = soup.findAll('h1', {'class': 'h1 h1-left'})\n",
    "    \n",
    "    title = '' if not game_title_number else game_title_number[0].text\n",
    "    game_number = '' if not game_title_number else game_title_number[1].text    \n",
    "    \n",
    "    # получаем список по классу, из которого далее будем получать информацию\n",
    "    total_information = soup.findAll('div', {'class': 'game-info-column'})\n",
    "    \n",
    "    # находим название заведения и его адрес\n",
    "    bar_name_adress = total_information[1]\n",
    "    bar_name = '' if not bar_name_adress else bar_name_adress.find('div', {'class': 'text'}).text\n",
    "    bar_adress = '' if not bar_name_adress else bar_name_adress.find('div', {'class': 'text text-grey'}).text\n",
    "    \n",
    "    # получаем дату\n",
    "    date = total_information[2]\n",
    "\n",
    "    date = (\n",
    "        '' if not date else \n",
    "        date.find('div', {'class': 'text'}).text +\n",
    "        \", \" +\n",
    "        date.find('div', {'class': 'text text-grey'}).text\n",
    "    )\n",
    "    \n",
    "    return title, game_number, bar_name, bar_adress, date"
   ]
  },
  {
   "cell_type": "code",
   "execution_count": 5,
   "id": "820294a5",
   "metadata": {},
   "outputs": [],
   "source": [
    "def GetGameTable(link):\n",
    "    \n",
    "    '''\n",
    "    Получаем таблицу с результатами игры\n",
    "    \n",
    "    Возвращает объект pandas.core.frame.DataFrame\n",
    "    \n",
    "    '''\n",
    "    \n",
    "    table = pd.read_html('https://quizplease.ru{}'.format(link), encoding='UTF-8')[0]\n",
    "    \n",
    "    return table"
   ]
  },
  {
   "cell_type": "code",
   "execution_count": 6,
   "id": "2b9c51b6",
   "metadata": {},
   "outputs": [],
   "source": [
    "def GetFinalTable(table, title, game_number, bar_name, bar_adress, date, link):\n",
    "    \n",
    "    '''\n",
    "    Формирует конечную таблицу\n",
    "    \n",
    "    Возвращает объект pandas.core.frame.DataFrame\n",
    "    '''\n",
    "    \n",
    "    table['Название игры'] = title\n",
    "    table['Номер игры'] = game_number\n",
    "    table['Название площадки'] = bar_name\n",
    "    table['Адрес площадки'] = bar_adress\n",
    "    table['Дата проведения'] = date\n",
    "    table['Ссылка на сайт'] = 'https://quizplease.ru' + link\n",
    "    \n",
    "    return table"
   ]
  },
  {
   "cell_type": "code",
   "execution_count": 111,
   "id": "a281ad7c",
   "metadata": {
    "scrolled": true
   },
   "outputs": [
    {
     "data": {
      "application/vnd.jupyter.widget-view+json": {
       "model_id": "5a678a97c0de4a2ba850a2fd950c754c",
       "version_major": 2,
       "version_minor": 0
      },
      "text/plain": [
       "Страница:   0%|          | 0/169 [00:00<?, ?it/s]"
      ]
     },
     "metadata": {},
     "output_type": "display_data"
    },
    {
     "data": {
      "application/vnd.jupyter.widget-view+json": {
       "model_id": "b99a5919482b43f4ab29dfd95e7825e6",
       "version_major": 2,
       "version_minor": 0
      },
      "text/plain": [
       "Игры:   0%|          | 0/12 [00:00<?, ?it/s]"
      ]
     },
     "metadata": {},
     "output_type": "display_data"
    },
    {
     "name": "stdout",
     "output_type": "stream",
     "text": [
      "Стримов: 1\n",
      "Стримов: 2\n"
     ]
    },
    {
     "data": {
      "application/vnd.jupyter.widget-view+json": {
       "model_id": "3b4fd1ce5af84baa830e09f8f4e33db6",
       "version_major": 2,
       "version_minor": 0
      },
      "text/plain": [
       "Игры:   0%|          | 0/12 [00:00<?, ?it/s]"
      ]
     },
     "metadata": {},
     "output_type": "display_data"
    },
    {
     "name": "stdout",
     "output_type": "stream",
     "text": [
      "Стримов: 3\n",
      "Стримов: 4\n"
     ]
    },
    {
     "data": {
      "application/vnd.jupyter.widget-view+json": {
       "model_id": "8af4058b8bb14492966db010d1c2203b",
       "version_major": 2,
       "version_minor": 0
      },
      "text/plain": [
       "Игры:   0%|          | 0/12 [00:00<?, ?it/s]"
      ]
     },
     "metadata": {},
     "output_type": "display_data"
    },
    {
     "name": "stdout",
     "output_type": "stream",
     "text": [
      "Нет данных /game-page?id=71519\n",
      "Нет данных /game-page?id=71519\n",
      "Стримов: 5\n",
      "Нет данных /game-page?id=71064\n",
      "Нет данных /game-page?id=71064\n"
     ]
    },
    {
     "data": {
      "application/vnd.jupyter.widget-view+json": {
       "model_id": "53f073320f14467dbf5860b35a5f3e46",
       "version_major": 2,
       "version_minor": 0
      },
      "text/plain": [
       "Игры:   0%|          | 0/12 [00:00<?, ?it/s]"
      ]
     },
     "metadata": {},
     "output_type": "display_data"
    },
    {
     "name": "stdout",
     "output_type": "stream",
     "text": [
      "Стримов: 6\n",
      "Стримов: 7\n"
     ]
    },
    {
     "data": {
      "application/vnd.jupyter.widget-view+json": {
       "model_id": "20dc614c6a0644d19e8326cb803121f3",
       "version_major": 2,
       "version_minor": 0
      },
      "text/plain": [
       "Игры:   0%|          | 0/12 [00:00<?, ?it/s]"
      ]
     },
     "metadata": {},
     "output_type": "display_data"
    },
    {
     "name": "stdout",
     "output_type": "stream",
     "text": [
      "Стримов: 8\n",
      "Стримов: 9\n"
     ]
    },
    {
     "data": {
      "application/vnd.jupyter.widget-view+json": {
       "model_id": "00d818ebda5e4c3db705fb2c0eff0803",
       "version_major": 2,
       "version_minor": 0
      },
      "text/plain": [
       "Игры:   0%|          | 0/12 [00:00<?, ?it/s]"
      ]
     },
     "metadata": {},
     "output_type": "display_data"
    },
    {
     "name": "stdout",
     "output_type": "stream",
     "text": [
      "Стримов: 10\n",
      "Стримов: 11\n",
      "Стримов: 12\n"
     ]
    },
    {
     "data": {
      "application/vnd.jupyter.widget-view+json": {
       "model_id": "a9c9958ecd06451c9bbf5e1d8315140e",
       "version_major": 2,
       "version_minor": 0
      },
      "text/plain": [
       "Игры:   0%|          | 0/12 [00:00<?, ?it/s]"
      ]
     },
     "metadata": {},
     "output_type": "display_data"
    },
    {
     "name": "stdout",
     "output_type": "stream",
     "text": [
      "Стримов: 13\n",
      "Стримов: 14\n",
      "Стримов: 15\n"
     ]
    },
    {
     "data": {
      "application/vnd.jupyter.widget-view+json": {
       "model_id": "2ef686af19e94011acc88d27ea7edd3e",
       "version_major": 2,
       "version_minor": 0
      },
      "text/plain": [
       "Игры:   0%|          | 0/12 [00:00<?, ?it/s]"
      ]
     },
     "metadata": {},
     "output_type": "display_data"
    },
    {
     "name": "stdout",
     "output_type": "stream",
     "text": [
      "Стримов: 16\n",
      "Стримов: 17\n",
      "Стримов: 18\n",
      "Нет данных /game-page?id=68975\n",
      "Нет данных /game-page?id=68975\n"
     ]
    },
    {
     "data": {
      "application/vnd.jupyter.widget-view+json": {
       "model_id": "b96605cf1ca040f1b5b8f2120a31e448",
       "version_major": 2,
       "version_minor": 0
      },
      "text/plain": [
       "Игры:   0%|          | 0/12 [00:00<?, ?it/s]"
      ]
     },
     "metadata": {},
     "output_type": "display_data"
    },
    {
     "name": "stdout",
     "output_type": "stream",
     "text": [
      "Стримов: 19\n",
      "Стримов: 20\n"
     ]
    },
    {
     "data": {
      "application/vnd.jupyter.widget-view+json": {
       "model_id": "d82b4b54c1b54c3d8e00417311005564",
       "version_major": 2,
       "version_minor": 0
      },
      "text/plain": [
       "Игры:   0%|          | 0/12 [00:00<?, ?it/s]"
      ]
     },
     "metadata": {},
     "output_type": "display_data"
    },
    {
     "name": "stdout",
     "output_type": "stream",
     "text": [
      "Стримов: 21\n",
      "Стримов: 22\n"
     ]
    },
    {
     "data": {
      "application/vnd.jupyter.widget-view+json": {
       "model_id": "cc539b19ce0f4cb39ebbd3b9129d2e8f",
       "version_major": 2,
       "version_minor": 0
      },
      "text/plain": [
       "Игры:   0%|          | 0/12 [00:00<?, ?it/s]"
      ]
     },
     "metadata": {},
     "output_type": "display_data"
    },
    {
     "name": "stdout",
     "output_type": "stream",
     "text": [
      "Стримов: 23\n",
      "Стримов: 24\n"
     ]
    },
    {
     "data": {
      "application/vnd.jupyter.widget-view+json": {
       "model_id": "4bdba85a3bf54f0a88d4c0825adedd0e",
       "version_major": 2,
       "version_minor": 0
      },
      "text/plain": [
       "Игры:   0%|          | 0/12 [00:00<?, ?it/s]"
      ]
     },
     "metadata": {},
     "output_type": "display_data"
    },
    {
     "name": "stdout",
     "output_type": "stream",
     "text": [
      "Стримов: 25\n",
      "Стримов: 26\n"
     ]
    },
    {
     "data": {
      "application/vnd.jupyter.widget-view+json": {
       "model_id": "7fef4937e53f46a99330239287eacbde",
       "version_major": 2,
       "version_minor": 0
      },
      "text/plain": [
       "Игры:   0%|          | 0/12 [00:00<?, ?it/s]"
      ]
     },
     "metadata": {},
     "output_type": "display_data"
    },
    {
     "name": "stdout",
     "output_type": "stream",
     "text": [
      "Стримов: 27\n",
      "Стримов: 28\n"
     ]
    },
    {
     "data": {
      "application/vnd.jupyter.widget-view+json": {
       "model_id": "6544f199ecac4c0190c645fcfc3af719",
       "version_major": 2,
       "version_minor": 0
      },
      "text/plain": [
       "Игры:   0%|          | 0/12 [00:00<?, ?it/s]"
      ]
     },
     "metadata": {},
     "output_type": "display_data"
    },
    {
     "name": "stdout",
     "output_type": "stream",
     "text": [
      "Нет данных /game-page?id=66446\n",
      "Нет данных /game-page?id=66446\n",
      "Стримов: 29\n",
      "Стримов: 30\n"
     ]
    },
    {
     "data": {
      "application/vnd.jupyter.widget-view+json": {
       "model_id": "82f21bf74bc343cf850ecf25481e1cd8",
       "version_major": 2,
       "version_minor": 0
      },
      "text/plain": [
       "Игры:   0%|          | 0/12 [00:00<?, ?it/s]"
      ]
     },
     "metadata": {},
     "output_type": "display_data"
    },
    {
     "name": "stdout",
     "output_type": "stream",
     "text": [
      "Стримов: 31\n",
      "Стримов: 32\n"
     ]
    },
    {
     "data": {
      "application/vnd.jupyter.widget-view+json": {
       "model_id": "d1dd5492655247728ef1acaee3a73305",
       "version_major": 2,
       "version_minor": 0
      },
      "text/plain": [
       "Игры:   0%|          | 0/12 [00:00<?, ?it/s]"
      ]
     },
     "metadata": {},
     "output_type": "display_data"
    },
    {
     "name": "stdout",
     "output_type": "stream",
     "text": [
      "Стримов: 33\n",
      "Стримов: 34\n"
     ]
    },
    {
     "data": {
      "application/vnd.jupyter.widget-view+json": {
       "model_id": "6286cb3613584c27ac1f2e4277677c12",
       "version_major": 2,
       "version_minor": 0
      },
      "text/plain": [
       "Игры:   0%|          | 0/12 [00:00<?, ?it/s]"
      ]
     },
     "metadata": {},
     "output_type": "display_data"
    },
    {
     "name": "stdout",
     "output_type": "stream",
     "text": [
      "Стримов: 35\n",
      "Стримов: 36\n"
     ]
    },
    {
     "data": {
      "application/vnd.jupyter.widget-view+json": {
       "model_id": "3750393758d14ca4b906fde589568a62",
       "version_major": 2,
       "version_minor": 0
      },
      "text/plain": [
       "Игры:   0%|          | 0/12 [00:00<?, ?it/s]"
      ]
     },
     "metadata": {},
     "output_type": "display_data"
    },
    {
     "name": "stdout",
     "output_type": "stream",
     "text": [
      "Стримов: 37\n",
      "Нет данных /game-page?id=65275\n",
      "Нет данных /game-page?id=65275\n"
     ]
    },
    {
     "data": {
      "application/vnd.jupyter.widget-view+json": {
       "model_id": "31612907da33449c92a24acd8c9e4ac5",
       "version_major": 2,
       "version_minor": 0
      },
      "text/plain": [
       "Игры:   0%|          | 0/12 [00:00<?, ?it/s]"
      ]
     },
     "metadata": {},
     "output_type": "display_data"
    },
    {
     "name": "stdout",
     "output_type": "stream",
     "text": [
      "Стримов: 38\n",
      "Стримов: 39\n"
     ]
    },
    {
     "data": {
      "application/vnd.jupyter.widget-view+json": {
       "model_id": "37583f064cd74e2695f4ce82fef87e6d",
       "version_major": 2,
       "version_minor": 0
      },
      "text/plain": [
       "Игры:   0%|          | 0/12 [00:00<?, ?it/s]"
      ]
     },
     "metadata": {},
     "output_type": "display_data"
    },
    {
     "name": "stdout",
     "output_type": "stream",
     "text": [
      "Стримов: 40\n",
      "Стримов: 41\n",
      "Стримов: 42\n"
     ]
    },
    {
     "data": {
      "application/vnd.jupyter.widget-view+json": {
       "model_id": "7f052ab3386f4b66a0f9d59583853fd8",
       "version_major": 2,
       "version_minor": 0
      },
      "text/plain": [
       "Игры:   0%|          | 0/12 [00:00<?, ?it/s]"
      ]
     },
     "metadata": {},
     "output_type": "display_data"
    },
    {
     "name": "stdout",
     "output_type": "stream",
     "text": [
      "Нет данных /game-page?id=63974\n",
      "Нет данных /game-page?id=63974\n",
      "Стримов: 43\n",
      "Стримов: 44\n"
     ]
    },
    {
     "data": {
      "application/vnd.jupyter.widget-view+json": {
       "model_id": "39603adad4264ffa8e7475a7876d5751",
       "version_major": 2,
       "version_minor": 0
      },
      "text/plain": [
       "Игры:   0%|          | 0/12 [00:00<?, ?it/s]"
      ]
     },
     "metadata": {},
     "output_type": "display_data"
    },
    {
     "name": "stdout",
     "output_type": "stream",
     "text": [
      "Стримов: 45\n",
      "Стримов: 46\n",
      "Стримов: 47\n"
     ]
    },
    {
     "data": {
      "application/vnd.jupyter.widget-view+json": {
       "model_id": "0e11d8ec58e64ebbb6f0e2c4c68c0a98",
       "version_major": 2,
       "version_minor": 0
      },
      "text/plain": [
       "Игры:   0%|          | 0/12 [00:00<?, ?it/s]"
      ]
     },
     "metadata": {},
     "output_type": "display_data"
    },
    {
     "name": "stdout",
     "output_type": "stream",
     "text": [
      "Стримов: 48\n",
      "Стримов: 49\n"
     ]
    },
    {
     "data": {
      "application/vnd.jupyter.widget-view+json": {
       "model_id": "617c8fe246c74932961b1f6bc6040eaa",
       "version_major": 2,
       "version_minor": 0
      },
      "text/plain": [
       "Игры:   0%|          | 0/12 [00:00<?, ?it/s]"
      ]
     },
     "metadata": {},
     "output_type": "display_data"
    },
    {
     "name": "stdout",
     "output_type": "stream",
     "text": [
      "Стримов: 50\n",
      "Стримов: 51\n"
     ]
    },
    {
     "data": {
      "application/vnd.jupyter.widget-view+json": {
       "model_id": "aaa388ae6f584449ac25a4f2b6227708",
       "version_major": 2,
       "version_minor": 0
      },
      "text/plain": [
       "Игры:   0%|          | 0/12 [00:00<?, ?it/s]"
      ]
     },
     "metadata": {},
     "output_type": "display_data"
    },
    {
     "name": "stdout",
     "output_type": "stream",
     "text": [
      "Стримов: 52\n",
      "Стримов: 53\n"
     ]
    },
    {
     "data": {
      "application/vnd.jupyter.widget-view+json": {
       "model_id": "98320e5db20543e29dc646511e91c21c",
       "version_major": 2,
       "version_minor": 0
      },
      "text/plain": [
       "Игры:   0%|          | 0/12 [00:00<?, ?it/s]"
      ]
     },
     "metadata": {},
     "output_type": "display_data"
    },
    {
     "name": "stdout",
     "output_type": "stream",
     "text": [
      "Стримов: 54\n",
      "Стримов: 55\n"
     ]
    },
    {
     "data": {
      "application/vnd.jupyter.widget-view+json": {
       "model_id": "cf7a2c2ca90845228376c086849f8cc4",
       "version_major": 2,
       "version_minor": 0
      },
      "text/plain": [
       "Игры:   0%|          | 0/12 [00:00<?, ?it/s]"
      ]
     },
     "metadata": {},
     "output_type": "display_data"
    },
    {
     "name": "stdout",
     "output_type": "stream",
     "text": [
      "Стримов: 56\n",
      "Стримов: 57\n"
     ]
    },
    {
     "data": {
      "application/vnd.jupyter.widget-view+json": {
       "model_id": "66fcd07e8417436ea6b22ce16fe7f1b5",
       "version_major": 2,
       "version_minor": 0
      },
      "text/plain": [
       "Игры:   0%|          | 0/12 [00:00<?, ?it/s]"
      ]
     },
     "metadata": {},
     "output_type": "display_data"
    },
    {
     "name": "stdout",
     "output_type": "stream",
     "text": [
      "Стримов: 58\n",
      "Стримов: 59\n"
     ]
    },
    {
     "data": {
      "application/vnd.jupyter.widget-view+json": {
       "model_id": "6c94cd8a505a407a8fc3a1b32633db30",
       "version_major": 2,
       "version_minor": 0
      },
      "text/plain": [
       "Игры:   0%|          | 0/12 [00:00<?, ?it/s]"
      ]
     },
     "metadata": {},
     "output_type": "display_data"
    },
    {
     "name": "stdout",
     "output_type": "stream",
     "text": [
      "Стримов: 60\n",
      "Стримов: 61\n"
     ]
    },
    {
     "data": {
      "application/vnd.jupyter.widget-view+json": {
       "model_id": "5069841b400543b88f65d43e2f016c0a",
       "version_major": 2,
       "version_minor": 0
      },
      "text/plain": [
       "Игры:   0%|          | 0/12 [00:00<?, ?it/s]"
      ]
     },
     "metadata": {},
     "output_type": "display_data"
    },
    {
     "name": "stdout",
     "output_type": "stream",
     "text": [
      "Стримов: 62\n",
      "Нет данных /game-page?id=60451\n",
      "Нет данных /game-page?id=60451\n",
      "Стримов: 63\n"
     ]
    },
    {
     "data": {
      "application/vnd.jupyter.widget-view+json": {
       "model_id": "9595da9fa63e41cd8206dea785b46bab",
       "version_major": 2,
       "version_minor": 0
      },
      "text/plain": [
       "Игры:   0%|          | 0/12 [00:00<?, ?it/s]"
      ]
     },
     "metadata": {},
     "output_type": "display_data"
    },
    {
     "name": "stdout",
     "output_type": "stream",
     "text": [
      "Стримов: 64\n"
     ]
    },
    {
     "data": {
      "application/vnd.jupyter.widget-view+json": {
       "model_id": "bd7de5abd98046b1bebceb151643531c",
       "version_major": 2,
       "version_minor": 0
      },
      "text/plain": [
       "Игры:   0%|          | 0/12 [00:00<?, ?it/s]"
      ]
     },
     "metadata": {},
     "output_type": "display_data"
    },
    {
     "name": "stdout",
     "output_type": "stream",
     "text": [
      "Стримов: 65\n",
      "Стримов: 66\n"
     ]
    },
    {
     "data": {
      "application/vnd.jupyter.widget-view+json": {
       "model_id": "5ae5fd424b434b6184044223a96ced76",
       "version_major": 2,
       "version_minor": 0
      },
      "text/plain": [
       "Игры:   0%|          | 0/12 [00:00<?, ?it/s]"
      ]
     },
     "metadata": {},
     "output_type": "display_data"
    },
    {
     "name": "stdout",
     "output_type": "stream",
     "text": [
      "Стримов: 67\n",
      "Нет данных /game-page?id=59700\n",
      "Нет данных /game-page?id=59700\n"
     ]
    },
    {
     "data": {
      "application/vnd.jupyter.widget-view+json": {
       "model_id": "41ad2c5aae3a486c8ed7209e9c70dec6",
       "version_major": 2,
       "version_minor": 0
      },
      "text/plain": [
       "Игры:   0%|          | 0/12 [00:00<?, ?it/s]"
      ]
     },
     "metadata": {},
     "output_type": "display_data"
    },
    {
     "name": "stdout",
     "output_type": "stream",
     "text": [
      "Стримов: 68\n",
      "Стримов: 69\n",
      "Нет данных /game-page?id=59007\n",
      "Нет данных /game-page?id=59007\n"
     ]
    },
    {
     "data": {
      "application/vnd.jupyter.widget-view+json": {
       "model_id": "a632d3ee10e2452da5c6b0e810ee8367",
       "version_major": 2,
       "version_minor": 0
      },
      "text/plain": [
       "Игры:   0%|          | 0/12 [00:00<?, ?it/s]"
      ]
     },
     "metadata": {},
     "output_type": "display_data"
    },
    {
     "name": "stdout",
     "output_type": "stream",
     "text": [
      "Стримов: 70\n",
      "Стримов: 71\n"
     ]
    },
    {
     "data": {
      "application/vnd.jupyter.widget-view+json": {
       "model_id": "b3a90c3c89ca41e2811fc08d4ff9b60f",
       "version_major": 2,
       "version_minor": 0
      },
      "text/plain": [
       "Игры:   0%|          | 0/12 [00:00<?, ?it/s]"
      ]
     },
     "metadata": {},
     "output_type": "display_data"
    },
    {
     "name": "stdout",
     "output_type": "stream",
     "text": [
      "Стримов: 72\n",
      "Нет данных /game-page?id=58670\n",
      "Нет данных /game-page?id=58670\n",
      "Нет данных /game-page?id=58669\n",
      "Нет данных /game-page?id=58669\n",
      "Стримов: 73\n"
     ]
    },
    {
     "data": {
      "application/vnd.jupyter.widget-view+json": {
       "model_id": "67400c1d4c9a4167bd71bfc51bc53b67",
       "version_major": 2,
       "version_minor": 0
      },
      "text/plain": [
       "Игры:   0%|          | 0/12 [00:00<?, ?it/s]"
      ]
     },
     "metadata": {},
     "output_type": "display_data"
    },
    {
     "name": "stdout",
     "output_type": "stream",
     "text": [
      "Стримов: 74\n",
      "Стримов: 75\n",
      "Стримов: 76\n"
     ]
    },
    {
     "data": {
      "application/vnd.jupyter.widget-view+json": {
       "model_id": "316eb41c65c646d6924f76ecbeedf9c9",
       "version_major": 2,
       "version_minor": 0
      },
      "text/plain": [
       "Игры:   0%|          | 0/12 [00:00<?, ?it/s]"
      ]
     },
     "metadata": {},
     "output_type": "display_data"
    },
    {
     "name": "stdout",
     "output_type": "stream",
     "text": [
      "Стримов: 77\n",
      "Стримов: 78\n"
     ]
    },
    {
     "data": {
      "application/vnd.jupyter.widget-view+json": {
       "model_id": "1950f8f8be0b41f899feb67a71a27123",
       "version_major": 2,
       "version_minor": 0
      },
      "text/plain": [
       "Игры:   0%|          | 0/12 [00:00<?, ?it/s]"
      ]
     },
     "metadata": {},
     "output_type": "display_data"
    },
    {
     "name": "stdout",
     "output_type": "stream",
     "text": [
      "Стримов: 79\n"
     ]
    },
    {
     "data": {
      "application/vnd.jupyter.widget-view+json": {
       "model_id": "e08b9bc3d8904b069a9011208bdde112",
       "version_major": 2,
       "version_minor": 0
      },
      "text/plain": [
       "Игры:   0%|          | 0/12 [00:00<?, ?it/s]"
      ]
     },
     "metadata": {},
     "output_type": "display_data"
    },
    {
     "name": "stdout",
     "output_type": "stream",
     "text": [
      "Стримов: 80\n",
      "Стримов: 81\n"
     ]
    },
    {
     "data": {
      "application/vnd.jupyter.widget-view+json": {
       "model_id": "6f5ceb1fb584436ab9c2ed1855edf9fe",
       "version_major": 2,
       "version_minor": 0
      },
      "text/plain": [
       "Игры:   0%|          | 0/12 [00:00<?, ?it/s]"
      ]
     },
     "metadata": {},
     "output_type": "display_data"
    },
    {
     "name": "stdout",
     "output_type": "stream",
     "text": [
      "Стримов: 82\n",
      "Нет данных /game-page?id=57163\n",
      "Нет данных /game-page?id=57163\n",
      "Нет данных /game-page?id=57161\n",
      "Нет данных /game-page?id=57161\n"
     ]
    },
    {
     "data": {
      "application/vnd.jupyter.widget-view+json": {
       "model_id": "3e822bb842ff45d5881e542d468cbdd9",
       "version_major": 2,
       "version_minor": 0
      },
      "text/plain": [
       "Игры:   0%|          | 0/12 [00:00<?, ?it/s]"
      ]
     },
     "metadata": {},
     "output_type": "display_data"
    },
    {
     "name": "stdout",
     "output_type": "stream",
     "text": [
      "Стримов: 83\n",
      "Стримов: 84\n",
      "Нет данных /game-page?id=56709\n",
      "Нет данных /game-page?id=56709\n"
     ]
    },
    {
     "data": {
      "application/vnd.jupyter.widget-view+json": {
       "model_id": "cfcb200750664278824a8027e9a47401",
       "version_major": 2,
       "version_minor": 0
      },
      "text/plain": [
       "Игры:   0%|          | 0/12 [00:00<?, ?it/s]"
      ]
     },
     "metadata": {},
     "output_type": "display_data"
    },
    {
     "name": "stdout",
     "output_type": "stream",
     "text": [
      "Стримов: 85\n",
      "Стримов: 86\n"
     ]
    },
    {
     "data": {
      "application/vnd.jupyter.widget-view+json": {
       "model_id": "9451ab18294142cca1a4c533918c3682",
       "version_major": 2,
       "version_minor": 0
      },
      "text/plain": [
       "Игры:   0%|          | 0/12 [00:00<?, ?it/s]"
      ]
     },
     "metadata": {},
     "output_type": "display_data"
    },
    {
     "name": "stdout",
     "output_type": "stream",
     "text": [
      "Стримов: 87\n",
      "Стримов: 88\n",
      "Стримов: 89\n",
      "Стримов: 90\n"
     ]
    },
    {
     "data": {
      "application/vnd.jupyter.widget-view+json": {
       "model_id": "65ae44d9fa504b72a0862708b61a74ee",
       "version_major": 2,
       "version_minor": 0
      },
      "text/plain": [
       "Игры:   0%|          | 0/12 [00:00<?, ?it/s]"
      ]
     },
     "metadata": {},
     "output_type": "display_data"
    },
    {
     "name": "stdout",
     "output_type": "stream",
     "text": [
      "Стримов: 91\n",
      "Стримов: 92\n",
      "Нет данных /game-page?id=55527\n",
      "Нет данных /game-page?id=55527\n"
     ]
    },
    {
     "data": {
      "application/vnd.jupyter.widget-view+json": {
       "model_id": "3355cd689b3d4db387b138512349eb61",
       "version_major": 2,
       "version_minor": 0
      },
      "text/plain": [
       "Игры:   0%|          | 0/12 [00:00<?, ?it/s]"
      ]
     },
     "metadata": {},
     "output_type": "display_data"
    },
    {
     "name": "stdout",
     "output_type": "stream",
     "text": [
      "Стримов: 93\n",
      "Нет данных /game-page?id=55545\n",
      "Нет данных /game-page?id=55545\n"
     ]
    },
    {
     "data": {
      "application/vnd.jupyter.widget-view+json": {
       "model_id": "e053bc7f75fe4ed28fc0c3970f7ef556",
       "version_major": 2,
       "version_minor": 0
      },
      "text/plain": [
       "Игры:   0%|          | 0/12 [00:00<?, ?it/s]"
      ]
     },
     "metadata": {},
     "output_type": "display_data"
    },
    {
     "name": "stdout",
     "output_type": "stream",
     "text": [
      "Стримов: 94\n",
      "Стримов: 95\n"
     ]
    },
    {
     "data": {
      "application/vnd.jupyter.widget-view+json": {
       "model_id": "3b6d3d027b7d49d29910d28c4332b2ae",
       "version_major": 2,
       "version_minor": 0
      },
      "text/plain": [
       "Игры:   0%|          | 0/12 [00:00<?, ?it/s]"
      ]
     },
     "metadata": {},
     "output_type": "display_data"
    },
    {
     "name": "stdout",
     "output_type": "stream",
     "text": [
      "Стримов: 96\n",
      "Стримов: 97\n"
     ]
    },
    {
     "data": {
      "application/vnd.jupyter.widget-view+json": {
       "model_id": "a91a9dda11244de6aa0929b0ba5fa703",
       "version_major": 2,
       "version_minor": 0
      },
      "text/plain": [
       "Игры:   0%|          | 0/12 [00:00<?, ?it/s]"
      ]
     },
     "metadata": {},
     "output_type": "display_data"
    },
    {
     "name": "stdout",
     "output_type": "stream",
     "text": [
      "Стримов: 98\n",
      "Стримов: 99\n"
     ]
    },
    {
     "data": {
      "application/vnd.jupyter.widget-view+json": {
       "model_id": "6c1ea0de17454b069c10042a33b7f98b",
       "version_major": 2,
       "version_minor": 0
      },
      "text/plain": [
       "Игры:   0%|          | 0/12 [00:00<?, ?it/s]"
      ]
     },
     "metadata": {},
     "output_type": "display_data"
    },
    {
     "name": "stdout",
     "output_type": "stream",
     "text": [
      "Стримов: 100\n"
     ]
    },
    {
     "data": {
      "application/vnd.jupyter.widget-view+json": {
       "model_id": "14f04720bf514a86b8b85aa36e8fc435",
       "version_major": 2,
       "version_minor": 0
      },
      "text/plain": [
       "Игры:   0%|          | 0/12 [00:00<?, ?it/s]"
      ]
     },
     "metadata": {},
     "output_type": "display_data"
    },
    {
     "name": "stdout",
     "output_type": "stream",
     "text": [
      "Стримов: 101\n",
      "Стримов: 102\n"
     ]
    },
    {
     "data": {
      "application/vnd.jupyter.widget-view+json": {
       "model_id": "f56ecc7d68294b109b3b30c5bcff5b0c",
       "version_major": 2,
       "version_minor": 0
      },
      "text/plain": [
       "Игры:   0%|          | 0/12 [00:00<?, ?it/s]"
      ]
     },
     "metadata": {},
     "output_type": "display_data"
    },
    {
     "name": "stdout",
     "output_type": "stream",
     "text": [
      "Стримов: 103\n",
      "Стримов: 104\n"
     ]
    },
    {
     "data": {
      "application/vnd.jupyter.widget-view+json": {
       "model_id": "ee4127a4ba874769ae6d8098e20b6bfc",
       "version_major": 2,
       "version_minor": 0
      },
      "text/plain": [
       "Игры:   0%|          | 0/12 [00:00<?, ?it/s]"
      ]
     },
     "metadata": {},
     "output_type": "display_data"
    },
    {
     "name": "stdout",
     "output_type": "stream",
     "text": [
      "Стримов: 105\n",
      "Стримов: 106\n",
      "Стримов: 107\n"
     ]
    },
    {
     "data": {
      "application/vnd.jupyter.widget-view+json": {
       "model_id": "96b5f0b5623f44bc98ce957cbe429734",
       "version_major": 2,
       "version_minor": 0
      },
      "text/plain": [
       "Игры:   0%|          | 0/12 [00:00<?, ?it/s]"
      ]
     },
     "metadata": {},
     "output_type": "display_data"
    },
    {
     "name": "stdout",
     "output_type": "stream",
     "text": [
      "Стримов: 108\n",
      "Стримов: 109\n"
     ]
    },
    {
     "data": {
      "application/vnd.jupyter.widget-view+json": {
       "model_id": "95c70c86c3154403b76cff6354459c9e",
       "version_major": 2,
       "version_minor": 0
      },
      "text/plain": [
       "Игры:   0%|          | 0/12 [00:00<?, ?it/s]"
      ]
     },
     "metadata": {},
     "output_type": "display_data"
    },
    {
     "name": "stdout",
     "output_type": "stream",
     "text": [
      "Стримов: 110\n",
      "Стримов: 111\n"
     ]
    },
    {
     "data": {
      "application/vnd.jupyter.widget-view+json": {
       "model_id": "d30ca19a061c4e958f21463213559fd6",
       "version_major": 2,
       "version_minor": 0
      },
      "text/plain": [
       "Игры:   0%|          | 0/12 [00:00<?, ?it/s]"
      ]
     },
     "metadata": {},
     "output_type": "display_data"
    },
    {
     "name": "stdout",
     "output_type": "stream",
     "text": [
      "Стримов: 112\n",
      "Стримов: 113\n"
     ]
    },
    {
     "data": {
      "application/vnd.jupyter.widget-view+json": {
       "model_id": "362e344cb566405ab7cf9532033f78ea",
       "version_major": 2,
       "version_minor": 0
      },
      "text/plain": [
       "Игры:   0%|          | 0/12 [00:00<?, ?it/s]"
      ]
     },
     "metadata": {},
     "output_type": "display_data"
    },
    {
     "name": "stdout",
     "output_type": "stream",
     "text": [
      "Стримов: 114\n",
      "Стримов: 115\n"
     ]
    },
    {
     "data": {
      "application/vnd.jupyter.widget-view+json": {
       "model_id": "e77bfe048d39439b90a9eda6c3ba428f",
       "version_major": 2,
       "version_minor": 0
      },
      "text/plain": [
       "Игры:   0%|          | 0/12 [00:00<?, ?it/s]"
      ]
     },
     "metadata": {},
     "output_type": "display_data"
    },
    {
     "name": "stdout",
     "output_type": "stream",
     "text": [
      "Стримов: 116\n",
      "Стримов: 117\n"
     ]
    },
    {
     "data": {
      "application/vnd.jupyter.widget-view+json": {
       "model_id": "8909769aa2314e1b8d1aee6475956f24",
       "version_major": 2,
       "version_minor": 0
      },
      "text/plain": [
       "Игры:   0%|          | 0/12 [00:00<?, ?it/s]"
      ]
     },
     "metadata": {},
     "output_type": "display_data"
    },
    {
     "name": "stdout",
     "output_type": "stream",
     "text": [
      "Стримов: 118\n",
      "Нет данных /game-page?id=50489\n",
      "Нет данных /game-page?id=50489\n",
      "Нет данных /game-page?id=50485\n",
      "Нет данных /game-page?id=50485\n",
      "Стримов: 119\n"
     ]
    },
    {
     "data": {
      "application/vnd.jupyter.widget-view+json": {
       "model_id": "6687a48ef6b4443c91b2f5200b883008",
       "version_major": 2,
       "version_minor": 0
      },
      "text/plain": [
       "Игры:   0%|          | 0/12 [00:00<?, ?it/s]"
      ]
     },
     "metadata": {},
     "output_type": "display_data"
    },
    {
     "name": "stdout",
     "output_type": "stream",
     "text": [
      "Стримов: 120\n",
      "Нет данных /game-page?id=50057\n",
      "Нет данных /game-page?id=50057\n",
      "Стримов: 121\n"
     ]
    },
    {
     "data": {
      "application/vnd.jupyter.widget-view+json": {
       "model_id": "660c339d6400415a95f5f5ae3cdac9ec",
       "version_major": 2,
       "version_minor": 0
      },
      "text/plain": [
       "Игры:   0%|          | 0/12 [00:00<?, ?it/s]"
      ]
     },
     "metadata": {},
     "output_type": "display_data"
    },
    {
     "name": "stdout",
     "output_type": "stream",
     "text": [
      "Нет данных /game-page?id=49875\n",
      "Нет данных /game-page?id=49875\n",
      "Стримов: 122\n"
     ]
    },
    {
     "data": {
      "application/vnd.jupyter.widget-view+json": {
       "model_id": "83cf659b62a348ab989b3615ef6a29a1",
       "version_major": 2,
       "version_minor": 0
      },
      "text/plain": [
       "Игры:   0%|          | 0/12 [00:00<?, ?it/s]"
      ]
     },
     "metadata": {},
     "output_type": "display_data"
    },
    {
     "name": "stdout",
     "output_type": "stream",
     "text": [
      "Стримов: 123\n",
      "Стримов: 124\n",
      "Стримов: 125\n",
      "Нет данных /game-page?id=49231\n",
      "Нет данных /game-page?id=49231\n"
     ]
    },
    {
     "data": {
      "application/vnd.jupyter.widget-view+json": {
       "model_id": "8af055e6b80247849365f28e73a53a10",
       "version_major": 2,
       "version_minor": 0
      },
      "text/plain": [
       "Игры:   0%|          | 0/12 [00:00<?, ?it/s]"
      ]
     },
     "metadata": {},
     "output_type": "display_data"
    },
    {
     "name": "stdout",
     "output_type": "stream",
     "text": [
      "Стримов: 126\n",
      "Стримов: 127\n",
      "Стримов: 128\n"
     ]
    },
    {
     "data": {
      "application/vnd.jupyter.widget-view+json": {
       "model_id": "58998eb53f874748860658d63f0b3dd5",
       "version_major": 2,
       "version_minor": 0
      },
      "text/plain": [
       "Игры:   0%|          | 0/12 [00:00<?, ?it/s]"
      ]
     },
     "metadata": {},
     "output_type": "display_data"
    },
    {
     "name": "stdout",
     "output_type": "stream",
     "text": [
      "Стримов: 129\n",
      "Стримов: 130\n"
     ]
    },
    {
     "data": {
      "application/vnd.jupyter.widget-view+json": {
       "model_id": "c4503ddf9bf6484bb3b0ee7c07dcd97d",
       "version_major": 2,
       "version_minor": 0
      },
      "text/plain": [
       "Игры:   0%|          | 0/12 [00:00<?, ?it/s]"
      ]
     },
     "metadata": {},
     "output_type": "display_data"
    },
    {
     "name": "stdout",
     "output_type": "stream",
     "text": [
      "Стримов: 131\n",
      "Стримов: 132\n",
      "Стримов: 133\n"
     ]
    },
    {
     "data": {
      "application/vnd.jupyter.widget-view+json": {
       "model_id": "4db9ebe7d5794ef983e9a01b89d59d29",
       "version_major": 2,
       "version_minor": 0
      },
      "text/plain": [
       "Игры:   0%|          | 0/12 [00:00<?, ?it/s]"
      ]
     },
     "metadata": {},
     "output_type": "display_data"
    },
    {
     "name": "stdout",
     "output_type": "stream",
     "text": [
      "Нет данных /game-page?id=47937\n",
      "Нет данных /game-page?id=47937\n",
      "Стримов: 134\n",
      "Нет данных /game-page?id=47943\n",
      "Нет данных /game-page?id=47943\n"
     ]
    },
    {
     "data": {
      "application/vnd.jupyter.widget-view+json": {
       "model_id": "999d64d22b544be4b9c4a4c1aad2c847",
       "version_major": 2,
       "version_minor": 0
      },
      "text/plain": [
       "Игры:   0%|          | 0/12 [00:00<?, ?it/s]"
      ]
     },
     "metadata": {},
     "output_type": "display_data"
    },
    {
     "name": "stdout",
     "output_type": "stream",
     "text": [
      "Нет данных /game-page?id=47942\n",
      "Нет данных /game-page?id=47942\n",
      "Стримов: 135\n",
      "Стримов: 136\n"
     ]
    },
    {
     "data": {
      "application/vnd.jupyter.widget-view+json": {
       "model_id": "6ba3ddd281bd410b9b853563fc04a8f7",
       "version_major": 2,
       "version_minor": 0
      },
      "text/plain": [
       "Игры:   0%|          | 0/12 [00:00<?, ?it/s]"
      ]
     },
     "metadata": {},
     "output_type": "display_data"
    },
    {
     "name": "stdout",
     "output_type": "stream",
     "text": [
      "Стримов: 137\n",
      "Нет данных /game-page?id=47112\n",
      "Нет данных /game-page?id=47112\n"
     ]
    },
    {
     "data": {
      "application/vnd.jupyter.widget-view+json": {
       "model_id": "2424b94642e44e678ad59abc323a9464",
       "version_major": 2,
       "version_minor": 0
      },
      "text/plain": [
       "Игры:   0%|          | 0/12 [00:00<?, ?it/s]"
      ]
     },
     "metadata": {},
     "output_type": "display_data"
    },
    {
     "name": "stdout",
     "output_type": "stream",
     "text": [
      "Стримов: 138\n",
      "Стримов: 139\n"
     ]
    },
    {
     "data": {
      "application/vnd.jupyter.widget-view+json": {
       "model_id": "8e795fecd5a94c00a02eaf09720a5324",
       "version_major": 2,
       "version_minor": 0
      },
      "text/plain": [
       "Игры:   0%|          | 0/12 [00:00<?, ?it/s]"
      ]
     },
     "metadata": {},
     "output_type": "display_data"
    },
    {
     "name": "stdout",
     "output_type": "stream",
     "text": [
      "Стримов: 140\n",
      "Стримов: 141\n"
     ]
    },
    {
     "data": {
      "application/vnd.jupyter.widget-view+json": {
       "model_id": "a865cf918f9c491e87236d5fb28af31b",
       "version_major": 2,
       "version_minor": 0
      },
      "text/plain": [
       "Игры:   0%|          | 0/12 [00:00<?, ?it/s]"
      ]
     },
     "metadata": {},
     "output_type": "display_data"
    },
    {
     "name": "stdout",
     "output_type": "stream",
     "text": [
      "Стримов: 142\n",
      "Стримов: 143\n",
      "Стримов: 144\n"
     ]
    },
    {
     "data": {
      "application/vnd.jupyter.widget-view+json": {
       "model_id": "e8ae052c70f04ed4a057d084c48f208e",
       "version_major": 2,
       "version_minor": 0
      },
      "text/plain": [
       "Игры:   0%|          | 0/12 [00:00<?, ?it/s]"
      ]
     },
     "metadata": {},
     "output_type": "display_data"
    },
    {
     "name": "stdout",
     "output_type": "stream",
     "text": [
      "Стримов: 145\n",
      "Стримов: 146\n"
     ]
    },
    {
     "data": {
      "application/vnd.jupyter.widget-view+json": {
       "model_id": "b62602308cb048da980f32f13309cfe9",
       "version_major": 2,
       "version_minor": 0
      },
      "text/plain": [
       "Игры:   0%|          | 0/12 [00:00<?, ?it/s]"
      ]
     },
     "metadata": {},
     "output_type": "display_data"
    },
    {
     "name": "stdout",
     "output_type": "stream",
     "text": [
      "Стримов: 147\n",
      "Нет данных /game-page?id=45553\n",
      "Нет данных /game-page?id=45553\n",
      "Стримов: 148\n",
      "Стримов: 149\n"
     ]
    },
    {
     "data": {
      "application/vnd.jupyter.widget-view+json": {
       "model_id": "09a75cd7a9614db9afb77edac8cf52be",
       "version_major": 2,
       "version_minor": 0
      },
      "text/plain": [
       "Игры:   0%|          | 0/12 [00:00<?, ?it/s]"
      ]
     },
     "metadata": {},
     "output_type": "display_data"
    },
    {
     "name": "stdout",
     "output_type": "stream",
     "text": [
      "Нет данных /game-page?id=45278\n",
      "Нет данных /game-page?id=45278\n",
      "Стримов: 150\n",
      "Стримов: 151\n"
     ]
    },
    {
     "data": {
      "application/vnd.jupyter.widget-view+json": {
       "model_id": "8ebb039e384740388abe2948243e36e9",
       "version_major": 2,
       "version_minor": 0
      },
      "text/plain": [
       "Игры:   0%|          | 0/12 [00:00<?, ?it/s]"
      ]
     },
     "metadata": {},
     "output_type": "display_data"
    },
    {
     "name": "stdout",
     "output_type": "stream",
     "text": [
      "Стримов: 152\n",
      "Стримов: 153\n"
     ]
    },
    {
     "data": {
      "application/vnd.jupyter.widget-view+json": {
       "model_id": "c296eca810c14576a9b89994d35452e0",
       "version_major": 2,
       "version_minor": 0
      },
      "text/plain": [
       "Игры:   0%|          | 0/12 [00:00<?, ?it/s]"
      ]
     },
     "metadata": {},
     "output_type": "display_data"
    },
    {
     "name": "stdout",
     "output_type": "stream",
     "text": [
      "Стримов: 154\n",
      "Стримов: 155\n"
     ]
    },
    {
     "data": {
      "application/vnd.jupyter.widget-view+json": {
       "model_id": "6ffba9d6c209474faa38bdd6da308abd",
       "version_major": 2,
       "version_minor": 0
      },
      "text/plain": [
       "Игры:   0%|          | 0/12 [00:00<?, ?it/s]"
      ]
     },
     "metadata": {},
     "output_type": "display_data"
    },
    {
     "name": "stdout",
     "output_type": "stream",
     "text": [
      "Стримов: 156\n",
      "Стримов: 157\n"
     ]
    },
    {
     "data": {
      "application/vnd.jupyter.widget-view+json": {
       "model_id": "d0f4fad6d34c4f0b81d865afd1a4be9d",
       "version_major": 2,
       "version_minor": 0
      },
      "text/plain": [
       "Игры:   0%|          | 0/12 [00:00<?, ?it/s]"
      ]
     },
     "metadata": {},
     "output_type": "display_data"
    },
    {
     "name": "stdout",
     "output_type": "stream",
     "text": [
      "Стримов: 158\n",
      "Стримов: 159\n"
     ]
    },
    {
     "data": {
      "application/vnd.jupyter.widget-view+json": {
       "model_id": "72ca67615c574c6f91575213c4840724",
       "version_major": 2,
       "version_minor": 0
      },
      "text/plain": [
       "Игры:   0%|          | 0/12 [00:00<?, ?it/s]"
      ]
     },
     "metadata": {},
     "output_type": "display_data"
    },
    {
     "name": "stdout",
     "output_type": "stream",
     "text": [
      "Стримов: 160\n",
      "Стримов: 161\n"
     ]
    },
    {
     "data": {
      "application/vnd.jupyter.widget-view+json": {
       "model_id": "940dd79461b04b7f98561e46fb1c5e63",
       "version_major": 2,
       "version_minor": 0
      },
      "text/plain": [
       "Игры:   0%|          | 0/12 [00:00<?, ?it/s]"
      ]
     },
     "metadata": {},
     "output_type": "display_data"
    },
    {
     "name": "stdout",
     "output_type": "stream",
     "text": [
      "Стримов: 162\n",
      "Стримов: 163\n"
     ]
    },
    {
     "data": {
      "application/vnd.jupyter.widget-view+json": {
       "model_id": "369cb8b912124eecb169492abcf5179e",
       "version_major": 2,
       "version_minor": 0
      },
      "text/plain": [
       "Игры:   0%|          | 0/12 [00:00<?, ?it/s]"
      ]
     },
     "metadata": {},
     "output_type": "display_data"
    },
    {
     "name": "stdout",
     "output_type": "stream",
     "text": [
      "Нет данных /game-page?id=43112\n",
      "Нет данных /game-page?id=43112\n",
      "Стримов: 164\n",
      "Стримов: 165\n",
      "Нет данных /game-page?id=43082\n",
      "Нет данных /game-page?id=43082\n"
     ]
    },
    {
     "data": {
      "application/vnd.jupyter.widget-view+json": {
       "model_id": "f36239ce99c6493ca5ce7e153aa6d5a8",
       "version_major": 2,
       "version_minor": 0
      },
      "text/plain": [
       "Игры:   0%|          | 0/12 [00:00<?, ?it/s]"
      ]
     },
     "metadata": {},
     "output_type": "display_data"
    },
    {
     "name": "stdout",
     "output_type": "stream",
     "text": [
      "Стримов: 166\n",
      "Стримов: 167\n"
     ]
    },
    {
     "data": {
      "application/vnd.jupyter.widget-view+json": {
       "model_id": "09e4e3a8fce243379965891982e95044",
       "version_major": 2,
       "version_minor": 0
      },
      "text/plain": [
       "Игры:   0%|          | 0/12 [00:00<?, ?it/s]"
      ]
     },
     "metadata": {},
     "output_type": "display_data"
    },
    {
     "name": "stdout",
     "output_type": "stream",
     "text": [
      "Стримов: 168\n",
      "Нет данных /game-page?id=42510\n",
      "Нет данных /game-page?id=42510\n",
      "Стримов: 169\n"
     ]
    },
    {
     "data": {
      "application/vnd.jupyter.widget-view+json": {
       "model_id": "42758477de85425eb31ea580dbcf1431",
       "version_major": 2,
       "version_minor": 0
      },
      "text/plain": [
       "Игры:   0%|          | 0/12 [00:00<?, ?it/s]"
      ]
     },
     "metadata": {},
     "output_type": "display_data"
    },
    {
     "name": "stdout",
     "output_type": "stream",
     "text": [
      "Нет данных /game-page?id=42504\n",
      "Нет данных /game-page?id=42504\n",
      "Стримов: 170\n",
      "Стримов: 171\n",
      "Нет данных /game-page?id=42201\n",
      "Нет данных /game-page?id=42201\n",
      "Стримов: 172\n"
     ]
    },
    {
     "data": {
      "application/vnd.jupyter.widget-view+json": {
       "model_id": "afcf116e98104ddbbe6aa71bd2e4d329",
       "version_major": 2,
       "version_minor": 0
      },
      "text/plain": [
       "Игры:   0%|          | 0/12 [00:00<?, ?it/s]"
      ]
     },
     "metadata": {},
     "output_type": "display_data"
    },
    {
     "name": "stdout",
     "output_type": "stream",
     "text": [
      "Стримов: 173\n",
      "Стримов: 174\n",
      "Стримов: 175\n"
     ]
    },
    {
     "data": {
      "application/vnd.jupyter.widget-view+json": {
       "model_id": "65b7601cdd174c0eadc296940c782692",
       "version_major": 2,
       "version_minor": 0
      },
      "text/plain": [
       "Игры:   0%|          | 0/12 [00:00<?, ?it/s]"
      ]
     },
     "metadata": {},
     "output_type": "display_data"
    },
    {
     "name": "stdout",
     "output_type": "stream",
     "text": [
      "Стримов: 176\n",
      "Стримов: 177\n"
     ]
    },
    {
     "data": {
      "application/vnd.jupyter.widget-view+json": {
       "model_id": "447f29a64d944e9287c9d60a955fc7b0",
       "version_major": 2,
       "version_minor": 0
      },
      "text/plain": [
       "Игры:   0%|          | 0/12 [00:00<?, ?it/s]"
      ]
     },
     "metadata": {},
     "output_type": "display_data"
    },
    {
     "name": "stdout",
     "output_type": "stream",
     "text": [
      "Стримов: 178\n",
      "Стримов: 179\n"
     ]
    },
    {
     "data": {
      "application/vnd.jupyter.widget-view+json": {
       "model_id": "0c06dc009b4e4a3bb4e05bacdcd043fb",
       "version_major": 2,
       "version_minor": 0
      },
      "text/plain": [
       "Игры:   0%|          | 0/12 [00:00<?, ?it/s]"
      ]
     },
     "metadata": {},
     "output_type": "display_data"
    },
    {
     "name": "stdout",
     "output_type": "stream",
     "text": [
      "Стримов: 180\n",
      "Стримов: 181\n",
      "Стримов: 182\n",
      "Нет данных /game-page?id=40911\n",
      "Нет данных /game-page?id=40911\n"
     ]
    },
    {
     "data": {
      "application/vnd.jupyter.widget-view+json": {
       "model_id": "74e4ab29c4a54d2fbb3245f185149232",
       "version_major": 2,
       "version_minor": 0
      },
      "text/plain": [
       "Игры:   0%|          | 0/12 [00:00<?, ?it/s]"
      ]
     },
     "metadata": {},
     "output_type": "display_data"
    },
    {
     "name": "stdout",
     "output_type": "stream",
     "text": [
      "Стримов: 183\n",
      "Стримов: 184\n"
     ]
    },
    {
     "data": {
      "application/vnd.jupyter.widget-view+json": {
       "model_id": "ffa8c6c2625a4a40affcacb978b371dc",
       "version_major": 2,
       "version_minor": 0
      },
      "text/plain": [
       "Игры:   0%|          | 0/12 [00:00<?, ?it/s]"
      ]
     },
     "metadata": {},
     "output_type": "display_data"
    },
    {
     "name": "stdout",
     "output_type": "stream",
     "text": [
      "Стримов: 185\n",
      "Стримов: 186\n",
      "Нет данных /game-page?id=40566\n",
      "Нет данных /game-page?id=40566\n",
      "Стримов: 187\n",
      "Стримов: 188\n"
     ]
    },
    {
     "data": {
      "application/vnd.jupyter.widget-view+json": {
       "model_id": "79a93ef799804c9cbc2e6c63f4c7cdae",
       "version_major": 2,
       "version_minor": 0
      },
      "text/plain": [
       "Игры:   0%|          | 0/12 [00:00<?, ?it/s]"
      ]
     },
     "metadata": {},
     "output_type": "display_data"
    },
    {
     "name": "stdout",
     "output_type": "stream",
     "text": [
      "Нет данных /game-page?id=40333\n",
      "Нет данных /game-page?id=40333\n",
      "Стримов: 189\n",
      "Стримов: 190\n"
     ]
    },
    {
     "data": {
      "application/vnd.jupyter.widget-view+json": {
       "model_id": "fcd39ba4f8804dcf978e9cac5aeefb1f",
       "version_major": 2,
       "version_minor": 0
      },
      "text/plain": [
       "Игры:   0%|          | 0/12 [00:00<?, ?it/s]"
      ]
     },
     "metadata": {},
     "output_type": "display_data"
    },
    {
     "name": "stdout",
     "output_type": "stream",
     "text": [
      "Нет данных /game-page?id=39870\n",
      "Нет данных /game-page?id=39870\n",
      "Стримов: 191\n",
      "Стримов: 192\n"
     ]
    },
    {
     "data": {
      "application/vnd.jupyter.widget-view+json": {
       "model_id": "0bac0afe0315453292a21daedda2b450",
       "version_major": 2,
       "version_minor": 0
      },
      "text/plain": [
       "Игры:   0%|          | 0/12 [00:00<?, ?it/s]"
      ]
     },
     "metadata": {},
     "output_type": "display_data"
    },
    {
     "name": "stdout",
     "output_type": "stream",
     "text": [
      "Стримов: 193\n",
      "Стримов: 194\n"
     ]
    },
    {
     "data": {
      "application/vnd.jupyter.widget-view+json": {
       "model_id": "22a0a94e47d64dcaa39586bed98f4c5d",
       "version_major": 2,
       "version_minor": 0
      },
      "text/plain": [
       "Игры:   0%|          | 0/12 [00:00<?, ?it/s]"
      ]
     },
     "metadata": {},
     "output_type": "display_data"
    },
    {
     "name": "stdout",
     "output_type": "stream",
     "text": [
      "Стримов: 195\n",
      "Нет данных /game-page?id=39153\n",
      "Нет данных /game-page?id=39153\n",
      "Стримов: 196\n",
      "Стримов: 197\n",
      "Стримов: 198\n"
     ]
    },
    {
     "data": {
      "application/vnd.jupyter.widget-view+json": {
       "model_id": "51706246e79045cdbccf8133fa713763",
       "version_major": 2,
       "version_minor": 0
      },
      "text/plain": [
       "Игры:   0%|          | 0/12 [00:00<?, ?it/s]"
      ]
     },
     "metadata": {},
     "output_type": "display_data"
    },
    {
     "name": "stdout",
     "output_type": "stream",
     "text": [
      "Стримов: 199\n",
      "Стримов: 200\n",
      "Стримов: 201\n"
     ]
    },
    {
     "data": {
      "application/vnd.jupyter.widget-view+json": {
       "model_id": "0839d9f626dd4f5a97d245b2e4a16432",
       "version_major": 2,
       "version_minor": 0
      },
      "text/plain": [
       "Игры:   0%|          | 0/12 [00:00<?, ?it/s]"
      ]
     },
     "metadata": {},
     "output_type": "display_data"
    },
    {
     "name": "stdout",
     "output_type": "stream",
     "text": [
      "Стримов: 202\n",
      "Нет данных /game-page?id=38277\n",
      "Нет данных /game-page?id=38277\n",
      "Стримов: 203\n"
     ]
    },
    {
     "data": {
      "application/vnd.jupyter.widget-view+json": {
       "model_id": "f7a6cc9f26b94f5fa16c4b57cc578daa",
       "version_major": 2,
       "version_minor": 0
      },
      "text/plain": [
       "Игры:   0%|          | 0/12 [00:00<?, ?it/s]"
      ]
     },
     "metadata": {},
     "output_type": "display_data"
    },
    {
     "name": "stdout",
     "output_type": "stream",
     "text": [
      "Стримов: 204\n",
      "Стримов: 205\n",
      "Стримов: 206\n"
     ]
    },
    {
     "data": {
      "application/vnd.jupyter.widget-view+json": {
       "model_id": "160084c5fc0249f4baab9045e64da6b1",
       "version_major": 2,
       "version_minor": 0
      },
      "text/plain": [
       "Игры:   0%|          | 0/12 [00:00<?, ?it/s]"
      ]
     },
     "metadata": {},
     "output_type": "display_data"
    },
    {
     "name": "stdout",
     "output_type": "stream",
     "text": [
      "Стримов: 207\n",
      "Стримов: 208\n"
     ]
    },
    {
     "data": {
      "application/vnd.jupyter.widget-view+json": {
       "model_id": "cf6f4dd78c63490ab23a61eedc3e36de",
       "version_major": 2,
       "version_minor": 0
      },
      "text/plain": [
       "Игры:   0%|          | 0/12 [00:00<?, ?it/s]"
      ]
     },
     "metadata": {},
     "output_type": "display_data"
    },
    {
     "name": "stdout",
     "output_type": "stream",
     "text": [
      "Стримов: 209\n"
     ]
    },
    {
     "data": {
      "application/vnd.jupyter.widget-view+json": {
       "model_id": "89bc95e723e440d98e93ebf3430982c2",
       "version_major": 2,
       "version_minor": 0
      },
      "text/plain": [
       "Игры:   0%|          | 0/12 [00:00<?, ?it/s]"
      ]
     },
     "metadata": {},
     "output_type": "display_data"
    },
    {
     "name": "stdout",
     "output_type": "stream",
     "text": [
      "Стримов: 210\n",
      "Стримов: 211\n",
      "Нет данных /game-page?id=36879\n",
      "Нет данных /game-page?id=36879\n",
      "Стримов: 212\n"
     ]
    },
    {
     "data": {
      "application/vnd.jupyter.widget-view+json": {
       "model_id": "abe968d2a49a42cb862ecd38dcd0f807",
       "version_major": 2,
       "version_minor": 0
      },
      "text/plain": [
       "Игры:   0%|          | 0/12 [00:00<?, ?it/s]"
      ]
     },
     "metadata": {},
     "output_type": "display_data"
    },
    {
     "name": "stdout",
     "output_type": "stream",
     "text": [
      "Стримов: 213\n",
      "Стримов: 214\n",
      "Стримов: 215\n"
     ]
    },
    {
     "data": {
      "application/vnd.jupyter.widget-view+json": {
       "model_id": "c2021aeeb24f44e7b43c025671fc7079",
       "version_major": 2,
       "version_minor": 0
      },
      "text/plain": [
       "Игры:   0%|          | 0/12 [00:00<?, ?it/s]"
      ]
     },
     "metadata": {},
     "output_type": "display_data"
    },
    {
     "name": "stdout",
     "output_type": "stream",
     "text": [
      "Стримов: 216\n",
      "Нет данных /game-page?id=36156\n",
      "Нет данных /game-page?id=36156\n",
      "Стримов: 217\n"
     ]
    },
    {
     "data": {
      "application/vnd.jupyter.widget-view+json": {
       "model_id": "a339447a4b404465be980853b1430c3a",
       "version_major": 2,
       "version_minor": 0
      },
      "text/plain": [
       "Игры:   0%|          | 0/12 [00:00<?, ?it/s]"
      ]
     },
     "metadata": {},
     "output_type": "display_data"
    },
    {
     "name": "stdout",
     "output_type": "stream",
     "text": [
      "Стримов: 218\n",
      "Стримов: 219\n"
     ]
    },
    {
     "data": {
      "application/vnd.jupyter.widget-view+json": {
       "model_id": "f505b040e89a40f09863e3d1ffa53c40",
       "version_major": 2,
       "version_minor": 0
      },
      "text/plain": [
       "Игры:   0%|          | 0/12 [00:00<?, ?it/s]"
      ]
     },
     "metadata": {},
     "output_type": "display_data"
    },
    {
     "name": "stdout",
     "output_type": "stream",
     "text": [
      "Стримов: 220\n",
      "Стримов: 221\n",
      "Стримов: 222\n"
     ]
    },
    {
     "data": {
      "application/vnd.jupyter.widget-view+json": {
       "model_id": "3b6c32f14dd1473a8df250e12361c968",
       "version_major": 2,
       "version_minor": 0
      },
      "text/plain": [
       "Игры:   0%|          | 0/12 [00:00<?, ?it/s]"
      ]
     },
     "metadata": {},
     "output_type": "display_data"
    },
    {
     "name": "stdout",
     "output_type": "stream",
     "text": [
      "Стримов: 223\n",
      "Стримов: 224\n"
     ]
    },
    {
     "data": {
      "application/vnd.jupyter.widget-view+json": {
       "model_id": "eb15f39e67a442ce9ed870bd44dd3ca4",
       "version_major": 2,
       "version_minor": 0
      },
      "text/plain": [
       "Игры:   0%|          | 0/12 [00:00<?, ?it/s]"
      ]
     },
     "metadata": {},
     "output_type": "display_data"
    },
    {
     "name": "stdout",
     "output_type": "stream",
     "text": [
      "Стримов: 225\n",
      "Стримов: 226\n",
      "Стримов: 227\n",
      "Нет данных /game-page?id=34549\n",
      "Нет данных /game-page?id=34549\n"
     ]
    },
    {
     "data": {
      "application/vnd.jupyter.widget-view+json": {
       "model_id": "4fb5edf817844ae9afcad5717883aa89",
       "version_major": 2,
       "version_minor": 0
      },
      "text/plain": [
       "Игры:   0%|          | 0/12 [00:00<?, ?it/s]"
      ]
     },
     "metadata": {},
     "output_type": "display_data"
    },
    {
     "name": "stdout",
     "output_type": "stream",
     "text": [
      "Стримов: 228\n"
     ]
    },
    {
     "data": {
      "application/vnd.jupyter.widget-view+json": {
       "model_id": "0818dc475166401b997bd5c39fd6a0a9",
       "version_major": 2,
       "version_minor": 0
      },
      "text/plain": [
       "Игры:   0%|          | 0/12 [00:00<?, ?it/s]"
      ]
     },
     "metadata": {},
     "output_type": "display_data"
    },
    {
     "name": "stdout",
     "output_type": "stream",
     "text": [
      "Стримов: 229\n",
      "Нет данных /game-page?id=34048\n",
      "Нет данных /game-page?id=34048\n",
      "Стримов: 230\n"
     ]
    },
    {
     "data": {
      "application/vnd.jupyter.widget-view+json": {
       "model_id": "8829fc3c1cbb4d8e867de4d8cfbef8cf",
       "version_major": 2,
       "version_minor": 0
      },
      "text/plain": [
       "Игры:   0%|          | 0/12 [00:00<?, ?it/s]"
      ]
     },
     "metadata": {},
     "output_type": "display_data"
    },
    {
     "name": "stdout",
     "output_type": "stream",
     "text": [
      "Стримов: 231\n",
      "Стримов: 232\n",
      "Нет данных /game-page?id=33616\n",
      "Нет данных /game-page?id=33616\n"
     ]
    },
    {
     "data": {
      "application/vnd.jupyter.widget-view+json": {
       "model_id": "6669fcb26eb44500bfe265a6620766da",
       "version_major": 2,
       "version_minor": 0
      },
      "text/plain": [
       "Игры:   0%|          | 0/12 [00:00<?, ?it/s]"
      ]
     },
     "metadata": {},
     "output_type": "display_data"
    },
    {
     "name": "stdout",
     "output_type": "stream",
     "text": [
      "Стримов: 233\n",
      "Стримов: 234\n"
     ]
    },
    {
     "data": {
      "application/vnd.jupyter.widget-view+json": {
       "model_id": "6c63a2a7af1249d59ee44d1cdd54a027",
       "version_major": 2,
       "version_minor": 0
      },
      "text/plain": [
       "Игры:   0%|          | 0/12 [00:00<?, ?it/s]"
      ]
     },
     "metadata": {},
     "output_type": "display_data"
    },
    {
     "name": "stdout",
     "output_type": "stream",
     "text": [
      "Стримов: 235\n",
      "Стримов: 236\n",
      "Стримов: 237\n",
      "Стримов: 238\n",
      "Нет данных /game-page?id=32632\n",
      "Нет данных /game-page?id=32632\n"
     ]
    },
    {
     "data": {
      "application/vnd.jupyter.widget-view+json": {
       "model_id": "b71bca662b904754b2321b52a55a2f9d",
       "version_major": 2,
       "version_minor": 0
      },
      "text/plain": [
       "Игры:   0%|          | 0/12 [00:00<?, ?it/s]"
      ]
     },
     "metadata": {},
     "output_type": "display_data"
    },
    {
     "name": "stdout",
     "output_type": "stream",
     "text": [
      "Стримов: 239\n",
      "Стримов: 240\n",
      "Стримов: 241\n",
      "Нет данных /game-page?id=32612\n",
      "Нет данных /game-page?id=32612\n"
     ]
    },
    {
     "data": {
      "application/vnd.jupyter.widget-view+json": {
       "model_id": "46e617dca25c4dc7a3b74d28e78b9bfd",
       "version_major": 2,
       "version_minor": 0
      },
      "text/plain": [
       "Игры:   0%|          | 0/12 [00:00<?, ?it/s]"
      ]
     },
     "metadata": {},
     "output_type": "display_data"
    },
    {
     "name": "stdout",
     "output_type": "stream",
     "text": [
      "Стримов: 242\n"
     ]
    },
    {
     "data": {
      "application/vnd.jupyter.widget-view+json": {
       "model_id": "26254d6b66df4de8ba458f0c1da1ac5d",
       "version_major": 2,
       "version_minor": 0
      },
      "text/plain": [
       "Игры:   0%|          | 0/12 [00:00<?, ?it/s]"
      ]
     },
     "metadata": {},
     "output_type": "display_data"
    },
    {
     "name": "stdout",
     "output_type": "stream",
     "text": [
      "Стримов: 243\n",
      "Нет данных /game-page?id=31945\n",
      "Нет данных /game-page?id=31945\n",
      "Стримов: 244\n",
      "Стримов: 245\n"
     ]
    },
    {
     "data": {
      "application/vnd.jupyter.widget-view+json": {
       "model_id": "14ed7aebf4ec4107ab0771294aa8ade8",
       "version_major": 2,
       "version_minor": 0
      },
      "text/plain": [
       "Игры:   0%|          | 0/12 [00:00<?, ?it/s]"
      ]
     },
     "metadata": {},
     "output_type": "display_data"
    },
    {
     "name": "stdout",
     "output_type": "stream",
     "text": [
      "Нет данных /game-page?id=31645\n",
      "Нет данных /game-page?id=31645\n",
      "Стримов: 246\n"
     ]
    },
    {
     "data": {
      "application/vnd.jupyter.widget-view+json": {
       "model_id": "6a75068be1ff4d7cb8e70d40af18efd2",
       "version_major": 2,
       "version_minor": 0
      },
      "text/plain": [
       "Игры:   0%|          | 0/12 [00:00<?, ?it/s]"
      ]
     },
     "metadata": {},
     "output_type": "display_data"
    },
    {
     "name": "stdout",
     "output_type": "stream",
     "text": [
      "Нет данных /game-page?id=31274\n",
      "Нет данных /game-page?id=31274\n",
      "Стримов: 247\n",
      "Стримов: 248\n",
      "Стримов: 249\n"
     ]
    },
    {
     "data": {
      "application/vnd.jupyter.widget-view+json": {
       "model_id": "6c48bcf347ac487797674f92674f49c2",
       "version_major": 2,
       "version_minor": 0
      },
      "text/plain": [
       "Игры:   0%|          | 0/12 [00:00<?, ?it/s]"
      ]
     },
     "metadata": {},
     "output_type": "display_data"
    },
    {
     "name": "stdout",
     "output_type": "stream",
     "text": [
      "Стримов: 250\n",
      "Нет данных /game-page?id=30847\n",
      "Нет данных /game-page?id=30847\n"
     ]
    },
    {
     "data": {
      "application/vnd.jupyter.widget-view+json": {
       "model_id": "e5f4907e18334d4e99996b867653e49c",
       "version_major": 2,
       "version_minor": 0
      },
      "text/plain": [
       "Игры:   0%|          | 0/12 [00:00<?, ?it/s]"
      ]
     },
     "metadata": {},
     "output_type": "display_data"
    },
    {
     "name": "stdout",
     "output_type": "stream",
     "text": [
      "Стримов: 251\n",
      "Стримов: 252\n",
      "Стримов: 253\n"
     ]
    },
    {
     "data": {
      "application/vnd.jupyter.widget-view+json": {
       "model_id": "4d798776f9364c33b4e12afb0a33f74d",
       "version_major": 2,
       "version_minor": 0
      },
      "text/plain": [
       "Игры:   0%|          | 0/12 [00:00<?, ?it/s]"
      ]
     },
     "metadata": {},
     "output_type": "display_data"
    },
    {
     "name": "stdout",
     "output_type": "stream",
     "text": [
      "Нет данных /game-page?id=30257\n",
      "Нет данных /game-page?id=30257\n",
      "Стримов: 254\n",
      "Стримов: 255\n"
     ]
    },
    {
     "data": {
      "application/vnd.jupyter.widget-view+json": {
       "model_id": "530a2edc9ad54a4c962db9ebbd1b2f8f",
       "version_major": 2,
       "version_minor": 0
      },
      "text/plain": [
       "Игры:   0%|          | 0/12 [00:00<?, ?it/s]"
      ]
     },
     "metadata": {},
     "output_type": "display_data"
    },
    {
     "name": "stdout",
     "output_type": "stream",
     "text": [
      "Стримов: 256\n",
      "Стримов: 257\n",
      "Стримов: 258\n",
      "Стримов: 259\n"
     ]
    },
    {
     "data": {
      "application/vnd.jupyter.widget-view+json": {
       "model_id": "77cebfb797374a1aa5674ef3fedde101",
       "version_major": 2,
       "version_minor": 0
      },
      "text/plain": [
       "Игры:   0%|          | 0/12 [00:00<?, ?it/s]"
      ]
     },
     "metadata": {},
     "output_type": "display_data"
    },
    {
     "name": "stdout",
     "output_type": "stream",
     "text": [
      "Стримов: 260\n",
      "Нет данных /game-page?id=29458\n",
      "Нет данных /game-page?id=29458\n",
      "Стримов: 261\n",
      "Стримов: 262\n"
     ]
    },
    {
     "data": {
      "application/vnd.jupyter.widget-view+json": {
       "model_id": "15c1ca91aa744fefab6c32db68cfe59c",
       "version_major": 2,
       "version_minor": 0
      },
      "text/plain": [
       "Игры:   0%|          | 0/12 [00:00<?, ?it/s]"
      ]
     },
     "metadata": {},
     "output_type": "display_data"
    },
    {
     "name": "stdout",
     "output_type": "stream",
     "text": [
      "Стримов: 263\n",
      "Нет данных /game-page?id=29267\n",
      "Нет данных /game-page?id=29267\n",
      "Стримов: 264\n",
      "Стримов: 265\n"
     ]
    },
    {
     "data": {
      "application/vnd.jupyter.widget-view+json": {
       "model_id": "d84b19f1b38640028da80f2e3d29b42f",
       "version_major": 2,
       "version_minor": 0
      },
      "text/plain": [
       "Игры:   0%|          | 0/12 [00:00<?, ?it/s]"
      ]
     },
     "metadata": {},
     "output_type": "display_data"
    },
    {
     "name": "stdout",
     "output_type": "stream",
     "text": [
      "Стримов: 266\n",
      "Стримов: 267\n",
      "Стримов: 268\n",
      "Стримов: 269\n"
     ]
    },
    {
     "data": {
      "application/vnd.jupyter.widget-view+json": {
       "model_id": "3316a118ea1844d6b394700901dde9ab",
       "version_major": 2,
       "version_minor": 0
      },
      "text/plain": [
       "Игры:   0%|          | 0/12 [00:00<?, ?it/s]"
      ]
     },
     "metadata": {},
     "output_type": "display_data"
    },
    {
     "name": "stdout",
     "output_type": "stream",
     "text": [
      "Стримов: 270\n",
      "Стримов: 271\n",
      "Стримов: 272\n"
     ]
    },
    {
     "data": {
      "application/vnd.jupyter.widget-view+json": {
       "model_id": "73776e9ed8c74bcf832f3c6412af7589",
       "version_major": 2,
       "version_minor": 0
      },
      "text/plain": [
       "Игры:   0%|          | 0/12 [00:00<?, ?it/s]"
      ]
     },
     "metadata": {},
     "output_type": "display_data"
    },
    {
     "name": "stdout",
     "output_type": "stream",
     "text": [
      "Стримов: 273\n",
      "Стримов: 274\n",
      "Нет данных /game-page?id=27959\n",
      "Нет данных /game-page?id=27959\n"
     ]
    },
    {
     "data": {
      "application/vnd.jupyter.widget-view+json": {
       "model_id": "65b4a990df8047109e1ca3facef2e9cf",
       "version_major": 2,
       "version_minor": 0
      },
      "text/plain": [
       "Игры:   0%|          | 0/12 [00:00<?, ?it/s]"
      ]
     },
     "metadata": {},
     "output_type": "display_data"
    },
    {
     "name": "stdout",
     "output_type": "stream",
     "text": [
      "Стримов: 275\n",
      "Нет данных /game-page?id=27730\n",
      "Нет данных /game-page?id=27730\n",
      "Стримов: 276\n",
      "Нет данных /game-page?id=27490\n",
      "Нет данных /game-page?id=27490\n",
      "Стримов: 277\n"
     ]
    },
    {
     "data": {
      "application/vnd.jupyter.widget-view+json": {
       "model_id": "4038a36ebd134be29ec2dd31942afeec",
       "version_major": 2,
       "version_minor": 0
      },
      "text/plain": [
       "Игры:   0%|          | 0/12 [00:00<?, ?it/s]"
      ]
     },
     "metadata": {},
     "output_type": "display_data"
    },
    {
     "name": "stdout",
     "output_type": "stream",
     "text": [
      "Нет данных /game-page?id=27486\n",
      "Нет данных /game-page?id=27486\n",
      "Нет данных /game-page?id=27310\n",
      "Нет данных /game-page?id=27310\n",
      "Стримов: 278\n",
      "Нет данных /game-page?id=27305\n",
      "Нет данных /game-page?id=27305\n"
     ]
    },
    {
     "data": {
      "application/vnd.jupyter.widget-view+json": {
       "model_id": "e65aeeaac1974301996791932c0ad0b7",
       "version_major": 2,
       "version_minor": 0
      },
      "text/plain": [
       "Игры:   0%|          | 0/12 [00:00<?, ?it/s]"
      ]
     },
     "metadata": {},
     "output_type": "display_data"
    },
    {
     "name": "stdout",
     "output_type": "stream",
     "text": [
      "Стримов: 279\n",
      "Стримов: 280\n",
      "Стримов: 281\n",
      "Нет данных /game-page?id=27054\n",
      "Нет данных /game-page?id=27054\n"
     ]
    },
    {
     "data": {
      "application/vnd.jupyter.widget-view+json": {
       "model_id": "0995e920eee04d77a1c8b22f3a86adce",
       "version_major": 2,
       "version_minor": 0
      },
      "text/plain": [
       "Игры:   0%|          | 0/12 [00:00<?, ?it/s]"
      ]
     },
     "metadata": {},
     "output_type": "display_data"
    },
    {
     "name": "stdout",
     "output_type": "stream",
     "text": [
      "Стримов: 282\n",
      "Стримов: 283\n"
     ]
    },
    {
     "data": {
      "application/vnd.jupyter.widget-view+json": {
       "model_id": "8e9f6c23b2a94da69e85be01f94cb63b",
       "version_major": 2,
       "version_minor": 0
      },
      "text/plain": [
       "Игры:   0%|          | 0/12 [00:00<?, ?it/s]"
      ]
     },
     "metadata": {},
     "output_type": "display_data"
    },
    {
     "name": "stdout",
     "output_type": "stream",
     "text": [
      "Стримов: 284\n",
      "Стримов: 285\n",
      "Стримов: 286\n"
     ]
    },
    {
     "data": {
      "application/vnd.jupyter.widget-view+json": {
       "model_id": "7145d481831a4d4f896cce4159ce1695",
       "version_major": 2,
       "version_minor": 0
      },
      "text/plain": [
       "Игры:   0%|          | 0/12 [00:00<?, ?it/s]"
      ]
     },
     "metadata": {},
     "output_type": "display_data"
    },
    {
     "name": "stdout",
     "output_type": "stream",
     "text": [
      "Стримов: 287\n",
      "Стримов: 288\n",
      "Стримов: 289\n"
     ]
    },
    {
     "data": {
      "application/vnd.jupyter.widget-view+json": {
       "model_id": "2320b60cf6e64667b5ae0246a38c5773",
       "version_major": 2,
       "version_minor": 0
      },
      "text/plain": [
       "Игры:   0%|          | 0/12 [00:00<?, ?it/s]"
      ]
     },
     "metadata": {},
     "output_type": "display_data"
    },
    {
     "name": "stdout",
     "output_type": "stream",
     "text": [
      "Нет данных /game-page?id=25820\n",
      "Нет данных /game-page?id=25820\n",
      "Нет данных /game-page?id=25534\n",
      "Нет данных /game-page?id=25534\n",
      "Стримов: 290\n",
      "Стримов: 291\n",
      "Нет данных /game-page?id=25528\n",
      "Нет данных /game-page?id=25528\n",
      "Нет данных /game-page?id=25526\n",
      "Нет данных /game-page?id=25526\n",
      "Нет данных /game-page?id=25523\n",
      "Нет данных /game-page?id=25523\n"
     ]
    },
    {
     "data": {
      "application/vnd.jupyter.widget-view+json": {
       "model_id": "cb665abaf8524bf1a8e54de974c6c851",
       "version_major": 2,
       "version_minor": 0
      },
      "text/plain": [
       "Игры:   0%|          | 0/12 [00:00<?, ?it/s]"
      ]
     },
     "metadata": {},
     "output_type": "display_data"
    },
    {
     "name": "stdout",
     "output_type": "stream",
     "text": [
      "Стримов: 292\n",
      "Стримов: 293\n",
      "Стримов: 294\n",
      "Стримов: 295\n",
      "Стримов: 296\n"
     ]
    },
    {
     "data": {
      "application/vnd.jupyter.widget-view+json": {
       "model_id": "02f9695438f34f59aa4d5dde25f77af0",
       "version_major": 2,
       "version_minor": 0
      },
      "text/plain": [
       "Игры:   0%|          | 0/12 [00:00<?, ?it/s]"
      ]
     },
     "metadata": {},
     "output_type": "display_data"
    },
    {
     "name": "stdout",
     "output_type": "stream",
     "text": [
      "Нет данных /game-page?id=24972\n",
      "Нет данных /game-page?id=24972\n",
      "Нет данных /game-page?id=24805\n",
      "Нет данных /game-page?id=24805\n",
      "Стримов: 297\n",
      "Стримов: 298\n",
      "Нет данных /game-page?id=24796\n",
      "Нет данных /game-page?id=24796\n",
      "Стримов: 299\n",
      "Стримов: 300\n"
     ]
    },
    {
     "data": {
      "application/vnd.jupyter.widget-view+json": {
       "model_id": "38ec6fc4ecaa402d883524f6f4f9cf83",
       "version_major": 2,
       "version_minor": 0
      },
      "text/plain": [
       "Игры:   0%|          | 0/12 [00:00<?, ?it/s]"
      ]
     },
     "metadata": {},
     "output_type": "display_data"
    },
    {
     "name": "stdout",
     "output_type": "stream",
     "text": [
      "Стримов: 301\n",
      "Стримов: 302\n",
      "Нет данных /game-page?id=24284\n",
      "Нет данных /game-page?id=24284\n",
      "Стримов: 303\n"
     ]
    },
    {
     "data": {
      "application/vnd.jupyter.widget-view+json": {
       "model_id": "09a8b0bb76d34aaa9a015c11564ed81f",
       "version_major": 2,
       "version_minor": 0
      },
      "text/plain": [
       "Игры:   0%|          | 0/12 [00:00<?, ?it/s]"
      ]
     },
     "metadata": {},
     "output_type": "display_data"
    },
    {
     "name": "stdout",
     "output_type": "stream",
     "text": [
      "Стримов: 304\n",
      "Нет данных /game-page?id=24061\n",
      "Нет данных /game-page?id=24061\n",
      "Стримов: 305\n",
      "Нет данных /game-page?id=24060\n",
      "Нет данных /game-page?id=24060\n",
      "Стримов: 306\n",
      "Стримов: 307\n"
     ]
    },
    {
     "data": {
      "application/vnd.jupyter.widget-view+json": {
       "model_id": "13989ca9f5a04946864558ef9fd4c72e",
       "version_major": 2,
       "version_minor": 0
      },
      "text/plain": [
       "Игры:   0%|          | 0/12 [00:00<?, ?it/s]"
      ]
     },
     "metadata": {},
     "output_type": "display_data"
    },
    {
     "name": "stdout",
     "output_type": "stream",
     "text": [
      "Стримов: 308\n",
      "Стримов: 309\n",
      "Нет данных /game-page?id=23656\n",
      "Нет данных /game-page?id=23656\n",
      "Стримов: 310\n"
     ]
    },
    {
     "data": {
      "application/vnd.jupyter.widget-view+json": {
       "model_id": "493f7143b0eb40cfa20f6ef58123467a",
       "version_major": 2,
       "version_minor": 0
      },
      "text/plain": [
       "Игры:   0%|          | 0/12 [00:00<?, ?it/s]"
      ]
     },
     "metadata": {},
     "output_type": "display_data"
    },
    {
     "name": "stdout",
     "output_type": "stream",
     "text": [
      "Стримов: 311\n",
      "Стримов: 312\n",
      "Стримов: 313\n",
      "Стримов: 314\n",
      "Стримов: 315\n",
      "Стримов: 316\n"
     ]
    },
    {
     "data": {
      "application/vnd.jupyter.widget-view+json": {
       "model_id": "ee18d954f719454fa73d8a7c8c88f28a",
       "version_major": 2,
       "version_minor": 0
      },
      "text/plain": [
       "Игры:   0%|          | 0/12 [00:00<?, ?it/s]"
      ]
     },
     "metadata": {},
     "output_type": "display_data"
    },
    {
     "name": "stdout",
     "output_type": "stream",
     "text": [
      "Стримов: 317\n",
      "Стримов: 318\n",
      "Стримов: 319\n",
      "Стримов: 320\n",
      "Стримов: 321\n",
      "Нет данных /game-page?id=22846\n",
      "Нет данных /game-page?id=22846\n",
      "Стримов: 322\n",
      "Стримов: 323\n"
     ]
    },
    {
     "data": {
      "application/vnd.jupyter.widget-view+json": {
       "model_id": "f619a60e49de4d74a71a178b53d9349b",
       "version_major": 2,
       "version_minor": 0
      },
      "text/plain": [
       "Игры:   0%|          | 0/12 [00:00<?, ?it/s]"
      ]
     },
     "metadata": {},
     "output_type": "display_data"
    },
    {
     "name": "stdout",
     "output_type": "stream",
     "text": [
      "Стримов: 324\n",
      "Стримов: 325\n",
      "Стримов: 326\n",
      "Стримов: 327\n",
      "Стримов: 328\n",
      "Стримов: 329\n"
     ]
    },
    {
     "data": {
      "application/vnd.jupyter.widget-view+json": {
       "model_id": "a521114a225c4335aa45a737c7c8dcae",
       "version_major": 2,
       "version_minor": 0
      },
      "text/plain": [
       "Игры:   0%|          | 0/12 [00:00<?, ?it/s]"
      ]
     },
     "metadata": {},
     "output_type": "display_data"
    },
    {
     "name": "stdout",
     "output_type": "stream",
     "text": [
      "Стримов: 330\n",
      "Стримов: 331\n",
      "Стримов: 332\n",
      "Стримов: 333\n"
     ]
    },
    {
     "data": {
      "application/vnd.jupyter.widget-view+json": {
       "model_id": "a3dc27cfd7394a7cb6e5c3c57a2a8c07",
       "version_major": 2,
       "version_minor": 0
      },
      "text/plain": [
       "Игры:   0%|          | 0/12 [00:00<?, ?it/s]"
      ]
     },
     "metadata": {},
     "output_type": "display_data"
    },
    {
     "name": "stdout",
     "output_type": "stream",
     "text": [
      "Стримов: 334\n",
      "Стримов: 335\n",
      "Стримов: 336\n",
      "Стримов: 337\n",
      "Стримов: 338\n"
     ]
    },
    {
     "data": {
      "application/vnd.jupyter.widget-view+json": {
       "model_id": "672c9e9a4e714837b84dec3df0f24eb3",
       "version_major": 2,
       "version_minor": 0
      },
      "text/plain": [
       "Игры:   0%|          | 0/12 [00:00<?, ?it/s]"
      ]
     },
     "metadata": {},
     "output_type": "display_data"
    },
    {
     "name": "stdout",
     "output_type": "stream",
     "text": [
      "Стримов: 339\n",
      "Стримов: 340\n",
      "Стримов: 341\n"
     ]
    },
    {
     "data": {
      "application/vnd.jupyter.widget-view+json": {
       "model_id": "35cb47d35f374759b12e94e25a996ebb",
       "version_major": 2,
       "version_minor": 0
      },
      "text/plain": [
       "Игры:   0%|          | 0/12 [00:00<?, ?it/s]"
      ]
     },
     "metadata": {},
     "output_type": "display_data"
    },
    {
     "name": "stdout",
     "output_type": "stream",
     "text": [
      "Стримов: 342\n",
      "Стримов: 343\n",
      "Стримов: 344\n",
      "Стримов: 345\n",
      "Стримов: 346\n"
     ]
    },
    {
     "data": {
      "application/vnd.jupyter.widget-view+json": {
       "model_id": "eece52d29d2e4bef8d5f9d5a5a7e8d10",
       "version_major": 2,
       "version_minor": 0
      },
      "text/plain": [
       "Игры:   0%|          | 0/12 [00:00<?, ?it/s]"
      ]
     },
     "metadata": {},
     "output_type": "display_data"
    },
    {
     "name": "stdout",
     "output_type": "stream",
     "text": [
      "Стримов: 347\n",
      "Стримов: 348\n",
      "Стримов: 349\n",
      "Стримов: 350\n"
     ]
    },
    {
     "data": {
      "application/vnd.jupyter.widget-view+json": {
       "model_id": "e6e16b13ab434395a82d5cdc7b939ed3",
       "version_major": 2,
       "version_minor": 0
      },
      "text/plain": [
       "Игры:   0%|          | 0/12 [00:00<?, ?it/s]"
      ]
     },
     "metadata": {},
     "output_type": "display_data"
    },
    {
     "name": "stdout",
     "output_type": "stream",
     "text": [
      "Стримов: 351\n",
      "Стримов: 352\n",
      "Стримов: 353\n",
      "Стримов: 354\n"
     ]
    },
    {
     "data": {
      "application/vnd.jupyter.widget-view+json": {
       "model_id": "691e9d2a74fa4c76a34ad18b45db840a",
       "version_major": 2,
       "version_minor": 0
      },
      "text/plain": [
       "Игры:   0%|          | 0/12 [00:00<?, ?it/s]"
      ]
     },
     "metadata": {},
     "output_type": "display_data"
    },
    {
     "name": "stdout",
     "output_type": "stream",
     "text": [
      "Стримов: 355\n",
      "Стримов: 356\n"
     ]
    },
    {
     "data": {
      "application/vnd.jupyter.widget-view+json": {
       "model_id": "246c65d0566d413aae109c5d899c24d6",
       "version_major": 2,
       "version_minor": 0
      },
      "text/plain": [
       "Игры:   0%|          | 0/12 [00:00<?, ?it/s]"
      ]
     },
     "metadata": {},
     "output_type": "display_data"
    },
    {
     "name": "stdout",
     "output_type": "stream",
     "text": [
      "Стримов: 357\n",
      "Стримов: 358\n",
      "Стримов: 359\n",
      "Стримов: 360\n",
      "Стримов: 361\n",
      "Стримов: 362\n"
     ]
    },
    {
     "data": {
      "application/vnd.jupyter.widget-view+json": {
       "model_id": "0c1b4d26bb0c4982952d46316c5021b4",
       "version_major": 2,
       "version_minor": 0
      },
      "text/plain": [
       "Игры:   0%|          | 0/12 [00:00<?, ?it/s]"
      ]
     },
     "metadata": {},
     "output_type": "display_data"
    },
    {
     "name": "stdout",
     "output_type": "stream",
     "text": [
      "Стримов: 363\n",
      "Нет данных /game-page?id=19811\n",
      "Нет данных /game-page?id=19811\n",
      "Стримов: 364\n",
      "Стримов: 365\n",
      "Стримов: 366\n"
     ]
    },
    {
     "data": {
      "application/vnd.jupyter.widget-view+json": {
       "model_id": "fc17677e8d9a49bd916c8e799b317b7d",
       "version_major": 2,
       "version_minor": 0
      },
      "text/plain": [
       "Игры:   0%|          | 0/12 [00:00<?, ?it/s]"
      ]
     },
     "metadata": {},
     "output_type": "display_data"
    },
    {
     "name": "stdout",
     "output_type": "stream",
     "text": [
      "Стримов: 367\n",
      "Стримов: 368\n",
      "Стримов: 369\n",
      "Стримов: 370\n"
     ]
    },
    {
     "data": {
      "application/vnd.jupyter.widget-view+json": {
       "model_id": "40a9289d5a5e40a08a30a0ad5fd0f306",
       "version_major": 2,
       "version_minor": 0
      },
      "text/plain": [
       "Игры:   0%|          | 0/12 [00:00<?, ?it/s]"
      ]
     },
     "metadata": {},
     "output_type": "display_data"
    },
    {
     "name": "stdout",
     "output_type": "stream",
     "text": [
      "Стримов: 371\n",
      "Стримов: 372\n",
      "Стримов: 373\n",
      "Стримов: 374\n",
      "Стримов: 375\n",
      "Стримов: 376\n",
      "Стримов: 377\n",
      "Стримов: 378\n",
      "Стримов: 379\n",
      "Стримов: 380\n",
      "Стримов: 381\n"
     ]
    },
    {
     "data": {
      "application/vnd.jupyter.widget-view+json": {
       "model_id": "c27e034eab16406088ad0a94bacb9e78",
       "version_major": 2,
       "version_minor": 0
      },
      "text/plain": [
       "Игры:   0%|          | 0/12 [00:00<?, ?it/s]"
      ]
     },
     "metadata": {},
     "output_type": "display_data"
    },
    {
     "name": "stdout",
     "output_type": "stream",
     "text": [
      "Стримов: 382\n",
      "Стримов: 383\n",
      "Стримов: 384\n",
      "Стримов: 385\n",
      "Стримов: 386\n",
      "Стримов: 387\n",
      "Стримов: 388\n",
      "Стримов: 389\n",
      "Стримов: 390\n",
      "Стримов: 391\n",
      "Стримов: 392\n",
      "Стримов: 393\n"
     ]
    },
    {
     "data": {
      "application/vnd.jupyter.widget-view+json": {
       "model_id": "82b7e98e437842c68055ab256969a705",
       "version_major": 2,
       "version_minor": 0
      },
      "text/plain": [
       "Игры:   0%|          | 0/12 [00:00<?, ?it/s]"
      ]
     },
     "metadata": {},
     "output_type": "display_data"
    },
    {
     "name": "stdout",
     "output_type": "stream",
     "text": [
      "Стримов: 394\n",
      "Стримов: 395\n",
      "Стримов: 396\n",
      "Стримов: 397\n",
      "Стримов: 398\n",
      "Стримов: 399\n",
      "Стримов: 400\n",
      "Стримов: 401\n",
      "Стримов: 402\n",
      "Стримов: 403\n",
      "Стримов: 404\n",
      "Нет данных /game-page?id=15812\n",
      "Нет данных /game-page?id=15812\n"
     ]
    },
    {
     "data": {
      "application/vnd.jupyter.widget-view+json": {
       "model_id": "34072436572345d5aad9d4d72f17f737",
       "version_major": 2,
       "version_minor": 0
      },
      "text/plain": [
       "Игры:   0%|          | 0/12 [00:00<?, ?it/s]"
      ]
     },
     "metadata": {},
     "output_type": "display_data"
    },
    {
     "name": "stdout",
     "output_type": "stream",
     "text": [
      "Нет данных /game-page?id=15811\n",
      "Нет данных /game-page?id=15811\n",
      "Нет данных /game-page?id=15595\n",
      "Нет данных /game-page?id=15595\n",
      "Нет данных /game-page?id=15593\n",
      "Нет данных /game-page?id=15593\n",
      "Нет данных /game-page?id=15594\n",
      "Нет данных /game-page?id=15594\n",
      "Нет данных /game-page?id=15775\n",
      "Нет данных /game-page?id=15775\n",
      "Нет данных /game-page?id=15591\n",
      "Нет данных /game-page?id=15591\n",
      "Нет данных /game-page?id=15590\n",
      "Нет данных /game-page?id=15590\n",
      "Нет данных /game-page?id=15589\n",
      "Нет данных /game-page?id=15589\n",
      "Нет данных /game-page?id=15375\n",
      "Нет данных /game-page?id=15375\n",
      "Нет данных /game-page?id=15708\n",
      "Нет данных /game-page?id=15708\n",
      "Нет данных /game-page?id=15374\n",
      "Нет данных /game-page?id=15374\n",
      "Нет данных /game-page?id=15372\n",
      "Нет данных /game-page?id=15372\n"
     ]
    },
    {
     "data": {
      "application/vnd.jupyter.widget-view+json": {
       "model_id": "86b35eb6409e40f391b40ec684842ea1",
       "version_major": 2,
       "version_minor": 0
      },
      "text/plain": [
       "Игры:   0%|          | 0/12 [00:00<?, ?it/s]"
      ]
     },
     "metadata": {},
     "output_type": "display_data"
    },
    {
     "name": "stdout",
     "output_type": "stream",
     "text": [
      "Нет данных /game-page?id=15371\n",
      "Нет данных /game-page?id=15371\n",
      "Нет данных /game-page?id=15520\n",
      "Нет данных /game-page?id=15520\n",
      "Нет данных /game-page?id=15370\n",
      "Нет данных /game-page?id=15370\n"
     ]
    },
    {
     "data": {
      "application/vnd.jupyter.widget-view+json": {
       "model_id": "df3af5ba4acc434888e8e6ae57c17c9c",
       "version_major": 2,
       "version_minor": 0
      },
      "text/plain": [
       "Игры:   0%|          | 0/12 [00:00<?, ?it/s]"
      ]
     },
     "metadata": {},
     "output_type": "display_data"
    },
    {
     "data": {
      "application/vnd.jupyter.widget-view+json": {
       "model_id": "1109328f428b447c9d46f931b719e092",
       "version_major": 2,
       "version_minor": 0
      },
      "text/plain": [
       "Игры:   0%|          | 0/12 [00:00<?, ?it/s]"
      ]
     },
     "metadata": {},
     "output_type": "display_data"
    },
    {
     "data": {
      "application/vnd.jupyter.widget-view+json": {
       "model_id": "123072b5b66b48fca61b59e851b92f1b",
       "version_major": 2,
       "version_minor": 0
      },
      "text/plain": [
       "Игры:   0%|          | 0/12 [00:00<?, ?it/s]"
      ]
     },
     "metadata": {},
     "output_type": "display_data"
    },
    {
     "data": {
      "application/vnd.jupyter.widget-view+json": {
       "model_id": "d8a532c7f97045969c53a90ab549e441",
       "version_major": 2,
       "version_minor": 0
      },
      "text/plain": [
       "Игры:   0%|          | 0/12 [00:00<?, ?it/s]"
      ]
     },
     "metadata": {},
     "output_type": "display_data"
    },
    {
     "data": {
      "application/vnd.jupyter.widget-view+json": {
       "model_id": "f002540c633d4defb8c048d8740b1c19",
       "version_major": 2,
       "version_minor": 0
      },
      "text/plain": [
       "Игры:   0%|          | 0/12 [00:00<?, ?it/s]"
      ]
     },
     "metadata": {},
     "output_type": "display_data"
    },
    {
     "data": {
      "application/vnd.jupyter.widget-view+json": {
       "model_id": "927c9a27367348fea056bbbdec33d3b3",
       "version_major": 2,
       "version_minor": 0
      },
      "text/plain": [
       "Игры:   0%|          | 0/12 [00:00<?, ?it/s]"
      ]
     },
     "metadata": {},
     "output_type": "display_data"
    },
    {
     "data": {
      "application/vnd.jupyter.widget-view+json": {
       "model_id": "ff411a8d5be7407b96f95204290a8e03",
       "version_major": 2,
       "version_minor": 0
      },
      "text/plain": [
       "Игры:   0%|          | 0/12 [00:00<?, ?it/s]"
      ]
     },
     "metadata": {},
     "output_type": "display_data"
    },
    {
     "data": {
      "application/vnd.jupyter.widget-view+json": {
       "model_id": "1ec5d86235a645389846ef3103337f67",
       "version_major": 2,
       "version_minor": 0
      },
      "text/plain": [
       "Игры:   0%|          | 0/12 [00:00<?, ?it/s]"
      ]
     },
     "metadata": {},
     "output_type": "display_data"
    },
    {
     "data": {
      "application/vnd.jupyter.widget-view+json": {
       "model_id": "a221fcd577374616a1c32b6cae7628fc",
       "version_major": 2,
       "version_minor": 0
      },
      "text/plain": [
       "Игры:   0%|          | 0/12 [00:00<?, ?it/s]"
      ]
     },
     "metadata": {},
     "output_type": "display_data"
    },
    {
     "data": {
      "application/vnd.jupyter.widget-view+json": {
       "model_id": "f072eceb052844e4baf79624fe11b934",
       "version_major": 2,
       "version_minor": 0
      },
      "text/plain": [
       "Игры:   0%|          | 0/12 [00:00<?, ?it/s]"
      ]
     },
     "metadata": {},
     "output_type": "display_data"
    },
    {
     "data": {
      "application/vnd.jupyter.widget-view+json": {
       "model_id": "d1a057d4a22f486db362fe15ba7b794e",
       "version_major": 2,
       "version_minor": 0
      },
      "text/plain": [
       "Игры:   0%|          | 0/12 [00:00<?, ?it/s]"
      ]
     },
     "metadata": {},
     "output_type": "display_data"
    },
    {
     "name": "stdout",
     "output_type": "stream",
     "text": [
      "Нет данных /game-page?id=9956\n",
      "Нет данных /game-page?id=9956\n"
     ]
    },
    {
     "data": {
      "application/vnd.jupyter.widget-view+json": {
       "model_id": "165829c3b4a9405ba0c5728456022270",
       "version_major": 2,
       "version_minor": 0
      },
      "text/plain": [
       "Игры:   0%|          | 0/12 [00:00<?, ?it/s]"
      ]
     },
     "metadata": {},
     "output_type": "display_data"
    },
    {
     "data": {
      "application/vnd.jupyter.widget-view+json": {
       "model_id": "f8b615c2fa6d492fb830d2fa5e0dc69d",
       "version_major": 2,
       "version_minor": 0
      },
      "text/plain": [
       "Игры:   0%|          | 0/12 [00:00<?, ?it/s]"
      ]
     },
     "metadata": {},
     "output_type": "display_data"
    },
    {
     "name": "stdout",
     "output_type": "stream",
     "text": [
      "Нет данных /game-page?id=9535\n",
      "Нет данных /game-page?id=9535\n"
     ]
    },
    {
     "data": {
      "application/vnd.jupyter.widget-view+json": {
       "model_id": "265058c34cd346ccaf1d236b8899ba8b",
       "version_major": 2,
       "version_minor": 0
      },
      "text/plain": [
       "Игры:   0%|          | 0/12 [00:00<?, ?it/s]"
      ]
     },
     "metadata": {},
     "output_type": "display_data"
    },
    {
     "name": "stdout",
     "output_type": "stream",
     "text": [
      "Нет данных /game-page?id=8693\n",
      "Нет данных /game-page?id=8693\n",
      "Нет данных /game-page?id=8690\n",
      "Нет данных /game-page?id=8690\n",
      "Нет данных /game-page?id=8682\n",
      "Нет данных /game-page?id=8682\n",
      "Нет данных /game-page?id=8566\n",
      "Нет данных /game-page?id=8566\n",
      "Нет данных /game-page?id=8565\n",
      "Нет данных /game-page?id=8565\n",
      "Нет данных /game-page?id=8564\n",
      "Нет данных /game-page?id=8564\n"
     ]
    }
   ],
   "source": [
    "final_table = pd.DataFrame()\n",
    "no_inf = []\n",
    "stream_count = 0\n",
    "\n",
    "for page_number in tqdm(range(1, 170), desc='Страница'):\n",
    "    quiz_links = GetPageLinks(page_number)\n",
    "    for link in tqdm(quiz_links, desc='Игры'):\n",
    "        error = 0\n",
    "        for i in range(2):\n",
    "            try:\n",
    "                soup, exam = GetSoup(link)\n",
    "                if not exam:\n",
    "                    title, game_number, bar_name, bar_adress, date = GetGameInformation(soup)\n",
    "                    table = GetGameTable(link)\n",
    "                    table = GetFinalTable(table, title, game_number, bar_name, bar_adress, date, link)\n",
    "                    final_table = pd.concat([final_table, table], ignore_index=True)\n",
    "\n",
    "                else:\n",
    "                    stream_count += 1\n",
    "                    print('Стримов: {}'.format(stream_count))\n",
    "                break\n",
    "            except:\n",
    "                print('Нет данных {}'.format(link))\n",
    "                error += 1\n",
    "                continue\n",
    "        \n",
    "        #print(type(no_inf))\n",
    "        if error == 2:\n",
    "            no_inf.append(link)\n",
    "        time.sleep(0.2)"
   ]
  },
  {
   "cell_type": "code",
   "execution_count": 112,
   "id": "686c175c",
   "metadata": {},
   "outputs": [],
   "source": [
    "final_table.to_csv('qp_data_result.csv', index=True)"
   ]
  }
 ],
 "metadata": {
  "kernelspec": {
   "display_name": "Python 3 (ipykernel)",
   "language": "python",
   "name": "python3"
  },
  "language_info": {
   "codemirror_mode": {
    "name": "ipython",
    "version": 3
   },
   "file_extension": ".py",
   "mimetype": "text/x-python",
   "name": "python",
   "nbconvert_exporter": "python",
   "pygments_lexer": "ipython3",
   "version": "3.9.13"
  }
 },
 "nbformat": 4,
 "nbformat_minor": 5
}
